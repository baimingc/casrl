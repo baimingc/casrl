{
 "cells": [
  {
   "cell_type": "code",
   "execution_count": 1,
   "metadata": {},
   "outputs": [],
   "source": [
    "'''\n",
    "@Author:\n",
    "@Email: \n",
    "@Date: 2020-04-01 01:26:48\n",
    "@LastEditTime: 2020-04-16 00:15:58\n",
    "@Description: \n",
    "'''\n",
    "\n",
    "import time, datetime\n",
    "import copy\n",
    "import os\n",
    "import sys\n",
    "import warnings\n",
    "#warnings.filterwarnings(\"ignore\", category=UserWarning)\n",
    "#warnings.filterwarnings(\"ignore\", category=RuntimeWarning)\n",
    "\n",
    "import numpy as np\n",
    "from loguru import logger\n",
    "import yaml\n",
    "\n",
    "import gym\n",
    "sys.path.append('./envs/cartpole-envs')\n",
    "sys.path.append('./envs/highway-env')\n",
    "import cartpole_envs\n",
    "#import highway_env\n",
    "\n",
    "from utils import plot_reward, plot_index, dumb_reward_plot\n",
    "from mpc.mpc_cp import MPC\n",
    "\n",
    "# all models\n",
    "# from dpgpmm.DPGPMM import DPGPMM\n",
    "from baselines.SingleGP import SingleGP\n",
    "# from baselines.SingleSparseGP import SingleSparseGP\n",
    "# from baselines.NN import NN\n",
    "\n",
    "\n",
    "def prepare_dynamics(gym_config):\n",
    "    dynamics_name = gym_config['dynamics_name']\n",
    "    seed = gym_config['seed']\n",
    "    dynamics_set = []\n",
    "    for i in range(len(dynamics_name)):\n",
    "        env = gym.make(dynamics_name[i])\n",
    "        # env.seed(seed)\n",
    "        dynamics_set.append(gym.make(dynamics_name[i]))\n",
    "    \n",
    "    # use pre-defined env sequence\n",
    "    task = [dynamics_set[i] for i in gym_config['task_dynamics_list']]\n",
    "    return task\n",
    "\n",
    "\n",
    "def load_config(config_path=\"config.yml\"):\n",
    "    if os.path.isfile(config_path):\n",
    "        f = open(config_path)\n",
    "        return yaml.load(f, Loader=yaml.FullLoader)\n",
    "    else:\n",
    "        raise Exception(\"Configuration file is not found in the path: \"+config_path)\n",
    "\n"
   ]
  },
  {
   "cell_type": "code",
   "execution_count": 2,
   "metadata": {},
   "outputs": [
    {
     "name": "stderr",
     "output_type": "stream",
     "text": [
      "2020-07-02 16:00:23.563 | INFO     | __main__:<module>:17 - Using model: SingleGP\n"
     ]
    }
   ],
   "source": [
    "\n",
    "# dynamic model configuration\n",
    "# config = load_config('config_DPGP_MBRL.yml')\n",
    "config = load_config('./config/config_swingup.yml')\n",
    "dpgp_config = config['DPGP_config']\n",
    "gp_config = config['SingleGP_config']\n",
    "sparse_gp_config = config['SingleSparseGP_config']\n",
    "nn_config = config['NN_config']\n",
    "mpc_config = config['mpc_config']\n",
    "gym_config = config['gym_config']\n",
    "render = gym_config['render']\n",
    "\n",
    "# initialize the mixture model\n",
    "# model = DPGPMM(dpgp_config=dpgp_config)\n",
    "# model = SingleSparseGP(sparse_gp_config=sparse_gp_config)\n",
    "model = SingleGP(gp_config=gp_config)\n",
    "# model = NN(NN_config=nn_config)\n",
    "logger.info('Using model: {}', model.name)\n",
    "\n",
    "# initial MPC controller\n",
    "mpc_controller = MPC(mpc_config=mpc_config)\n",
    "\n",
    "# prepare task\n",
    "# the task is solved, if each dynamic is solved\n",
    "task = prepare_dynamics(gym_config)\n",
    "\n",
    "\"\"\"start DPGP-MBRL\"\"\"\n",
    "data_buffer = []\n",
    "label_list = []\n",
    "subtask_list = []\n",
    "subtask_reward = []\n",
    "subtask_succ_count = [0]\n",
    "comp_trainable = [1]\n",
    "task_reward = []\n",
    "trainable = True\n",
    "task_solved = False\n",
    "subtask_solved = [False, False, False, False]\n",
    "total_count = 0\n",
    "task_epi = 0\n",
    "log = []\n",
    "log_name = None\n",
    "\n",
    "# if model.name == 'NN':\n",
    "#     pretrain_episodes = 10\n",
    "#     print('pretrain~~~~~~~~~~~~~~~~~~~~~~~')\n",
    "#     for task_idx in range(len(task)):\n",
    "#         env = task[task_idx]\n",
    "#         # data collection\n",
    "#         for epi in range(pretrain_episodes):\n",
    "#             obs = env.reset()\n",
    "#             done = False\n",
    "#             mpc_controller.reset()\n",
    "#             while not done:\n",
    "#                 action = env.action_space.sample()\n",
    "#                 obs_next, reward, done, state_next = env.step(action)\n",
    "#                 model.data_process([0, obs, action, obs_next - obs])\n",
    "#                 obs = copy.deepcopy(obs_next)\n"
   ]
  },
  {
   "cell_type": "code",
   "execution_count": 6,
   "metadata": {
    "scrolled": false
   },
   "outputs": [
    {
     "name": "stdout",
     "output_type": "stream",
     "text": [
      "subtask:  0 , epi:  0\n"
     ]
    },
    {
     "name": "stderr",
     "output_type": "stream",
     "text": [
      "2020-07-02 21:25:22.438 | WARNING  | baselines.SingleGP:fit:216 - Running MC sample inducing method\n"
     ]
    },
    {
     "name": "stdout",
     "output_type": "stream",
     "text": [
      "pole_mass:  0.3 pole_length:  0.3 step:  200 acc_reward:  62.26636827446562 violation_rate:  0.105\n",
      "subtask:  0 , epi:  0\n"
     ]
    },
    {
     "name": "stderr",
     "output_type": "stream",
     "text": [
      "2020-07-02 21:29:07.521 | WARNING  | baselines.SingleGP:fit:216 - Running MC sample inducing method\n"
     ]
    },
    {
     "name": "stdout",
     "output_type": "stream",
     "text": [
      "pole_mass:  0.3 pole_length:  0.7 step:  200 acc_reward:  72.43893868624312 violation_rate:  0.13\n",
      "subtask:  0 , epi:  0\n"
     ]
    },
    {
     "name": "stderr",
     "output_type": "stream",
     "text": [
      "2020-07-02 21:32:38.206 | WARNING  | baselines.SingleGP:fit:216 - Running MC sample inducing method\n"
     ]
    },
    {
     "name": "stdout",
     "output_type": "stream",
     "text": [
      "pole_mass:  0.3 pole_length:  0.7 step:  200 acc_reward:  89.32001174075126 violation_rate:  0.13\n",
      "subtask:  0 , epi:  0\n"
     ]
    },
    {
     "name": "stderr",
     "output_type": "stream",
     "text": [
      "2020-07-02 21:36:27.018 | WARNING  | baselines.SingleGP:fit:216 - Running MC sample inducing method\n"
     ]
    },
    {
     "name": "stdout",
     "output_type": "stream",
     "text": [
      "pole_mass:  0.3 pole_length:  0.3 step:  200 acc_reward:  69.36796178562388 violation_rate:  0.135\n",
      "subtask:  0 , epi:  0\n"
     ]
    },
    {
     "name": "stderr",
     "output_type": "stream",
     "text": [
      "2020-07-02 21:40:27.684 | WARNING  | baselines.SingleGP:fit:216 - Running MC sample inducing method\n"
     ]
    },
    {
     "name": "stdout",
     "output_type": "stream",
     "text": [
      "pole_mass:  0.7 pole_length:  0.3 step:  200 acc_reward:  50.63889968672497 violation_rate:  0.03\n",
      "subtask:  0 , epi:  0\n"
     ]
    },
    {
     "name": "stderr",
     "output_type": "stream",
     "text": [
      "2020-07-02 21:44:11.435 | WARNING  | baselines.SingleGP:fit:216 - Running MC sample inducing method\n"
     ]
    },
    {
     "name": "stdout",
     "output_type": "stream",
     "text": [
      "pole_mass:  0.7 pole_length:  0.7 step:  200 acc_reward:  66.18647839857552 violation_rate:  0.185\n",
      "subtask:  0 , epi:  0\n"
     ]
    },
    {
     "name": "stderr",
     "output_type": "stream",
     "text": [
      "2020-07-02 21:48:04.276 | WARNING  | baselines.SingleGP:fit:216 - Running MC sample inducing method\n"
     ]
    },
    {
     "name": "stdout",
     "output_type": "stream",
     "text": [
      "pole_mass:  0.7 pole_length:  0.3 step:  200 acc_reward:  73.51658579494577 violation_rate:  0.005\n",
      "subtask:  0 , epi:  0\n"
     ]
    },
    {
     "name": "stderr",
     "output_type": "stream",
     "text": [
      "2020-07-02 21:52:08.504 | WARNING  | baselines.SingleGP:fit:216 - Running MC sample inducing method\n"
     ]
    },
    {
     "name": "stdout",
     "output_type": "stream",
     "text": [
      "pole_mass:  0.7 pole_length:  0.3 step:  200 acc_reward:  68.45619255891003 violation_rate:  0.01\n",
      "subtask:  0 , epi:  0\n"
     ]
    },
    {
     "name": "stderr",
     "output_type": "stream",
     "text": [
      "2020-07-02 21:56:13.132 | WARNING  | baselines.SingleGP:fit:216 - Running MC sample inducing method\n"
     ]
    },
    {
     "name": "stdout",
     "output_type": "stream",
     "text": [
      "pole_mass:  0.3 pole_length:  0.3 step:  200 acc_reward:  94.6011993194966 violation_rate:  0.0\n",
      "subtask:  0 , epi:  0\n"
     ]
    },
    {
     "name": "stderr",
     "output_type": "stream",
     "text": [
      "2020-07-02 22:00:23.953 | WARNING  | baselines.SingleGP:fit:216 - Running MC sample inducing method\n"
     ]
    },
    {
     "name": "stdout",
     "output_type": "stream",
     "text": [
      "pole_mass:  0.3 pole_length:  0.3 step:  200 acc_reward:  74.16306601941062 violation_rate:  0.045\n",
      "subtask:  0 , epi:  0\n"
     ]
    },
    {
     "name": "stderr",
     "output_type": "stream",
     "text": [
      "2020-07-02 22:04:04.867 | WARNING  | baselines.SingleGP:fit:216 - Running MC sample inducing method\n"
     ]
    },
    {
     "name": "stdout",
     "output_type": "stream",
     "text": [
      "pole_mass:  0.3 pole_length:  0.7 step:  200 acc_reward:  91.92438739704546 violation_rate:  0.11\n",
      "subtask:  0 , epi:  0\n"
     ]
    },
    {
     "name": "stderr",
     "output_type": "stream",
     "text": [
      "2020-07-02 22:07:52.663 | WARNING  | baselines.SingleGP:fit:216 - Running MC sample inducing method\n"
     ]
    },
    {
     "name": "stdout",
     "output_type": "stream",
     "text": [
      "pole_mass:  0.7 pole_length:  0.3 step:  200 acc_reward:  86.32355067632407 violation_rate:  0.0\n",
      "subtask:  0 , epi:  0\n"
     ]
    },
    {
     "name": "stderr",
     "output_type": "stream",
     "text": [
      "2020-07-02 22:11:55.855 | WARNING  | baselines.SingleGP:fit:216 - Running MC sample inducing method\n"
     ]
    },
    {
     "name": "stdout",
     "output_type": "stream",
     "text": [
      "pole_mass:  0.7 pole_length:  0.3 step:  168 acc_reward:  47.64822166079517 violation_rate:  0.08333333333333333\n",
      "subtask:  0 , epi:  0\n"
     ]
    },
    {
     "name": "stderr",
     "output_type": "stream",
     "text": [
      "2020-07-02 22:15:52.208 | WARNING  | baselines.SingleGP:fit:216 - Running MC sample inducing method\n"
     ]
    },
    {
     "name": "stdout",
     "output_type": "stream",
     "text": [
      "pole_mass:  0.3 pole_length:  0.3 step:  200 acc_reward:  91.9533245551284 violation_rate:  0.025\n",
      "subtask:  0 , epi:  0\n"
     ]
    },
    {
     "name": "stderr",
     "output_type": "stream",
     "text": [
      "2020-07-02 22:19:59.020 | WARNING  | baselines.SingleGP:fit:216 - Running MC sample inducing method\n"
     ]
    },
    {
     "name": "stdout",
     "output_type": "stream",
     "text": [
      "pole_mass:  0.3 pole_length:  0.3 step:  200 acc_reward:  78.14014560004516 violation_rate:  0.055\n",
      "subtask:  0 , epi:  0\n"
     ]
    },
    {
     "name": "stderr",
     "output_type": "stream",
     "text": [
      "2020-07-02 22:23:42.483 | WARNING  | baselines.SingleGP:fit:216 - Running MC sample inducing method\n"
     ]
    },
    {
     "name": "stdout",
     "output_type": "stream",
     "text": [
      "pole_mass:  0.7 pole_length:  0.7 step:  200 acc_reward:  52.343707242813856 violation_rate:  0.165\n",
      "subtask:  0 , epi:  0\n"
     ]
    },
    {
     "name": "stderr",
     "output_type": "stream",
     "text": [
      "2020-07-02 22:27:44.010 | WARNING  | baselines.SingleGP:fit:216 - Running MC sample inducing method\n"
     ]
    },
    {
     "name": "stdout",
     "output_type": "stream",
     "text": [
      "pole_mass:  0.3 pole_length:  0.7 step:  200 acc_reward:  61.85695950058952 violation_rate:  0.195\n",
      "subtask:  0 , epi:  0\n"
     ]
    },
    {
     "name": "stderr",
     "output_type": "stream",
     "text": [
      "2020-07-02 22:31:45.795 | WARNING  | baselines.SingleGP:fit:216 - Running MC sample inducing method\n"
     ]
    },
    {
     "name": "stdout",
     "output_type": "stream",
     "text": [
      "pole_mass:  0.7 pole_length:  0.3 step:  200 acc_reward:  72.59584282989331 violation_rate:  0.015\n",
      "subtask:  0 , epi:  0\n"
     ]
    },
    {
     "name": "stderr",
     "output_type": "stream",
     "text": [
      "2020-07-02 22:35:41.827 | WARNING  | baselines.SingleGP:fit:216 - Running MC sample inducing method\n"
     ]
    },
    {
     "name": "stdout",
     "output_type": "stream",
     "text": [
      "pole_mass:  0.7 pole_length:  0.3 step:  200 acc_reward:  56.99216411163172 violation_rate:  0.045\n",
      "subtask:  0 , epi:  0\n"
     ]
    },
    {
     "name": "stderr",
     "output_type": "stream",
     "text": [
      "2020-07-02 22:39:28.703 | WARNING  | baselines.SingleGP:fit:216 - Running MC sample inducing method\n"
     ]
    },
    {
     "name": "stdout",
     "output_type": "stream",
     "text": [
      "pole_mass:  0.7 pole_length:  0.7 step:  200 acc_reward:  47.850847317001765 violation_rate:  0.215\n",
      "subtask:  0 , epi:  0\n"
     ]
    },
    {
     "name": "stderr",
     "output_type": "stream",
     "text": [
      "2020-07-02 22:43:09.545 | WARNING  | baselines.SingleGP:fit:216 - Running MC sample inducing method\n"
     ]
    },
    {
     "name": "stdout",
     "output_type": "stream",
     "text": [
      "pole_mass:  0.3 pole_length:  0.7 step:  200 acc_reward:  61.90824068257336 violation_rate:  0.1\n",
      "subtask:  0 , epi:  0\n"
     ]
    },
    {
     "name": "stderr",
     "output_type": "stream",
     "text": [
      "2020-07-02 22:46:51.253 | WARNING  | baselines.SingleGP:fit:216 - Running MC sample inducing method\n"
     ]
    },
    {
     "name": "stdout",
     "output_type": "stream",
     "text": [
      "pole_mass:  0.3 pole_length:  0.7 step:  200 acc_reward:  62.92355314461723 violation_rate:  0.125\n",
      "subtask:  0 , epi:  0\n"
     ]
    },
    {
     "name": "stderr",
     "output_type": "stream",
     "text": [
      "2020-07-02 22:50:59.962 | WARNING  | baselines.SingleGP:fit:216 - Running MC sample inducing method\n"
     ]
    },
    {
     "name": "stdout",
     "output_type": "stream",
     "text": [
      "pole_mass:  0.7 pole_length:  0.3 step:  200 acc_reward:  46.47669039119082 violation_rate:  0.1\n",
      "subtask:  0 , epi:  0\n"
     ]
    },
    {
     "name": "stderr",
     "output_type": "stream",
     "text": [
      "2020-07-02 22:55:18.263 | WARNING  | baselines.SingleGP:fit:216 - Running MC sample inducing method\n"
     ]
    },
    {
     "name": "stdout",
     "output_type": "stream",
     "text": [
      "pole_mass:  0.3 pole_length:  0.3 step:  200 acc_reward:  63.6587053930593 violation_rate:  0.01\n",
      "subtask:  0 , epi:  0\n"
     ]
    },
    {
     "name": "stderr",
     "output_type": "stream",
     "text": [
      "2020-07-02 22:59:05.759 | WARNING  | baselines.SingleGP:fit:216 - Running MC sample inducing method\n"
     ]
    },
    {
     "name": "stdout",
     "output_type": "stream",
     "text": [
      "pole_mass:  0.7 pole_length:  0.7 step:  200 acc_reward:  41.18425609301605 violation_rate:  0.15\n",
      "subtask:  0 , epi:  0\n"
     ]
    },
    {
     "name": "stderr",
     "output_type": "stream",
     "text": [
      "2020-07-02 23:03:24.649 | WARNING  | baselines.SingleGP:fit:216 - Running MC sample inducing method\n"
     ]
    },
    {
     "name": "stdout",
     "output_type": "stream",
     "text": [
      "pole_mass:  0.3 pole_length:  0.3 step:  200 acc_reward:  85.10054747974502 violation_rate:  0.005\n",
      "subtask:  0 , epi:  0\n"
     ]
    },
    {
     "name": "stderr",
     "output_type": "stream",
     "text": [
      "2020-07-02 23:07:09.360 | WARNING  | baselines.SingleGP:fit:216 - Running MC sample inducing method\n"
     ]
    },
    {
     "name": "stdout",
     "output_type": "stream",
     "text": [
      "pole_mass:  0.3 pole_length:  0.7 step:  200 acc_reward:  62.780976500366 violation_rate:  0.1\n",
      "subtask:  0 , epi:  0\n"
     ]
    },
    {
     "name": "stderr",
     "output_type": "stream",
     "text": [
      "2020-07-02 23:11:34.218 | WARNING  | baselines.SingleGP:fit:216 - Running MC sample inducing method\n"
     ]
    },
    {
     "name": "stdout",
     "output_type": "stream",
     "text": [
      "pole_mass:  0.3 pole_length:  0.3 step:  200 acc_reward:  68.66475507768348 violation_rate:  0.025\n",
      "subtask:  0 , epi:  0\n"
     ]
    },
    {
     "name": "stderr",
     "output_type": "stream",
     "text": [
      "2020-07-02 23:15:38.416 | WARNING  | baselines.SingleGP:fit:216 - Running MC sample inducing method\n"
     ]
    },
    {
     "name": "stdout",
     "output_type": "stream",
     "text": [
      "pole_mass:  0.7 pole_length:  0.7 step:  200 acc_reward:  65.16254920924759 violation_rate:  0.1\n",
      "subtask:  0 , epi:  0\n"
     ]
    },
    {
     "name": "stderr",
     "output_type": "stream",
     "text": [
      "2020-07-02 23:20:02.302 | WARNING  | baselines.SingleGP:fit:216 - Running MC sample inducing method\n"
     ]
    },
    {
     "name": "stdout",
     "output_type": "stream",
     "text": [
      "pole_mass:  0.7 pole_length:  0.3 step:  200 acc_reward:  75.82195708786121 violation_rate:  0.04\n",
      "subtask:  0 , epi:  0\n"
     ]
    },
    {
     "name": "stderr",
     "output_type": "stream",
     "text": [
      "2020-07-02 23:24:35.179 | WARNING  | baselines.SingleGP:fit:216 - Running MC sample inducing method\n"
     ]
    },
    {
     "name": "stdout",
     "output_type": "stream",
     "text": [
      "pole_mass:  0.7 pole_length:  0.3 step:  200 acc_reward:  85.99823496264722 violation_rate:  0.005\n",
      "subtask:  0 , epi:  0\n"
     ]
    },
    {
     "name": "stderr",
     "output_type": "stream",
     "text": [
      "2020-07-02 23:28:34.671 | WARNING  | baselines.SingleGP:fit:216 - Running MC sample inducing method\n"
     ]
    },
    {
     "name": "stdout",
     "output_type": "stream",
     "text": [
      "pole_mass:  0.7 pole_length:  0.7 step:  200 acc_reward:  47.51629461549416 violation_rate:  0.12\n",
      "subtask:  0 , epi:  0\n"
     ]
    },
    {
     "name": "stderr",
     "output_type": "stream",
     "text": [
      "2020-07-02 23:33:02.963 | WARNING  | baselines.SingleGP:fit:216 - Running MC sample inducing method\n"
     ]
    },
    {
     "name": "stdout",
     "output_type": "stream",
     "text": [
      "pole_mass:  0.7 pole_length:  0.3 step:  200 acc_reward:  87.67513948039952 violation_rate:  0.03\n",
      "subtask:  0 , epi:  0\n"
     ]
    },
    {
     "name": "stderr",
     "output_type": "stream",
     "text": [
      "2020-07-02 23:36:58.864 | WARNING  | baselines.SingleGP:fit:216 - Running MC sample inducing method\n"
     ]
    },
    {
     "name": "stdout",
     "output_type": "stream",
     "text": [
      "pole_mass:  0.7 pole_length:  0.7 step:  200 acc_reward:  48.8883164238663 violation_rate:  0.17\n",
      "subtask:  0 , epi:  0\n"
     ]
    },
    {
     "name": "stderr",
     "output_type": "stream",
     "text": [
      "2020-07-02 23:41:13.288 | WARNING  | baselines.SingleGP:fit:216 - Running MC sample inducing method\n"
     ]
    },
    {
     "name": "stdout",
     "output_type": "stream",
     "text": [
      "pole_mass:  0.7 pole_length:  0.7 step:  200 acc_reward:  57.953838841309825 violation_rate:  0.135\n",
      "subtask:  0 , epi:  0\n"
     ]
    },
    {
     "name": "stderr",
     "output_type": "stream",
     "text": [
      "2020-07-02 23:45:37.615 | WARNING  | baselines.SingleGP:fit:216 - Running MC sample inducing method\n"
     ]
    },
    {
     "name": "stdout",
     "output_type": "stream",
     "text": [
      "pole_mass:  0.3 pole_length:  0.7 step:  200 acc_reward:  62.37165794057451 violation_rate:  0.165\n",
      "subtask:  0 , epi:  0\n"
     ]
    },
    {
     "name": "stderr",
     "output_type": "stream",
     "text": [
      "2020-07-02 23:49:29.698 | WARNING  | baselines.SingleGP:fit:216 - Running MC sample inducing method\n"
     ]
    },
    {
     "name": "stdout",
     "output_type": "stream",
     "text": [
      "pole_mass:  0.3 pole_length:  0.7 step:  200 acc_reward:  73.85644287738391 violation_rate:  0.065\n",
      "subtask:  0 , epi:  0\n"
     ]
    },
    {
     "name": "stderr",
     "output_type": "stream",
     "text": [
      "2020-07-02 23:53:18.068 | WARNING  | baselines.SingleGP:fit:216 - Running MC sample inducing method\n"
     ]
    },
    {
     "name": "stdout",
     "output_type": "stream",
     "text": [
      "pole_mass:  0.3 pole_length:  0.7 step:  200 acc_reward:  77.39903670904545 violation_rate:  0.205\n",
      "subtask:  0 , epi:  0\n"
     ]
    },
    {
     "name": "stderr",
     "output_type": "stream",
     "text": [
      "2020-07-02 23:57:07.259 | WARNING  | baselines.SingleGP:fit:216 - Running MC sample inducing method\n"
     ]
    },
    {
     "name": "stdout",
     "output_type": "stream",
     "text": [
      "pole_mass:  0.7 pole_length:  0.7 step:  200 acc_reward:  57.00557344296831 violation_rate:  0.12\n",
      "subtask:  0 , epi:  0\n"
     ]
    },
    {
     "name": "stderr",
     "output_type": "stream",
     "text": [
      "2020-07-03 00:01:08.173 | WARNING  | baselines.SingleGP:fit:216 - Running MC sample inducing method\n"
     ]
    },
    {
     "name": "stdout",
     "output_type": "stream",
     "text": [
      "pole_mass:  0.3 pole_length:  0.3 step:  200 acc_reward:  55.64597673909398 violation_rate:  0.155\n",
      "subtask:  0 , epi:  0\n"
     ]
    },
    {
     "name": "stderr",
     "output_type": "stream",
     "text": [
      "2020-07-03 00:05:21.357 | WARNING  | baselines.SingleGP:fit:216 - Running MC sample inducing method\n"
     ]
    },
    {
     "name": "stdout",
     "output_type": "stream",
     "text": [
      "pole_mass:  0.3 pole_length:  0.3 step:  200 acc_reward:  65.6224263471416 violation_rate:  0.135\n",
      "subtask:  0 , epi:  0\n"
     ]
    },
    {
     "name": "stderr",
     "output_type": "stream",
     "text": [
      "2020-07-03 00:08:59.472 | WARNING  | baselines.SingleGP:fit:216 - Running MC sample inducing method\n"
     ]
    },
    {
     "name": "stdout",
     "output_type": "stream",
     "text": [
      "pole_mass:  0.7 pole_length:  0.7 step:  200 acc_reward:  54.53695927483135 violation_rate:  0.13\n",
      "subtask:  0 , epi:  0\n"
     ]
    },
    {
     "name": "stderr",
     "output_type": "stream",
     "text": [
      "2020-07-03 00:12:59.667 | WARNING  | baselines.SingleGP:fit:216 - Running MC sample inducing method\n"
     ]
    },
    {
     "name": "stdout",
     "output_type": "stream",
     "text": [
      "pole_mass:  0.3 pole_length:  0.7 step:  200 acc_reward:  56.18356677239605 violation_rate:  0.05\n",
      "subtask:  0 , epi:  0\n"
     ]
    },
    {
     "name": "stderr",
     "output_type": "stream",
     "text": [
      "2020-07-03 00:16:33.653 | WARNING  | baselines.SingleGP:fit:216 - Running MC sample inducing method\n"
     ]
    },
    {
     "name": "stdout",
     "output_type": "stream",
     "text": [
      "pole_mass:  0.3 pole_length:  0.7 step:  200 acc_reward:  53.244395153475836 violation_rate:  0.0\n",
      "subtask:  0 , epi:  0\n"
     ]
    },
    {
     "name": "stderr",
     "output_type": "stream",
     "text": [
      "2020-07-03 00:20:00.707 | WARNING  | baselines.SingleGP:fit:216 - Running MC sample inducing method\n"
     ]
    },
    {
     "name": "stdout",
     "output_type": "stream",
     "text": [
      "pole_mass:  0.3 pole_length:  0.7 step:  200 acc_reward:  52.80046965674932 violation_rate:  0.075\n"
     ]
    },
    {
     "name": "stderr",
     "output_type": "stream",
     "text": [
      "2020-07-03 00:24:20.565 | WARNING  | baselines.SingleGP:fit:216 - Running MC sample inducing method\n"
     ]
    },
    {
     "name": "stdout",
     "output_type": "stream",
     "text": [
      "subtask:  0 , epi:  0\n",
      "pole_mass:  0.7 pole_length:  0.3 step:  200 acc_reward:  58.08596468887019 violation_rate:  0.015\n",
      "subtask:  0 , epi:  0\n",
      "pole_mass:  0.3 pole_length:  0.3 step:  200 acc_reward:  66.70371688590542 violation_rate:  0.01\n",
      "subtask:  0 , epi:  0\n"
     ]
    },
    {
     "name": "stderr",
     "output_type": "stream",
     "text": [
      "2020-07-03 00:28:53.856 | WARNING  | baselines.SingleGP:fit:216 - Running MC sample inducing method\n"
     ]
    },
    {
     "name": "stdout",
     "output_type": "stream",
     "text": [
      "pole_mass:  0.7 pole_length:  0.3 step:  200 acc_reward:  54.920668299320035 violation_rate:  0.015\n",
      "subtask:  0 , epi:  0\n"
     ]
    },
    {
     "name": "stderr",
     "output_type": "stream",
     "text": [
      "2020-07-03 00:33:20.511 | WARNING  | baselines.SingleGP:fit:216 - Running MC sample inducing method\n"
     ]
    },
    {
     "name": "stdout",
     "output_type": "stream",
     "text": [
      "pole_mass:  0.3 pole_length:  0.7 step:  200 acc_reward:  58.80345570446737 violation_rate:  0.07\n",
      "subtask:  0 , epi:  0\n"
     ]
    },
    {
     "name": "stderr",
     "output_type": "stream",
     "text": [
      "2020-07-03 00:37:21.034 | WARNING  | baselines.SingleGP:fit:216 - Running MC sample inducing method\n"
     ]
    },
    {
     "name": "stdout",
     "output_type": "stream",
     "text": [
      "pole_mass:  0.7 pole_length:  0.7 step:  200 acc_reward:  64.2966386705459 violation_rate:  0.18\n",
      "subtask:  0 , epi:  0\n"
     ]
    },
    {
     "name": "stderr",
     "output_type": "stream",
     "text": [
      "2020-07-03 00:41:21.859 | WARNING  | baselines.SingleGP:fit:216 - Running MC sample inducing method\n"
     ]
    },
    {
     "name": "stdout",
     "output_type": "stream",
     "text": [
      "pole_mass:  0.7 pole_length:  0.7 step:  200 acc_reward:  58.11230162258101 violation_rate:  0.085\n",
      "subtask:  0 , epi:  0\n"
     ]
    },
    {
     "name": "stderr",
     "output_type": "stream",
     "text": [
      "2020-07-03 00:45:12.318 | WARNING  | baselines.SingleGP:fit:216 - Running MC sample inducing method\n"
     ]
    },
    {
     "name": "stdout",
     "output_type": "stream",
     "text": [
      "pole_mass:  0.7 pole_length:  0.7 step:  200 acc_reward:  68.20617689721816 violation_rate:  0.115\n",
      "subtask:  0 , epi:  0\n"
     ]
    },
    {
     "name": "stderr",
     "output_type": "stream",
     "text": [
      "2020-07-03 00:49:11.259 | WARNING  | baselines.SingleGP:fit:216 - Running MC sample inducing method\n"
     ]
    },
    {
     "name": "stdout",
     "output_type": "stream",
     "text": [
      "pole_mass:  0.7 pole_length:  0.3 step:  84 acc_reward:  29.61116691765225 violation_rate:  0.05952380952380952\n",
      "subtask:  0 , epi:  0\n"
     ]
    },
    {
     "name": "stderr",
     "output_type": "stream",
     "text": [
      "2020-07-03 00:53:24.884 | WARNING  | baselines.SingleGP:fit:216 - Running MC sample inducing method\n"
     ]
    },
    {
     "name": "stdout",
     "output_type": "stream",
     "text": [
      "pole_mass:  0.3 pole_length:  0.7 step:  200 acc_reward:  67.4312778742567 violation_rate:  0.13\n",
      "subtask:  0 , epi:  0\n"
     ]
    },
    {
     "name": "stderr",
     "output_type": "stream",
     "text": [
      "2020-07-03 00:57:35.543 | WARNING  | baselines.SingleGP:fit:216 - Running MC sample inducing method\n"
     ]
    },
    {
     "name": "stdout",
     "output_type": "stream",
     "text": [
      "pole_mass:  0.7 pole_length:  0.3 step:  200 acc_reward:  63.84444678140231 violation_rate:  0.005\n",
      "subtask:  0 , epi:  0\n"
     ]
    },
    {
     "name": "stderr",
     "output_type": "stream",
     "text": [
      "2020-07-03 01:01:52.462 | WARNING  | baselines.SingleGP:fit:216 - Running MC sample inducing method\n"
     ]
    },
    {
     "name": "stdout",
     "output_type": "stream",
     "text": [
      "pole_mass:  0.7 pole_length:  0.3 step:  200 acc_reward:  86.67732017145148 violation_rate:  0.04\n",
      "subtask:  0 , epi:  0\n"
     ]
    },
    {
     "name": "stderr",
     "output_type": "stream",
     "text": [
      "2020-07-03 01:06:05.225 | WARNING  | baselines.SingleGP:fit:216 - Running MC sample inducing method\n"
     ]
    },
    {
     "name": "stdout",
     "output_type": "stream",
     "text": [
      "pole_mass:  0.3 pole_length:  0.7 step:  200 acc_reward:  102.37012464504575 violation_rate:  0.115\n",
      "subtask:  0 , epi:  0\n"
     ]
    },
    {
     "name": "stderr",
     "output_type": "stream",
     "text": [
      "2020-07-03 01:10:08.804 | WARNING  | baselines.SingleGP:fit:216 - Running MC sample inducing method\n"
     ]
    },
    {
     "name": "stdout",
     "output_type": "stream",
     "text": [
      "pole_mass:  0.3 pole_length:  0.3 step:  200 acc_reward:  100.31969717080136 violation_rate:  0.09\n",
      "subtask:  0 , epi:  0\n"
     ]
    },
    {
     "name": "stderr",
     "output_type": "stream",
     "text": [
      "2020-07-03 01:14:22.753 | WARNING  | baselines.SingleGP:fit:216 - Running MC sample inducing method\n"
     ]
    },
    {
     "name": "stdout",
     "output_type": "stream",
     "text": [
      "pole_mass:  0.3 pole_length:  0.3 step:  200 acc_reward:  102.01101584095672 violation_rate:  0.045\n",
      "subtask:  0 , epi:  0\n"
     ]
    },
    {
     "name": "stderr",
     "output_type": "stream",
     "text": [
      "2020-07-03 01:18:31.911 | WARNING  | baselines.SingleGP:fit:216 - Running MC sample inducing method\n"
     ]
    },
    {
     "name": "stdout",
     "output_type": "stream",
     "text": [
      "pole_mass:  0.7 pole_length:  0.3 step:  200 acc_reward:  95.88198723885807 violation_rate:  0.045\n",
      "subtask:  0 , epi:  0\n"
     ]
    },
    {
     "name": "stderr",
     "output_type": "stream",
     "text": [
      "2020-07-03 01:23:15.799 | WARNING  | baselines.SingleGP:fit:216 - Running MC sample inducing method\n"
     ]
    },
    {
     "name": "stdout",
     "output_type": "stream",
     "text": [
      "pole_mass:  0.3 pole_length:  0.3 step:  200 acc_reward:  103.80272418918067 violation_rate:  0.015\n",
      "subtask:  0 , epi:  0\n"
     ]
    },
    {
     "name": "stderr",
     "output_type": "stream",
     "text": [
      "2020-07-03 01:27:40.090 | WARNING  | baselines.SingleGP:fit:216 - Running MC sample inducing method\n"
     ]
    },
    {
     "name": "stdout",
     "output_type": "stream",
     "text": [
      "pole_mass:  0.7 pole_length:  0.3 step:  200 acc_reward:  91.20939088744474 violation_rate:  0.005\n",
      "subtask:  0 , epi:  0\n"
     ]
    },
    {
     "name": "stderr",
     "output_type": "stream",
     "text": [
      "2020-07-03 01:31:48.421 | WARNING  | baselines.SingleGP:fit:216 - Running MC sample inducing method\n"
     ]
    },
    {
     "name": "stdout",
     "output_type": "stream",
     "text": [
      "pole_mass:  0.7 pole_length:  0.7 step:  200 acc_reward:  51.35615013792778 violation_rate:  0.095\n",
      "subtask:  0 , epi:  0\n"
     ]
    },
    {
     "name": "stderr",
     "output_type": "stream",
     "text": [
      "2020-07-03 01:35:47.114 | WARNING  | baselines.SingleGP:fit:216 - Running MC sample inducing method\n"
     ]
    },
    {
     "name": "stdout",
     "output_type": "stream",
     "text": [
      "pole_mass:  0.7 pole_length:  0.7 step:  200 acc_reward:  57.8096475289906 violation_rate:  0.195\n",
      "subtask:  0 , epi:  0\n"
     ]
    },
    {
     "name": "stderr",
     "output_type": "stream",
     "text": [
      "2020-07-03 01:40:15.548 | WARNING  | baselines.SingleGP:fit:216 - Running MC sample inducing method\n"
     ]
    },
    {
     "name": "stdout",
     "output_type": "stream",
     "text": [
      "pole_mass:  0.3 pole_length:  0.3 step:  200 acc_reward:  91.38425758192643 violation_rate:  0.055\n",
      "subtask:  0 , epi:  0\n"
     ]
    },
    {
     "name": "stderr",
     "output_type": "stream",
     "text": [
      "2020-07-03 01:44:18.476 | WARNING  | baselines.SingleGP:fit:216 - Running MC sample inducing method\n"
     ]
    },
    {
     "name": "stdout",
     "output_type": "stream",
     "text": [
      "pole_mass:  0.7 pole_length:  0.7 step:  200 acc_reward:  74.44918783483482 violation_rate:  0.105\n",
      "subtask:  0 , epi:  0\n"
     ]
    },
    {
     "name": "stderr",
     "output_type": "stream",
     "text": [
      "2020-07-03 01:48:10.250 | WARNING  | baselines.SingleGP:fit:216 - Running MC sample inducing method\n"
     ]
    },
    {
     "name": "stdout",
     "output_type": "stream",
     "text": [
      "pole_mass:  0.7 pole_length:  0.7 step:  200 acc_reward:  57.931323544001835 violation_rate:  0.155\n",
      "subtask:  0 , epi:  0\n"
     ]
    },
    {
     "name": "stderr",
     "output_type": "stream",
     "text": [
      "2020-07-03 01:52:23.135 | WARNING  | baselines.SingleGP:fit:216 - Running MC sample inducing method\n"
     ]
    },
    {
     "name": "stdout",
     "output_type": "stream",
     "text": [
      "pole_mass:  0.7 pole_length:  0.3 step:  200 acc_reward:  96.28957845270045 violation_rate:  0.035\n",
      "subtask:  0 , epi:  0\n"
     ]
    },
    {
     "name": "stderr",
     "output_type": "stream",
     "text": [
      "2020-07-03 01:56:37.132 | WARNING  | baselines.SingleGP:fit:216 - Running MC sample inducing method\n"
     ]
    },
    {
     "name": "stdout",
     "output_type": "stream",
     "text": [
      "pole_mass:  0.7 pole_length:  0.3 step:  200 acc_reward:  81.74841374411803 violation_rate:  0.005\n",
      "subtask:  0 , epi:  0\n"
     ]
    },
    {
     "name": "stderr",
     "output_type": "stream",
     "text": [
      "2020-07-03 02:00:52.694 | WARNING  | baselines.SingleGP:fit:216 - Running MC sample inducing method\n"
     ]
    },
    {
     "name": "stdout",
     "output_type": "stream",
     "text": [
      "pole_mass:  0.7 pole_length:  0.3 step:  200 acc_reward:  84.49233182416202 violation_rate:  0.065\n",
      "subtask:  0 , epi:  0\n"
     ]
    },
    {
     "name": "stderr",
     "output_type": "stream",
     "text": [
      "2020-07-03 02:05:18.702 | WARNING  | baselines.SingleGP:fit:216 - Running MC sample inducing method\n"
     ]
    },
    {
     "name": "stdout",
     "output_type": "stream",
     "text": [
      "pole_mass:  0.7 pole_length:  0.3 step:  200 acc_reward:  100.98118470245093 violation_rate:  0.035\n",
      "subtask:  0 , epi:  0\n"
     ]
    },
    {
     "name": "stderr",
     "output_type": "stream",
     "text": [
      "2020-07-03 02:09:29.438 | WARNING  | baselines.SingleGP:fit:216 - Running MC sample inducing method\n"
     ]
    },
    {
     "name": "stdout",
     "output_type": "stream",
     "text": [
      "pole_mass:  0.7 pole_length:  0.3 step:  200 acc_reward:  72.60021983889845 violation_rate:  0.1\n",
      "subtask:  0 , epi:  0\n"
     ]
    },
    {
     "name": "stderr",
     "output_type": "stream",
     "text": [
      "2020-07-03 02:13:31.479 | WARNING  | baselines.SingleGP:fit:216 - Running MC sample inducing method\n"
     ]
    },
    {
     "name": "stdout",
     "output_type": "stream",
     "text": [
      "pole_mass:  0.3 pole_length:  0.3 step:  200 acc_reward:  84.33694674870755 violation_rate:  0.055\n",
      "subtask:  0 , epi:  0\n"
     ]
    },
    {
     "name": "stderr",
     "output_type": "stream",
     "text": [
      "2020-07-03 02:17:58.510 | WARNING  | baselines.SingleGP:fit:216 - Running MC sample inducing method\n"
     ]
    },
    {
     "name": "stdout",
     "output_type": "stream",
     "text": [
      "pole_mass:  0.7 pole_length:  0.3 step:  200 acc_reward:  93.21365850726686 violation_rate:  0.0\n",
      "subtask:  0 , epi:  0\n"
     ]
    },
    {
     "name": "stderr",
     "output_type": "stream",
     "text": [
      "2020-07-03 02:22:13.799 | WARNING  | baselines.SingleGP:fit:216 - Running MC sample inducing method\n"
     ]
    },
    {
     "name": "stdout",
     "output_type": "stream",
     "text": [
      "pole_mass:  0.3 pole_length:  0.3 step:  200 acc_reward:  89.82081636462318 violation_rate:  0.0\n",
      "subtask:  0 , epi:  0\n"
     ]
    },
    {
     "name": "stderr",
     "output_type": "stream",
     "text": [
      "2020-07-03 02:26:10.896 | WARNING  | baselines.SingleGP:fit:216 - Running MC sample inducing method\n"
     ]
    },
    {
     "name": "stdout",
     "output_type": "stream",
     "text": [
      "pole_mass:  0.3 pole_length:  0.7 step:  200 acc_reward:  60.478880719829334 violation_rate:  0.11\n",
      "subtask:  0 , epi:  0\n"
     ]
    },
    {
     "name": "stderr",
     "output_type": "stream",
     "text": [
      "2020-07-03 02:30:12.764 | WARNING  | baselines.SingleGP:fit:216 - Running MC sample inducing method\n"
     ]
    },
    {
     "name": "stdout",
     "output_type": "stream",
     "text": [
      "pole_mass:  0.3 pole_length:  0.7 step:  200 acc_reward:  67.30675447263712 violation_rate:  0.17\n",
      "subtask:  0 , epi:  0\n"
     ]
    },
    {
     "name": "stderr",
     "output_type": "stream",
     "text": [
      "2020-07-03 02:34:18.488 | WARNING  | baselines.SingleGP:fit:216 - Running MC sample inducing method\n"
     ]
    },
    {
     "name": "stdout",
     "output_type": "stream",
     "text": [
      "pole_mass:  0.3 pole_length:  0.3 step:  200 acc_reward:  97.10290715531463 violation_rate:  0.055\n",
      "subtask:  0 , epi:  0\n"
     ]
    },
    {
     "name": "stderr",
     "output_type": "stream",
     "text": [
      "2020-07-03 02:38:28.909 | WARNING  | baselines.SingleGP:fit:216 - Running MC sample inducing method\n"
     ]
    },
    {
     "name": "stdout",
     "output_type": "stream",
     "text": [
      "pole_mass:  0.3 pole_length:  0.3 step:  200 acc_reward:  88.95415709162151 violation_rate:  0.04\n",
      "subtask:  0 , epi:  0\n"
     ]
    },
    {
     "name": "stderr",
     "output_type": "stream",
     "text": [
      "2020-07-03 02:42:09.455 | WARNING  | baselines.SingleGP:fit:216 - Running MC sample inducing method\n"
     ]
    },
    {
     "name": "stdout",
     "output_type": "stream",
     "text": [
      "pole_mass:  0.7 pole_length:  0.7 step:  200 acc_reward:  53.44135062098316 violation_rate:  0.17\n",
      "subtask:  0 , epi:  0\n"
     ]
    },
    {
     "name": "stderr",
     "output_type": "stream",
     "text": [
      "2020-07-03 02:45:46.946 | WARNING  | baselines.SingleGP:fit:216 - Running MC sample inducing method\n"
     ]
    },
    {
     "name": "stdout",
     "output_type": "stream",
     "text": [
      "pole_mass:  0.3 pole_length:  0.7 step:  200 acc_reward:  63.90719899446579 violation_rate:  0.155\n",
      "subtask:  0 , epi:  0\n"
     ]
    },
    {
     "name": "stderr",
     "output_type": "stream",
     "text": [
      "2020-07-03 02:49:29.416 | WARNING  | baselines.SingleGP:fit:216 - Running MC sample inducing method\n"
     ]
    },
    {
     "name": "stdout",
     "output_type": "stream",
     "text": [
      "pole_mass:  0.7 pole_length:  0.7 step:  200 acc_reward:  57.45102843704823 violation_rate:  0.07\n",
      "subtask:  0 , epi:  0\n"
     ]
    },
    {
     "name": "stderr",
     "output_type": "stream",
     "text": [
      "2020-07-03 02:53:14.839 | WARNING  | baselines.SingleGP:fit:216 - Running MC sample inducing method\n"
     ]
    },
    {
     "name": "stdout",
     "output_type": "stream",
     "text": [
      "pole_mass:  0.7 pole_length:  0.7 step:  200 acc_reward:  74.86198264876413 violation_rate:  0.05\n",
      "subtask:  0 , epi:  0\n"
     ]
    },
    {
     "name": "stderr",
     "output_type": "stream",
     "text": [
      "2020-07-03 02:57:19.460 | WARNING  | baselines.SingleGP:fit:216 - Running MC sample inducing method\n"
     ]
    },
    {
     "name": "stdout",
     "output_type": "stream",
     "text": [
      "pole_mass:  0.3 pole_length:  0.3 step:  200 acc_reward:  80.4820513482383 violation_rate:  0.035\n",
      "subtask:  0 , epi:  0\n"
     ]
    },
    {
     "name": "stderr",
     "output_type": "stream",
     "text": [
      "2020-07-03 03:01:16.363 | WARNING  | baselines.SingleGP:fit:216 - Running MC sample inducing method\n"
     ]
    },
    {
     "name": "stdout",
     "output_type": "stream",
     "text": [
      "pole_mass:  0.7 pole_length:  0.7 step:  200 acc_reward:  57.09098584898504 violation_rate:  0.11\n",
      "subtask:  0 , epi:  0\n"
     ]
    },
    {
     "name": "stderr",
     "output_type": "stream",
     "text": [
      "2020-07-03 03:05:27.079 | WARNING  | baselines.SingleGP:fit:216 - Running MC sample inducing method\n"
     ]
    },
    {
     "name": "stdout",
     "output_type": "stream",
     "text": [
      "pole_mass:  0.3 pole_length:  0.3 step:  200 acc_reward:  75.83914417624983 violation_rate:  0.02\n",
      "subtask:  0 , epi:  0\n"
     ]
    },
    {
     "name": "stderr",
     "output_type": "stream",
     "text": [
      "2020-07-03 03:09:21.727 | WARNING  | baselines.SingleGP:fit:216 - Running MC sample inducing method\n"
     ]
    },
    {
     "name": "stdout",
     "output_type": "stream",
     "text": [
      "pole_mass:  0.3 pole_length:  0.7 step:  200 acc_reward:  50.52254784850315 violation_rate:  0.13\n",
      "subtask:  0 , epi:  0\n"
     ]
    },
    {
     "name": "stderr",
     "output_type": "stream",
     "text": [
      "2020-07-03 03:13:55.601 | WARNING  | baselines.SingleGP:fit:216 - Running MC sample inducing method\n"
     ]
    },
    {
     "name": "stdout",
     "output_type": "stream",
     "text": [
      "pole_mass:  0.3 pole_length:  0.3 step:  200 acc_reward:  119.18628549044698 violation_rate:  0.02\n",
      "subtask:  0 , epi:  0\n"
     ]
    },
    {
     "name": "stderr",
     "output_type": "stream",
     "text": [
      "2020-07-03 03:17:48.632 | WARNING  | baselines.SingleGP:fit:216 - Running MC sample inducing method\n"
     ]
    },
    {
     "name": "stdout",
     "output_type": "stream",
     "text": [
      "pole_mass:  0.3 pole_length:  0.7 step:  200 acc_reward:  95.36042520268376 violation_rate:  0.045\n",
      "subtask:  0 , epi:  0\n"
     ]
    },
    {
     "name": "stderr",
     "output_type": "stream",
     "text": [
      "2020-07-03 03:21:39.638 | WARNING  | baselines.SingleGP:fit:216 - Running MC sample inducing method\n"
     ]
    },
    {
     "name": "stdout",
     "output_type": "stream",
     "text": [
      "pole_mass:  0.7 pole_length:  0.7 step:  200 acc_reward:  71.6773415458478 violation_rate:  0.17\n",
      "subtask:  0 , epi:  0\n"
     ]
    },
    {
     "name": "stderr",
     "output_type": "stream",
     "text": [
      "2020-07-03 03:25:41.944 | WARNING  | baselines.SingleGP:fit:216 - Running MC sample inducing method\n"
     ]
    },
    {
     "name": "stdout",
     "output_type": "stream",
     "text": [
      "pole_mass:  0.3 pole_length:  0.7 step:  200 acc_reward:  74.78747498291281 violation_rate:  0.12\n",
      "subtask:  0 , epi:  0\n"
     ]
    },
    {
     "name": "stderr",
     "output_type": "stream",
     "text": [
      "2020-07-03 03:29:42.278 | WARNING  | baselines.SingleGP:fit:216 - Running MC sample inducing method\n"
     ]
    },
    {
     "name": "stdout",
     "output_type": "stream",
     "text": [
      "pole_mass:  0.3 pole_length:  0.7 step:  200 acc_reward:  83.51127515160458 violation_rate:  0.14\n",
      "subtask:  0 , epi:  0\n"
     ]
    },
    {
     "name": "stderr",
     "output_type": "stream",
     "text": [
      "2020-07-03 03:33:51.111 | WARNING  | baselines.SingleGP:fit:216 - Running MC sample inducing method\n"
     ]
    },
    {
     "name": "stdout",
     "output_type": "stream",
     "text": [
      "pole_mass:  0.7 pole_length:  0.3 step:  200 acc_reward:  78.36604456533544 violation_rate:  0.055\n",
      "subtask:  0 , epi:  0\n"
     ]
    },
    {
     "name": "stderr",
     "output_type": "stream",
     "text": [
      "2020-07-03 03:38:00.315 | WARNING  | baselines.SingleGP:fit:216 - Running MC sample inducing method\n"
     ]
    },
    {
     "name": "stdout",
     "output_type": "stream",
     "text": [
      "pole_mass:  0.3 pole_length:  0.3 step:  200 acc_reward:  50.41166887829741 violation_rate:  0.105\n",
      "subtask:  0 , epi:  0\n"
     ]
    },
    {
     "name": "stderr",
     "output_type": "stream",
     "text": [
      "2020-07-03 03:41:41.442 | WARNING  | baselines.SingleGP:fit:216 - Running MC sample inducing method\n"
     ]
    },
    {
     "name": "stdout",
     "output_type": "stream",
     "text": [
      "pole_mass:  0.7 pole_length:  0.7 step:  200 acc_reward:  66.60351845183958 violation_rate:  0.175\n",
      "subtask:  0 , epi:  0\n"
     ]
    },
    {
     "name": "stderr",
     "output_type": "stream",
     "text": [
      "2020-07-03 03:45:55.369 | WARNING  | baselines.SingleGP:fit:216 - Running MC sample inducing method\n"
     ]
    },
    {
     "name": "stdout",
     "output_type": "stream",
     "text": [
      "pole_mass:  0.7 pole_length:  0.3 step:  200 acc_reward:  61.4796414684131 violation_rate:  0.045\n",
      "subtask:  0 , epi:  0\n"
     ]
    },
    {
     "name": "stderr",
     "output_type": "stream",
     "text": [
      "2020-07-03 03:50:11.576 | WARNING  | baselines.SingleGP:fit:216 - Running MC sample inducing method\n"
     ]
    },
    {
     "name": "stdout",
     "output_type": "stream",
     "text": [
      "pole_mass:  0.3 pole_length:  0.3 step:  200 acc_reward:  47.72676100108575 violation_rate:  0.11\n",
      "subtask:  0 , epi:  0\n"
     ]
    },
    {
     "name": "stderr",
     "output_type": "stream",
     "text": [
      "2020-07-03 03:54:02.501 | WARNING  | baselines.SingleGP:fit:216 - Running MC sample inducing method\n"
     ]
    },
    {
     "name": "stdout",
     "output_type": "stream",
     "text": [
      "pole_mass:  0.7 pole_length:  0.7 step:  200 acc_reward:  50.8574662835781 violation_rate:  0.09\n",
      "subtask:  0 , epi:  0\n",
      "pole_mass:  0.7 pole_length:  0.7 step:  82 acc_reward:  26.72571877069893 violation_rate:  0.06097560975609756\n",
      "subtask:  0 , epi:  0\n"
     ]
    },
    {
     "name": "stderr",
     "output_type": "stream",
     "text": [
      "2020-07-03 03:58:04.761 | WARNING  | baselines.SingleGP:fit:216 - Running MC sample inducing method\n"
     ]
    },
    {
     "name": "stdout",
     "output_type": "stream",
     "text": [
      "pole_mass:  0.3 pole_length:  0.3 step:  200 acc_reward:  59.701307626768966 violation_rate:  0.045\n",
      "subtask:  0 , epi:  0\n"
     ]
    },
    {
     "name": "stderr",
     "output_type": "stream",
     "text": [
      "2020-07-03 04:02:29.232 | WARNING  | baselines.SingleGP:fit:216 - Running MC sample inducing method\n"
     ]
    },
    {
     "name": "stdout",
     "output_type": "stream",
     "text": [
      "pole_mass:  0.7 pole_length:  0.3 step:  200 acc_reward:  66.49994378209568 violation_rate:  0.01\n",
      "subtask:  0 , epi:  0\n"
     ]
    },
    {
     "name": "stderr",
     "output_type": "stream",
     "text": [
      "2020-07-03 04:06:35.079 | WARNING  | baselines.SingleGP:fit:216 - Running MC sample inducing method\n"
     ]
    },
    {
     "name": "stdout",
     "output_type": "stream",
     "text": [
      "pole_mass:  0.3 pole_length:  0.3 step:  200 acc_reward:  93.26643381274756 violation_rate:  0.065\n",
      "subtask:  0 , epi:  0\n"
     ]
    },
    {
     "name": "stderr",
     "output_type": "stream",
     "text": [
      "2020-07-03 04:10:09.452 | WARNING  | baselines.SingleGP:fit:216 - Running MC sample inducing method\n"
     ]
    },
    {
     "name": "stdout",
     "output_type": "stream",
     "text": [
      "pole_mass:  0.7 pole_length:  0.7 step:  200 acc_reward:  49.39064614128713 violation_rate:  0.145\n",
      "subtask:  0 , epi:  0\n"
     ]
    },
    {
     "name": "stderr",
     "output_type": "stream",
     "text": [
      "2020-07-03 04:14:14.210 | WARNING  | baselines.SingleGP:fit:216 - Running MC sample inducing method\n"
     ]
    },
    {
     "name": "stdout",
     "output_type": "stream",
     "text": [
      "pole_mass:  0.3 pole_length:  0.3 step:  200 acc_reward:  126.6157371509136 violation_rate:  0.025\n",
      "subtask:  0 , epi:  0\n"
     ]
    },
    {
     "name": "stderr",
     "output_type": "stream",
     "text": [
      "2020-07-03 04:18:24.892 | WARNING  | baselines.SingleGP:fit:216 - Running MC sample inducing method\n"
     ]
    },
    {
     "name": "stdout",
     "output_type": "stream",
     "text": [
      "pole_mass:  0.7 pole_length:  0.3 step:  200 acc_reward:  96.50239973065987 violation_rate:  0.025\n",
      "subtask:  0 , epi:  0\n"
     ]
    },
    {
     "name": "stderr",
     "output_type": "stream",
     "text": [
      "2020-07-03 04:22:44.431 | WARNING  | baselines.SingleGP:fit:216 - Running MC sample inducing method\n"
     ]
    },
    {
     "name": "stdout",
     "output_type": "stream",
     "text": [
      "pole_mass:  0.7 pole_length:  0.3 step:  200 acc_reward:  73.0460929083975 violation_rate:  0.01\n",
      "subtask:  0 , epi:  0\n"
     ]
    },
    {
     "name": "stderr",
     "output_type": "stream",
     "text": [
      "2020-07-03 04:26:42.763 | WARNING  | baselines.SingleGP:fit:216 - Running MC sample inducing method\n"
     ]
    },
    {
     "name": "stdout",
     "output_type": "stream",
     "text": [
      "pole_mass:  0.3 pole_length:  0.7 step:  200 acc_reward:  60.84737911306079 violation_rate:  0.165\n",
      "subtask:  0 , epi:  0\n"
     ]
    },
    {
     "name": "stderr",
     "output_type": "stream",
     "text": [
      "2020-07-03 04:30:43.091 | WARNING  | baselines.SingleGP:fit:216 - Running MC sample inducing method\n"
     ]
    },
    {
     "name": "stdout",
     "output_type": "stream",
     "text": [
      "pole_mass:  0.3 pole_length:  0.7 step:  200 acc_reward:  84.627997031878 violation_rate:  0.12\n",
      "subtask:  0 , epi:  0\n"
     ]
    },
    {
     "name": "stderr",
     "output_type": "stream",
     "text": [
      "2020-07-03 04:34:26.728 | WARNING  | baselines.SingleGP:fit:216 - Running MC sample inducing method\n"
     ]
    },
    {
     "name": "stdout",
     "output_type": "stream",
     "text": [
      "pole_mass:  0.3 pole_length:  0.7 step:  200 acc_reward:  56.21145768593741 violation_rate:  0.085\n",
      "subtask:  0 , epi:  0\n"
     ]
    },
    {
     "name": "stderr",
     "output_type": "stream",
     "text": [
      "2020-07-03 04:38:26.964 | WARNING  | baselines.SingleGP:fit:216 - Running MC sample inducing method\n"
     ]
    },
    {
     "name": "stdout",
     "output_type": "stream",
     "text": [
      "pole_mass:  0.3 pole_length:  0.3 step:  200 acc_reward:  115.92829265842464 violation_rate:  0.02\n",
      "subtask:  0 , epi:  0\n"
     ]
    },
    {
     "name": "stderr",
     "output_type": "stream",
     "text": [
      "2020-07-03 04:42:19.952 | WARNING  | baselines.SingleGP:fit:216 - Running MC sample inducing method\n"
     ]
    },
    {
     "name": "stdout",
     "output_type": "stream",
     "text": [
      "pole_mass:  0.7 pole_length:  0.7 step:  200 acc_reward:  54.54306476760888 violation_rate:  0.065\n",
      "subtask:  0 , epi:  0\n"
     ]
    },
    {
     "name": "stderr",
     "output_type": "stream",
     "text": [
      "2020-07-03 04:46:13.239 | WARNING  | baselines.SingleGP:fit:216 - Running MC sample inducing method\n"
     ]
    },
    {
     "name": "stdout",
     "output_type": "stream",
     "text": [
      "pole_mass:  0.7 pole_length:  0.3 step:  200 acc_reward:  111.66455024174104 violation_rate:  0.01\n",
      "subtask:  0 , epi:  0\n"
     ]
    },
    {
     "name": "stderr",
     "output_type": "stream",
     "text": [
      "2020-07-03 04:50:11.729 | WARNING  | baselines.SingleGP:fit:216 - Running MC sample inducing method\n"
     ]
    },
    {
     "name": "stdout",
     "output_type": "stream",
     "text": [
      "pole_mass:  0.3 pole_length:  0.7 step:  200 acc_reward:  68.80349281979862 violation_rate:  0.075\n",
      "subtask:  0 , epi:  0\n"
     ]
    },
    {
     "name": "stderr",
     "output_type": "stream",
     "text": [
      "2020-07-03 04:53:53.310 | WARNING  | baselines.SingleGP:fit:216 - Running MC sample inducing method\n"
     ]
    },
    {
     "name": "stdout",
     "output_type": "stream",
     "text": [
      "pole_mass:  0.7 pole_length:  0.7 step:  200 acc_reward:  62.807970177351095 violation_rate:  0.17\n",
      "subtask:  0 , epi:  0\n"
     ]
    },
    {
     "name": "stderr",
     "output_type": "stream",
     "text": [
      "2020-07-03 04:57:28.213 | WARNING  | baselines.SingleGP:fit:216 - Running MC sample inducing method\n"
     ]
    },
    {
     "name": "stdout",
     "output_type": "stream",
     "text": [
      "pole_mass:  0.3 pole_length:  0.7 step:  200 acc_reward:  58.83218342987578 violation_rate:  0.02\n",
      "subtask:  0 , epi:  0\n"
     ]
    },
    {
     "name": "stderr",
     "output_type": "stream",
     "text": [
      "2020-07-03 05:01:24.563 | WARNING  | baselines.SingleGP:fit:216 - Running MC sample inducing method\n"
     ]
    },
    {
     "name": "stdout",
     "output_type": "stream",
     "text": [
      "pole_mass:  0.3 pole_length:  0.3 step:  118 acc_reward:  29.997035897755318 violation_rate:  0.05084745762711865\n",
      "subtask:  0 , epi:  0\n"
     ]
    },
    {
     "name": "stderr",
     "output_type": "stream",
     "text": [
      "2020-07-03 05:05:17.420 | WARNING  | baselines.SingleGP:fit:216 - Running MC sample inducing method\n"
     ]
    },
    {
     "name": "stdout",
     "output_type": "stream",
     "text": [
      "pole_mass:  0.3 pole_length:  0.7 step:  200 acc_reward:  50.88740131396316 violation_rate:  0.15\n",
      "subtask:  0 , epi:  0\n"
     ]
    },
    {
     "name": "stderr",
     "output_type": "stream",
     "text": [
      "2020-07-03 05:09:27.364 | WARNING  | baselines.SingleGP:fit:216 - Running MC sample inducing method\n"
     ]
    },
    {
     "name": "stdout",
     "output_type": "stream",
     "text": [
      "pole_mass:  0.7 pole_length:  0.3 step:  200 acc_reward:  33.38187757747589 violation_rate:  0.125\n",
      "subtask:  0 , epi:  0\n"
     ]
    },
    {
     "name": "stderr",
     "output_type": "stream",
     "text": [
      "2020-07-03 05:13:35.978 | WARNING  | baselines.SingleGP:fit:216 - Running MC sample inducing method\n"
     ]
    },
    {
     "name": "stdout",
     "output_type": "stream",
     "text": [
      "pole_mass:  0.3 pole_length:  0.3 step:  200 acc_reward:  40.26388523969947 violation_rate:  0.06\n",
      "subtask:  0 , epi:  0\n",
      "pole_mass:  0.7 pole_length:  0.7 step:  82 acc_reward:  13.247798602735902 violation_rate:  0.08536585365853659\n",
      "subtask:  0 , epi:  0\n"
     ]
    },
    {
     "name": "stderr",
     "output_type": "stream",
     "text": [
      "2020-07-03 05:17:15.143 | WARNING  | baselines.SingleGP:fit:216 - Running MC sample inducing method\n"
     ]
    },
    {
     "name": "stdout",
     "output_type": "stream",
     "text": [
      "pole_mass:  0.7 pole_length:  0.7 step:  200 acc_reward:  31.209877211282688 violation_rate:  0.085\n",
      "subtask:  0 , epi:  0\n"
     ]
    },
    {
     "name": "stderr",
     "output_type": "stream",
     "text": [
      "2020-07-03 05:21:28.154 | WARNING  | baselines.SingleGP:fit:216 - Running MC sample inducing method\n"
     ]
    },
    {
     "name": "stdout",
     "output_type": "stream",
     "text": [
      "pole_mass:  0.3 pole_length:  0.3 step:  200 acc_reward:  88.93781038498133 violation_rate:  0.025\n",
      "subtask:  0 , epi:  0\n"
     ]
    },
    {
     "name": "stderr",
     "output_type": "stream",
     "text": [
      "2020-07-03 05:25:29.883 | WARNING  | baselines.SingleGP:fit:216 - Running MC sample inducing method\n"
     ]
    },
    {
     "name": "stdout",
     "output_type": "stream",
     "text": [
      "pole_mass:  0.3 pole_length:  0.7 step:  200 acc_reward:  56.17119027691876 violation_rate:  0.155\n",
      "subtask:  0 , epi:  0\n"
     ]
    },
    {
     "name": "stderr",
     "output_type": "stream",
     "text": [
      "2020-07-03 05:29:27.243 | WARNING  | baselines.SingleGP:fit:216 - Running MC sample inducing method\n"
     ]
    },
    {
     "name": "stdout",
     "output_type": "stream",
     "text": [
      "pole_mass:  0.7 pole_length:  0.3 step:  200 acc_reward:  52.557842636335664 violation_rate:  0.035\n",
      "subtask:  0 , epi:  0\n"
     ]
    },
    {
     "name": "stderr",
     "output_type": "stream",
     "text": [
      "2020-07-03 05:33:47.367 | WARNING  | baselines.SingleGP:fit:216 - Running MC sample inducing method\n"
     ]
    },
    {
     "name": "stdout",
     "output_type": "stream",
     "text": [
      "pole_mass:  0.3 pole_length:  0.3 step:  200 acc_reward:  77.6827195750999 violation_rate:  0.04\n",
      "subtask:  0 , epi:  0\n"
     ]
    },
    {
     "name": "stderr",
     "output_type": "stream",
     "text": [
      "2020-07-03 05:37:45.583 | WARNING  | baselines.SingleGP:fit:216 - Running MC sample inducing method\n"
     ]
    },
    {
     "name": "stdout",
     "output_type": "stream",
     "text": [
      "pole_mass:  0.7 pole_length:  0.7 step:  200 acc_reward:  70.35160859295443 violation_rate:  0.065\n",
      "subtask:  0 , epi:  0\n"
     ]
    },
    {
     "name": "stderr",
     "output_type": "stream",
     "text": [
      "2020-07-03 05:41:30.860 | WARNING  | baselines.SingleGP:fit:216 - Running MC sample inducing method\n"
     ]
    },
    {
     "name": "stdout",
     "output_type": "stream",
     "text": [
      "pole_mass:  0.3 pole_length:  0.7 step:  200 acc_reward:  78.48922462196707 violation_rate:  0.12\n",
      "subtask:  0 , epi:  0\n"
     ]
    },
    {
     "name": "stderr",
     "output_type": "stream",
     "text": [
      "2020-07-03 05:45:32.632 | WARNING  | baselines.SingleGP:fit:216 - Running MC sample inducing method\n"
     ]
    },
    {
     "name": "stdout",
     "output_type": "stream",
     "text": [
      "pole_mass:  0.7 pole_length:  0.3 step:  200 acc_reward:  88.99273261517908 violation_rate:  0.005\n",
      "subtask:  0 , epi:  0\n"
     ]
    },
    {
     "name": "stderr",
     "output_type": "stream",
     "text": [
      "2020-07-03 05:49:28.450 | WARNING  | baselines.SingleGP:fit:216 - Running MC sample inducing method\n"
     ]
    },
    {
     "name": "stdout",
     "output_type": "stream",
     "text": [
      "pole_mass:  0.3 pole_length:  0.7 step:  200 acc_reward:  67.02096621634078 violation_rate:  0.12\n",
      "subtask:  0 , epi:  0\n"
     ]
    },
    {
     "name": "stderr",
     "output_type": "stream",
     "text": [
      "2020-07-03 05:53:14.735 | WARNING  | baselines.SingleGP:fit:216 - Running MC sample inducing method\n"
     ]
    },
    {
     "name": "stdout",
     "output_type": "stream",
     "text": [
      "pole_mass:  0.7 pole_length:  0.7 step:  200 acc_reward:  74.32719767294213 violation_rate:  0.105\n",
      "subtask:  0 , epi:  0\n"
     ]
    },
    {
     "name": "stderr",
     "output_type": "stream",
     "text": [
      "2020-07-03 05:57:14.998 | WARNING  | baselines.SingleGP:fit:216 - Running MC sample inducing method\n"
     ]
    },
    {
     "name": "stdout",
     "output_type": "stream",
     "text": [
      "pole_mass:  0.3 pole_length:  0.7 step:  200 acc_reward:  65.34679446493416 violation_rate:  0.16\n",
      "subtask:  0 , epi:  0\n"
     ]
    },
    {
     "name": "stderr",
     "output_type": "stream",
     "text": [
      "2020-07-03 06:01:32.517 | WARNING  | baselines.SingleGP:fit:216 - Running MC sample inducing method\n"
     ]
    },
    {
     "name": "stdout",
     "output_type": "stream",
     "text": [
      "pole_mass:  0.7 pole_length:  0.3 step:  200 acc_reward:  62.8075199216669 violation_rate:  0.03\n",
      "subtask:  0 , epi:  0\n"
     ]
    },
    {
     "name": "stderr",
     "output_type": "stream",
     "text": [
      "2020-07-03 06:05:28.792 | WARNING  | baselines.SingleGP:fit:216 - Running MC sample inducing method\n"
     ]
    },
    {
     "name": "stdout",
     "output_type": "stream",
     "text": [
      "pole_mass:  0.7 pole_length:  0.7 step:  200 acc_reward:  61.749897089982966 violation_rate:  0.15\n",
      "subtask:  0 , epi:  0\n"
     ]
    },
    {
     "name": "stderr",
     "output_type": "stream",
     "text": [
      "2020-07-03 06:09:46.865 | WARNING  | baselines.SingleGP:fit:216 - Running MC sample inducing method\n"
     ]
    },
    {
     "name": "stdout",
     "output_type": "stream",
     "text": [
      "pole_mass:  0.3 pole_length:  0.3 step:  200 acc_reward:  79.69497180932498 violation_rate:  0.11\n",
      "subtask:  0 , epi:  0\n"
     ]
    },
    {
     "name": "stderr",
     "output_type": "stream",
     "text": [
      "2020-07-03 06:14:01.380 | WARNING  | baselines.SingleGP:fit:216 - Running MC sample inducing method\n"
     ]
    },
    {
     "name": "stdout",
     "output_type": "stream",
     "text": [
      "pole_mass:  0.7 pole_length:  0.3 step:  200 acc_reward:  122.69799925134437 violation_rate:  0.035\n",
      "subtask:  0 , epi:  0\n"
     ]
    },
    {
     "name": "stderr",
     "output_type": "stream",
     "text": [
      "2020-07-03 06:18:38.886 | WARNING  | baselines.SingleGP:fit:216 - Running MC sample inducing method\n"
     ]
    },
    {
     "name": "stdout",
     "output_type": "stream",
     "text": [
      "pole_mass:  0.7 pole_length:  0.3 step:  200 acc_reward:  98.34385990790312 violation_rate:  0.005\n",
      "subtask:  0 , epi:  0\n"
     ]
    },
    {
     "name": "stderr",
     "output_type": "stream",
     "text": [
      "2020-07-03 06:23:04.101 | WARNING  | baselines.SingleGP:fit:216 - Running MC sample inducing method\n"
     ]
    },
    {
     "name": "stdout",
     "output_type": "stream",
     "text": [
      "pole_mass:  0.3 pole_length:  0.3 step:  200 acc_reward:  93.72181499404276 violation_rate:  0.0\n",
      "subtask:  0 , epi:  0\n"
     ]
    },
    {
     "name": "stderr",
     "output_type": "stream",
     "text": [
      "2020-07-03 06:27:26.477 | WARNING  | baselines.SingleGP:fit:216 - Running MC sample inducing method\n"
     ]
    },
    {
     "name": "stdout",
     "output_type": "stream",
     "text": [
      "pole_mass:  0.7 pole_length:  0.3 step:  200 acc_reward:  100.80619259138209 violation_rate:  0.05\n",
      "subtask:  0 , epi:  0\n"
     ]
    },
    {
     "name": "stderr",
     "output_type": "stream",
     "text": [
      "2020-07-03 06:31:43.967 | WARNING  | baselines.SingleGP:fit:216 - Running MC sample inducing method\n"
     ]
    },
    {
     "name": "stdout",
     "output_type": "stream",
     "text": [
      "pole_mass:  0.3 pole_length:  0.7 step:  200 acc_reward:  71.14000240742284 violation_rate:  0.24\n",
      "subtask:  0 , epi:  0\n"
     ]
    },
    {
     "name": "stderr",
     "output_type": "stream",
     "text": [
      "2020-07-03 06:35:39.916 | WARNING  | baselines.SingleGP:fit:216 - Running MC sample inducing method\n"
     ]
    },
    {
     "name": "stdout",
     "output_type": "stream",
     "text": [
      "pole_mass:  0.3 pole_length:  0.7 step:  200 acc_reward:  76.70084616999387 violation_rate:  0.08\n",
      "subtask:  0 , epi:  0\n"
     ]
    },
    {
     "name": "stderr",
     "output_type": "stream",
     "text": [
      "2020-07-03 06:39:20.038 | WARNING  | baselines.SingleGP:fit:216 - Running MC sample inducing method\n"
     ]
    },
    {
     "name": "stdout",
     "output_type": "stream",
     "text": [
      "pole_mass:  0.3 pole_length:  0.7 step:  200 acc_reward:  59.540786941859686 violation_rate:  0.095\n",
      "subtask:  0 , epi:  0\n"
     ]
    },
    {
     "name": "stderr",
     "output_type": "stream",
     "text": [
      "2020-07-03 06:43:25.989 | WARNING  | baselines.SingleGP:fit:216 - Running MC sample inducing method\n"
     ]
    },
    {
     "name": "stdout",
     "output_type": "stream",
     "text": [
      "pole_mass:  0.3 pole_length:  0.3 step:  200 acc_reward:  90.89332450740162 violation_rate:  0.085\n",
      "subtask:  0 , epi:  0\n"
     ]
    },
    {
     "name": "stderr",
     "output_type": "stream",
     "text": [
      "2020-07-03 06:47:08.492 | WARNING  | baselines.SingleGP:fit:216 - Running MC sample inducing method\n"
     ]
    },
    {
     "name": "stdout",
     "output_type": "stream",
     "text": [
      "pole_mass:  0.3 pole_length:  0.7 step:  200 acc_reward:  58.1414792064132 violation_rate:  0.125\n",
      "subtask:  0 , epi:  0\n"
     ]
    },
    {
     "name": "stderr",
     "output_type": "stream",
     "text": [
      "2020-07-03 06:51:15.415 | WARNING  | baselines.SingleGP:fit:216 - Running MC sample inducing method\n"
     ]
    },
    {
     "name": "stdout",
     "output_type": "stream",
     "text": [
      "pole_mass:  0.3 pole_length:  0.3 step:  200 acc_reward:  75.38463279990857 violation_rate:  0.13\n",
      "subtask:  0 , epi:  0\n"
     ]
    },
    {
     "name": "stderr",
     "output_type": "stream",
     "text": [
      "2020-07-03 06:55:42.128 | WARNING  | baselines.SingleGP:fit:216 - Running MC sample inducing method\n"
     ]
    },
    {
     "name": "stdout",
     "output_type": "stream",
     "text": [
      "pole_mass:  0.3 pole_length:  0.3 step:  200 acc_reward:  45.01383501591486 violation_rate:  0.06\n",
      "subtask:  0 , epi:  0\n"
     ]
    },
    {
     "name": "stderr",
     "output_type": "stream",
     "text": [
      "2020-07-03 06:59:41.837 | WARNING  | baselines.SingleGP:fit:216 - Running MC sample inducing method\n"
     ]
    },
    {
     "name": "stdout",
     "output_type": "stream",
     "text": [
      "pole_mass:  0.3 pole_length:  0.7 step:  200 acc_reward:  67.7224155642713 violation_rate:  0.215\n",
      "subtask:  0 , epi:  0\n"
     ]
    },
    {
     "name": "stderr",
     "output_type": "stream",
     "text": [
      "2020-07-03 07:03:48.214 | WARNING  | baselines.SingleGP:fit:216 - Running MC sample inducing method\n"
     ]
    },
    {
     "name": "stdout",
     "output_type": "stream",
     "text": [
      "pole_mass:  0.7 pole_length:  0.3 step:  200 acc_reward:  38.712429424145064 violation_rate:  0.0\n",
      "subtask:  0 , epi:  0\n"
     ]
    },
    {
     "name": "stderr",
     "output_type": "stream",
     "text": [
      "2020-07-03 07:07:35.538 | WARNING  | baselines.SingleGP:fit:216 - Running MC sample inducing method\n"
     ]
    },
    {
     "name": "stdout",
     "output_type": "stream",
     "text": [
      "pole_mass:  0.7 pole_length:  0.7 step:  200 acc_reward:  40.349247795924704 violation_rate:  0.075\n",
      "subtask:  0 , epi:  0\n"
     ]
    },
    {
     "name": "stderr",
     "output_type": "stream",
     "text": [
      "2020-07-03 07:11:22.227 | WARNING  | baselines.SingleGP:fit:216 - Running MC sample inducing method\n"
     ]
    },
    {
     "name": "stdout",
     "output_type": "stream",
     "text": [
      "pole_mass:  0.7 pole_length:  0.7 step:  200 acc_reward:  54.42750972867739 violation_rate:  0.14\n",
      "subtask:  0 , epi:  0\n"
     ]
    },
    {
     "name": "stderr",
     "output_type": "stream",
     "text": [
      "2020-07-03 07:15:05.551 | WARNING  | baselines.SingleGP:fit:216 - Running MC sample inducing method\n"
     ]
    },
    {
     "name": "stdout",
     "output_type": "stream",
     "text": [
      "pole_mass:  0.3 pole_length:  0.7 step:  200 acc_reward:  71.18521385870531 violation_rate:  0.18\n",
      "subtask:  0 , epi:  0\n"
     ]
    },
    {
     "name": "stderr",
     "output_type": "stream",
     "text": [
      "2020-07-03 07:18:36.495 | WARNING  | baselines.SingleGP:fit:216 - Running MC sample inducing method\n"
     ]
    },
    {
     "name": "stdout",
     "output_type": "stream",
     "text": [
      "pole_mass:  0.7 pole_length:  0.7 step:  200 acc_reward:  63.712803429643714 violation_rate:  0.09\n",
      "subtask:  0 , epi:  0\n"
     ]
    },
    {
     "name": "stderr",
     "output_type": "stream",
     "text": [
      "2020-07-03 07:22:36.510 | WARNING  | baselines.SingleGP:fit:216 - Running MC sample inducing method\n"
     ]
    },
    {
     "name": "stdout",
     "output_type": "stream",
     "text": [
      "pole_mass:  0.3 pole_length:  0.3 step:  200 acc_reward:  73.19842136405403 violation_rate:  0.03\n",
      "subtask:  0 , epi:  0\n"
     ]
    },
    {
     "name": "stderr",
     "output_type": "stream",
     "text": [
      "2020-07-03 07:26:18.136 | WARNING  | baselines.SingleGP:fit:216 - Running MC sample inducing method\n"
     ]
    },
    {
     "name": "stdout",
     "output_type": "stream",
     "text": [
      "pole_mass:  0.7 pole_length:  0.7 step:  200 acc_reward:  59.04626577277112 violation_rate:  0.12\n",
      "subtask:  0 , epi:  0\n"
     ]
    },
    {
     "name": "stderr",
     "output_type": "stream",
     "text": [
      "2020-07-03 07:30:12.038 | WARNING  | baselines.SingleGP:fit:216 - Running MC sample inducing method\n"
     ]
    },
    {
     "name": "stdout",
     "output_type": "stream",
     "text": [
      "pole_mass:  0.3 pole_length:  0.3 step:  200 acc_reward:  100.74021914737922 violation_rate:  0.09\n",
      "subtask:  0 , epi:  0\n"
     ]
    },
    {
     "name": "stderr",
     "output_type": "stream",
     "text": [
      "2020-07-03 07:34:25.778 | WARNING  | baselines.SingleGP:fit:216 - Running MC sample inducing method\n"
     ]
    },
    {
     "name": "stdout",
     "output_type": "stream",
     "text": [
      "pole_mass:  0.7 pole_length:  0.3 step:  200 acc_reward:  67.65875960586851 violation_rate:  0.025\n",
      "subtask:  0 , epi:  0\n"
     ]
    },
    {
     "name": "stderr",
     "output_type": "stream",
     "text": [
      "2020-07-03 07:38:41.659 | WARNING  | baselines.SingleGP:fit:216 - Running MC sample inducing method\n"
     ]
    },
    {
     "name": "stdout",
     "output_type": "stream",
     "text": [
      "pole_mass:  0.3 pole_length:  0.3 step:  200 acc_reward:  49.07190167128632 violation_rate:  0.035\n",
      "subtask:  0 , epi:  0\n"
     ]
    },
    {
     "name": "stderr",
     "output_type": "stream",
     "text": [
      "2020-07-03 07:42:36.079 | WARNING  | baselines.SingleGP:fit:216 - Running MC sample inducing method\n"
     ]
    },
    {
     "name": "stdout",
     "output_type": "stream",
     "text": [
      "pole_mass:  0.3 pole_length:  0.3 step:  200 acc_reward:  90.12827171305001 violation_rate:  0.05\n",
      "subtask:  0 , epi:  0\n"
     ]
    },
    {
     "name": "stderr",
     "output_type": "stream",
     "text": [
      "2020-07-03 07:47:01.025 | WARNING  | baselines.SingleGP:fit:216 - Running MC sample inducing method\n"
     ]
    },
    {
     "name": "stdout",
     "output_type": "stream",
     "text": [
      "pole_mass:  0.3 pole_length:  0.3 step:  200 acc_reward:  88.5716351519669 violation_rate:  0.01\n",
      "subtask:  0 , epi:  0\n"
     ]
    },
    {
     "name": "stderr",
     "output_type": "stream",
     "text": [
      "2020-07-03 07:51:23.516 | WARNING  | baselines.SingleGP:fit:216 - Running MC sample inducing method\n"
     ]
    },
    {
     "name": "stdout",
     "output_type": "stream",
     "text": [
      "pole_mass:  0.3 pole_length:  0.3 step:  200 acc_reward:  101.89759157549949 violation_rate:  0.0\n",
      "subtask:  0 , epi:  0\n"
     ]
    },
    {
     "name": "stderr",
     "output_type": "stream",
     "text": [
      "2020-07-03 07:55:26.629 | WARNING  | baselines.SingleGP:fit:216 - Running MC sample inducing method\n"
     ]
    },
    {
     "name": "stdout",
     "output_type": "stream",
     "text": [
      "pole_mass:  0.3 pole_length:  0.7 step:  200 acc_reward:  60.33348101759021 violation_rate:  0.125\n",
      "subtask:  0 , epi:  0\n"
     ]
    },
    {
     "name": "stderr",
     "output_type": "stream",
     "text": [
      "2020-07-03 07:59:35.663 | WARNING  | baselines.SingleGP:fit:216 - Running MC sample inducing method\n"
     ]
    },
    {
     "name": "stdout",
     "output_type": "stream",
     "text": [
      "pole_mass:  0.3 pole_length:  0.7 step:  200 acc_reward:  74.27851068103719 violation_rate:  0.18\n",
      "subtask:  0 , epi:  0\n"
     ]
    },
    {
     "name": "stderr",
     "output_type": "stream",
     "text": [
      "2020-07-03 08:03:51.159 | WARNING  | baselines.SingleGP:fit:216 - Running MC sample inducing method\n"
     ]
    },
    {
     "name": "stdout",
     "output_type": "stream",
     "text": [
      "pole_mass:  0.3 pole_length:  0.3 step:  200 acc_reward:  70.2060923589025 violation_rate:  0.015\n",
      "subtask:  0 , epi:  0\n"
     ]
    },
    {
     "name": "stderr",
     "output_type": "stream",
     "text": [
      "2020-07-03 08:07:57.087 | WARNING  | baselines.SingleGP:fit:216 - Running MC sample inducing method\n"
     ]
    },
    {
     "name": "stdout",
     "output_type": "stream",
     "text": [
      "pole_mass:  0.7 pole_length:  0.3 step:  200 acc_reward:  92.36321272514685 violation_rate:  0.055\n",
      "subtask:  0 , epi:  0\n"
     ]
    },
    {
     "name": "stderr",
     "output_type": "stream",
     "text": [
      "2020-07-03 08:12:07.885 | WARNING  | baselines.SingleGP:fit:216 - Running MC sample inducing method\n"
     ]
    },
    {
     "name": "stdout",
     "output_type": "stream",
     "text": [
      "pole_mass:  0.3 pole_length:  0.3 step:  200 acc_reward:  66.31090231818781 violation_rate:  0.07\n",
      "subtask:  0 , epi:  0\n"
     ]
    },
    {
     "name": "stderr",
     "output_type": "stream",
     "text": [
      "2020-07-03 08:15:57.907 | WARNING  | baselines.SingleGP:fit:216 - Running MC sample inducing method\n"
     ]
    },
    {
     "name": "stdout",
     "output_type": "stream",
     "text": [
      "pole_mass:  0.7 pole_length:  0.7 step:  200 acc_reward:  32.56844000975364 violation_rate:  0.1\n",
      "subtask:  0 , epi:  0\n"
     ]
    },
    {
     "name": "stderr",
     "output_type": "stream",
     "text": [
      "2020-07-03 08:19:38.202 | WARNING  | baselines.SingleGP:fit:216 - Running MC sample inducing method\n"
     ]
    },
    {
     "name": "stdout",
     "output_type": "stream",
     "text": [
      "pole_mass:  0.3 pole_length:  0.7 step:  200 acc_reward:  56.08250880278703 violation_rate:  0.175\n",
      "subtask:  0 , epi:  0\n"
     ]
    },
    {
     "name": "stderr",
     "output_type": "stream",
     "text": [
      "2020-07-03 08:23:50.022 | WARNING  | baselines.SingleGP:fit:216 - Running MC sample inducing method\n"
     ]
    },
    {
     "name": "stdout",
     "output_type": "stream",
     "text": [
      "pole_mass:  0.3 pole_length:  0.3 step:  200 acc_reward:  84.8177400443745 violation_rate:  0.005\n",
      "subtask:  0 , epi:  0\n"
     ]
    },
    {
     "name": "stderr",
     "output_type": "stream",
     "text": [
      "2020-07-03 08:27:39.414 | WARNING  | baselines.SingleGP:fit:216 - Running MC sample inducing method\n"
     ]
    },
    {
     "name": "stdout",
     "output_type": "stream",
     "text": [
      "pole_mass:  0.7 pole_length:  0.7 step:  200 acc_reward:  55.490398428640155 violation_rate:  0.195\n",
      "subtask:  0 , epi:  0\n"
     ]
    },
    {
     "name": "stderr",
     "output_type": "stream",
     "text": [
      "2020-07-03 08:32:08.714 | WARNING  | baselines.SingleGP:fit:216 - Running MC sample inducing method\n"
     ]
    },
    {
     "name": "stdout",
     "output_type": "stream",
     "text": [
      "pole_mass:  0.3 pole_length:  0.3 step:  200 acc_reward:  71.8924018714505 violation_rate:  0.025\n",
      "subtask:  0 , epi:  0\n"
     ]
    },
    {
     "name": "stderr",
     "output_type": "stream",
     "text": [
      "2020-07-03 08:36:07.270 | WARNING  | baselines.SingleGP:fit:216 - Running MC sample inducing method\n"
     ]
    },
    {
     "name": "stdout",
     "output_type": "stream",
     "text": [
      "pole_mass:  0.3 pole_length:  0.7 step:  200 acc_reward:  53.265139374813664 violation_rate:  0.12\n",
      "subtask:  0 , epi:  0\n"
     ]
    },
    {
     "name": "stderr",
     "output_type": "stream",
     "text": [
      "2020-07-03 08:40:29.966 | WARNING  | baselines.SingleGP:fit:216 - Running MC sample inducing method\n"
     ]
    },
    {
     "name": "stdout",
     "output_type": "stream",
     "text": [
      "pole_mass:  0.3 pole_length:  0.3 step:  200 acc_reward:  85.82505000801149 violation_rate:  0.015\n",
      "subtask:  0 , epi:  0\n"
     ]
    },
    {
     "name": "stderr",
     "output_type": "stream",
     "text": [
      "2020-07-03 08:45:02.093 | WARNING  | baselines.SingleGP:fit:216 - Running MC sample inducing method\n"
     ]
    },
    {
     "name": "stdout",
     "output_type": "stream",
     "text": [
      "pole_mass:  0.3 pole_length:  0.3 step:  200 acc_reward:  71.29515497419573 violation_rate:  0.0\n",
      "subtask:  0 , epi:  0\n"
     ]
    },
    {
     "name": "stderr",
     "output_type": "stream",
     "text": [
      "2020-07-03 08:49:00.991 | WARNING  | baselines.SingleGP:fit:216 - Running MC sample inducing method\n"
     ]
    },
    {
     "name": "stdout",
     "output_type": "stream",
     "text": [
      "pole_mass:  0.7 pole_length:  0.7 step:  200 acc_reward:  48.5405450685683 violation_rate:  0.07\n",
      "subtask:  0 , epi:  0\n"
     ]
    },
    {
     "name": "stderr",
     "output_type": "stream",
     "text": [
      "2020-07-03 08:53:25.180 | WARNING  | baselines.SingleGP:fit:216 - Running MC sample inducing method\n"
     ]
    },
    {
     "name": "stdout",
     "output_type": "stream",
     "text": [
      "pole_mass:  0.7 pole_length:  0.3 step:  200 acc_reward:  69.36252345587366 violation_rate:  0.03\n",
      "subtask:  0 , epi:  0\n"
     ]
    },
    {
     "name": "stderr",
     "output_type": "stream",
     "text": [
      "2020-07-03 08:57:58.205 | WARNING  | baselines.SingleGP:fit:216 - Running MC sample inducing method\n"
     ]
    },
    {
     "name": "stdout",
     "output_type": "stream",
     "text": [
      "pole_mass:  0.3 pole_length:  0.3 step:  200 acc_reward:  126.95340918155227 violation_rate:  0.005\n",
      "subtask:  0 , epi:  0\n"
     ]
    },
    {
     "name": "stderr",
     "output_type": "stream",
     "text": [
      "2020-07-03 09:02:24.003 | WARNING  | baselines.SingleGP:fit:216 - Running MC sample inducing method\n"
     ]
    },
    {
     "name": "stdout",
     "output_type": "stream",
     "text": [
      "pole_mass:  0.3 pole_length:  0.3 step:  200 acc_reward:  56.25201220114325 violation_rate:  0.085\n",
      "subtask:  0 , epi:  0\n",
      "pole_mass:  0.3 pole_length:  0.3 step:  57 acc_reward:  16.352362468364664 violation_rate:  0.017543859649122806\n",
      "subtask:  0 , epi:  0\n"
     ]
    },
    {
     "name": "stderr",
     "output_type": "stream",
     "text": [
      "2020-07-03 09:06:29.330 | WARNING  | baselines.SingleGP:fit:216 - Running MC sample inducing method\n"
     ]
    },
    {
     "name": "stdout",
     "output_type": "stream",
     "text": [
      "pole_mass:  0.3 pole_length:  0.7 step:  200 acc_reward:  61.623414902348564 violation_rate:  0.235\n",
      "subtask:  0 , epi:  0\n"
     ]
    },
    {
     "name": "stderr",
     "output_type": "stream",
     "text": [
      "2020-07-03 09:10:42.836 | WARNING  | baselines.SingleGP:fit:216 - Running MC sample inducing method\n"
     ]
    },
    {
     "name": "stdout",
     "output_type": "stream",
     "text": [
      "pole_mass:  0.7 pole_length:  0.3 step:  200 acc_reward:  71.88995224623378 violation_rate:  0.04\n",
      "subtask:  0 , epi:  0\n"
     ]
    },
    {
     "name": "stderr",
     "output_type": "stream",
     "text": [
      "2020-07-03 09:14:56.732 | WARNING  | baselines.SingleGP:fit:216 - Running MC sample inducing method\n"
     ]
    },
    {
     "name": "stdout",
     "output_type": "stream",
     "text": [
      "pole_mass:  0.3 pole_length:  0.7 step:  200 acc_reward:  66.36372182232695 violation_rate:  0.17\n",
      "subtask:  0 , epi:  0\n"
     ]
    },
    {
     "name": "stderr",
     "output_type": "stream",
     "text": [
      "2020-07-03 09:18:54.507 | WARNING  | baselines.SingleGP:fit:216 - Running MC sample inducing method\n"
     ]
    },
    {
     "name": "stdout",
     "output_type": "stream",
     "text": [
      "pole_mass:  0.3 pole_length:  0.7 step:  200 acc_reward:  68.31301082713588 violation_rate:  0.12\n",
      "subtask:  0 , epi:  0\n"
     ]
    },
    {
     "name": "stderr",
     "output_type": "stream",
     "text": [
      "2020-07-03 09:22:52.833 | WARNING  | baselines.SingleGP:fit:216 - Running MC sample inducing method\n"
     ]
    },
    {
     "name": "stdout",
     "output_type": "stream",
     "text": [
      "pole_mass:  0.3 pole_length:  0.3 step:  142 acc_reward:  48.12275786584308 violation_rate:  0.056338028169014086\n",
      "subtask:  0 , epi:  0\n"
     ]
    },
    {
     "name": "stderr",
     "output_type": "stream",
     "text": [
      "2020-07-03 09:27:00.784 | WARNING  | baselines.SingleGP:fit:216 - Running MC sample inducing method\n"
     ]
    },
    {
     "name": "stdout",
     "output_type": "stream",
     "text": [
      "pole_mass:  0.7 pole_length:  0.3 step:  200 acc_reward:  94.25054291620316 violation_rate:  0.01\n",
      "subtask:  0 , epi:  0\n"
     ]
    },
    {
     "name": "stderr",
     "output_type": "stream",
     "text": [
      "2020-07-03 09:31:20.553 | WARNING  | baselines.SingleGP:fit:216 - Running MC sample inducing method\n"
     ]
    },
    {
     "name": "stdout",
     "output_type": "stream",
     "text": [
      "pole_mass:  0.3 pole_length:  0.3 step:  200 acc_reward:  69.50807648721683 violation_rate:  0.015\n",
      "subtask:  0 , epi:  0\n"
     ]
    },
    {
     "name": "stderr",
     "output_type": "stream",
     "text": [
      "2020-07-03 09:35:18.579 | WARNING  | baselines.SingleGP:fit:216 - Running MC sample inducing method\n"
     ]
    },
    {
     "name": "stdout",
     "output_type": "stream",
     "text": [
      "pole_mass:  0.7 pole_length:  0.7 step:  200 acc_reward:  50.77270228937626 violation_rate:  0.15\n",
      "subtask:  0 , epi:  0\n"
     ]
    },
    {
     "name": "stderr",
     "output_type": "stream",
     "text": [
      "2020-07-03 09:39:18.255 | WARNING  | baselines.SingleGP:fit:216 - Running MC sample inducing method\n"
     ]
    },
    {
     "name": "stdout",
     "output_type": "stream",
     "text": [
      "pole_mass:  0.3 pole_length:  0.7 step:  200 acc_reward:  58.34254543308214 violation_rate:  0.195\n",
      "subtask:  0 , epi:  0\n"
     ]
    },
    {
     "name": "stderr",
     "output_type": "stream",
     "text": [
      "2020-07-03 09:43:03.193 | WARNING  | baselines.SingleGP:fit:216 - Running MC sample inducing method\n"
     ]
    },
    {
     "name": "stdout",
     "output_type": "stream",
     "text": [
      "pole_mass:  0.7 pole_length:  0.7 step:  200 acc_reward:  63.3874626926718 violation_rate:  0.195\n",
      "subtask:  0 , epi:  0\n"
     ]
    },
    {
     "name": "stderr",
     "output_type": "stream",
     "text": [
      "2020-07-03 09:47:11.221 | WARNING  | baselines.SingleGP:fit:216 - Running MC sample inducing method\n"
     ]
    },
    {
     "name": "stdout",
     "output_type": "stream",
     "text": [
      "pole_mass:  0.7 pole_length:  0.3 step:  200 acc_reward:  38.18460925689041 violation_rate:  0.115\n",
      "subtask:  0 , epi:  0\n"
     ]
    },
    {
     "name": "stderr",
     "output_type": "stream",
     "text": [
      "2020-07-03 09:51:22.756 | WARNING  | baselines.SingleGP:fit:216 - Running MC sample inducing method\n"
     ]
    },
    {
     "name": "stdout",
     "output_type": "stream",
     "text": [
      "pole_mass:  0.3 pole_length:  0.3 step:  200 acc_reward:  47.621795125963075 violation_rate:  0.0\n",
      "subtask:  0 , epi:  0\n"
     ]
    },
    {
     "name": "stderr",
     "output_type": "stream",
     "text": [
      "2020-07-03 09:55:16.886 | WARNING  | baselines.SingleGP:fit:216 - Running MC sample inducing method\n"
     ]
    },
    {
     "name": "stdout",
     "output_type": "stream",
     "text": [
      "pole_mass:  0.3 pole_length:  0.7 step:  200 acc_reward:  68.35583126774051 violation_rate:  0.145\n",
      "subtask:  0 , epi:  0\n"
     ]
    },
    {
     "name": "stderr",
     "output_type": "stream",
     "text": [
      "2020-07-03 09:59:09.852 | WARNING  | baselines.SingleGP:fit:216 - Running MC sample inducing method\n"
     ]
    },
    {
     "name": "stdout",
     "output_type": "stream",
     "text": [
      "pole_mass:  0.7 pole_length:  0.7 step:  200 acc_reward:  68.33900427993905 violation_rate:  0.11\n",
      "subtask:  0 , epi:  0\n"
     ]
    },
    {
     "name": "stderr",
     "output_type": "stream",
     "text": [
      "2020-07-03 10:02:50.181 | WARNING  | baselines.SingleGP:fit:216 - Running MC sample inducing method\n"
     ]
    },
    {
     "name": "stdout",
     "output_type": "stream",
     "text": [
      "pole_mass:  0.3 pole_length:  0.7 step:  200 acc_reward:  53.37838827991164 violation_rate:  0.11\n",
      "subtask:  0 , epi:  0\n"
     ]
    },
    {
     "name": "stderr",
     "output_type": "stream",
     "text": [
      "2020-07-03 10:06:45.327 | WARNING  | baselines.SingleGP:fit:216 - Running MC sample inducing method\n"
     ]
    },
    {
     "name": "stdout",
     "output_type": "stream",
     "text": [
      "pole_mass:  0.3 pole_length:  0.7 step:  200 acc_reward:  66.49951571526063 violation_rate:  0.18\n",
      "subtask:  0 , epi:  0\n"
     ]
    },
    {
     "name": "stderr",
     "output_type": "stream",
     "text": [
      "2020-07-03 10:10:32.505 | WARNING  | baselines.SingleGP:fit:216 - Running MC sample inducing method\n"
     ]
    },
    {
     "name": "stdout",
     "output_type": "stream",
     "text": [
      "pole_mass:  0.3 pole_length:  0.7 step:  200 acc_reward:  70.23762169083541 violation_rate:  0.24\n",
      "subtask:  0 , epi:  0\n"
     ]
    },
    {
     "name": "stderr",
     "output_type": "stream",
     "text": [
      "2020-07-03 10:13:58.794 | WARNING  | baselines.SingleGP:fit:216 - Running MC sample inducing method\n"
     ]
    },
    {
     "name": "stdout",
     "output_type": "stream",
     "text": [
      "pole_mass:  0.3 pole_length:  0.7 step:  200 acc_reward:  58.928423998897664 violation_rate:  0.0\n",
      "subtask:  0 , epi:  0\n"
     ]
    },
    {
     "name": "stderr",
     "output_type": "stream",
     "text": [
      "2020-07-03 10:17:50.690 | WARNING  | baselines.SingleGP:fit:216 - Running MC sample inducing method\n"
     ]
    },
    {
     "name": "stdout",
     "output_type": "stream",
     "text": [
      "pole_mass:  0.3 pole_length:  0.7 step:  200 acc_reward:  93.04784088248806 violation_rate:  0.105\n",
      "subtask:  0 , epi:  0\n"
     ]
    },
    {
     "name": "stderr",
     "output_type": "stream",
     "text": [
      "2020-07-03 10:21:46.688 | WARNING  | baselines.SingleGP:fit:216 - Running MC sample inducing method\n"
     ]
    },
    {
     "name": "stdout",
     "output_type": "stream",
     "text": [
      "pole_mass:  0.3 pole_length:  0.3 step:  200 acc_reward:  59.45330935031076 violation_rate:  0.06\n",
      "subtask:  0 , epi:  0\n"
     ]
    },
    {
     "name": "stderr",
     "output_type": "stream",
     "text": [
      "2020-07-03 10:25:48.826 | WARNING  | baselines.SingleGP:fit:216 - Running MC sample inducing method\n"
     ]
    },
    {
     "name": "stdout",
     "output_type": "stream",
     "text": [
      "pole_mass:  0.7 pole_length:  0.3 step:  200 acc_reward:  82.90913925048736 violation_rate:  0.065\n",
      "subtask:  0 , epi:  0\n"
     ]
    },
    {
     "name": "stderr",
     "output_type": "stream",
     "text": [
      "2020-07-03 10:29:32.713 | WARNING  | baselines.SingleGP:fit:216 - Running MC sample inducing method\n"
     ]
    },
    {
     "name": "stdout",
     "output_type": "stream",
     "text": [
      "pole_mass:  0.3 pole_length:  0.7 step:  200 acc_reward:  84.5089707494448 violation_rate:  0.03\n",
      "subtask:  0 , epi:  0\n"
     ]
    },
    {
     "name": "stderr",
     "output_type": "stream",
     "text": [
      "2020-07-03 10:33:38.469 | WARNING  | baselines.SingleGP:fit:216 - Running MC sample inducing method\n"
     ]
    },
    {
     "name": "stdout",
     "output_type": "stream",
     "text": [
      "pole_mass:  0.3 pole_length:  0.3 step:  200 acc_reward:  34.69204822018689 violation_rate:  0.055\n"
     ]
    }
   ],
   "source": [
    "m_p_list = [0.3, 0.7]\n",
    "l_list = [0.3, 0.7]\n",
    "task_epi = 0\n",
    "while task_epi < 200:\n",
    "    task_epi += 1\n",
    "    time_task_0 = time.time()\n",
    "    if total_count == 0:\n",
    "        # for the first step, add one data pair with random policy as initialization\n",
    "        state = task[0].reset()\n",
    "        action = task[0].action_space.sample()\n",
    "        state_next, reward, done, info = task[0].step(action)\n",
    "        model.fit(data=[0, state, action, state_next-state])\n",
    "        label_list.append(0)\n",
    "\n",
    "    # for other steps, run DPGP MBRL\n",
    "    # Different sub-tasks share the same action space\n",
    "    # Note that the subtask_index is unknown to the model, it's for debugging\n",
    "    task_r = 0\n",
    "    for subtask_index in range(len(task)):\n",
    "        m_p = m_p_list[np.random.randint(2)]\n",
    "        l = l_list[np.random.randint(2)]\n",
    "#         l = np.random.uniform(0.2,1.0)\n",
    "        task[subtask_index].unwrapped.m_p = m_p\n",
    "        task[subtask_index].unwrapped.l = l\n",
    "        \n",
    "        for epi in range(1): # each subtask contains a fixed number of episode\n",
    "            O, A, R, acc_reward, done, V = [], [], [], 0, False, []\n",
    "\n",
    "            print('subtask: ', subtask_index, ', epi: ', epi)\n",
    "            time_subtask_0 = time.time()\n",
    "\n",
    "            state = task[subtask_index].reset()\n",
    "            O.append(state)\n",
    "            # reset the controller at the beginning of each new dynamic\n",
    "            mpc_controller.reset()\n",
    "            i = 0\n",
    "            while not done:\n",
    "                i += 1\n",
    "                if render:\n",
    "                    task[subtask_index].render()\n",
    "\n",
    "                total_count += 1\n",
    "                label_list.append(subtask_index)\n",
    "\n",
    "                # MPC policy\n",
    "                start_1 = time.time()\n",
    "                action = np.array([mpc_controller.act(task=task[subtask_index], model=model, state=state)])\n",
    "                start_2 = time.time()\n",
    "\n",
    "                # Random Policy\n",
    "                # action = task[subtask_index].action_space.sample()\n",
    "\n",
    "                # interact with env\n",
    "                state_next, reward, done, violation = task[subtask_index].step(action)\n",
    "                acc_reward += reward\n",
    "\n",
    "#                 print('action ', action)\n",
    "#                 print('reward: %.4f' % reward)\n",
    "\n",
    "                A.append(action)\n",
    "                O.append(state_next)\n",
    "                R.append(reward)\n",
    "                V.append(violation)\n",
    "\n",
    "                # logger.info('acc_reward : {}', acc_reward)\n",
    "                start_3 = time.time()\n",
    "\n",
    "                # train the model\n",
    "                # when reach some kind of metric, stop training, only inference\n",
    "\n",
    "                model.fit(data=[subtask_index, state, action, state_next - state])\n",
    "\n",
    "                state = copy.deepcopy(state_next)\n",
    "                start_4 = time.time()\n",
    "\n",
    "                # print('mpc: {}, env: {}, model: {}'.format(start_2-start_1, start_3-start_2, start_4-start_3))\n",
    "            print('pole_mass: ', m_p, 'pole_length: ', l,'step: ', i, 'acc_reward: ', acc_reward, 'violation_rate: ', sum(V)/len(V))\n",
    "            task[subtask_index].close()\n",
    "\n",
    "            if done:\n",
    "                samples = {\n",
    "                    \"obs\": np.array(O),\n",
    "                    \"actions\": np.array(A),\n",
    "                    \"rewards\": np.array(R),\n",
    "                    \"reward_sum\": acc_reward,\n",
    "                    \"violations\": np.array(V)\n",
    "                }\n",
    "                log.append(samples)\n",
    "                if log_name is None:\n",
    "                    log_name = datetime.datetime.now()\n",
    "                path = './misc/log/gp_robust_' + log_name.strftime(\"%d-%H-%M\") + '.npy'\n",
    "                np.save(path, log, allow_pickle=True)\n",
    "                dumb_reward_plot(path)\n",
    "#                 if done:\n",
    "#                     samples = {\n",
    "#                         \"obs\": np.array(O),\n",
    "#                         \"actions\": np.array(A),\n",
    "#                         \"rewards\": np.array(R),\n",
    "#                         \"reward_sum\": acc_reward,\n",
    "#                     }\n",
    "#                     log.append(samples)\n",
    "#                     if log_name is None:\n",
    "#                         log_name = datetime.datetime.now()\n",
    "#                     path = './misc/log/CartPole-GP-'+ log_name.strftime(\"%d-%H-%M\") + '.npy'\n",
    "#                     np.save(path, log, allow_pickle=True)\n",
    "#                     dumb_reward_plot(path)\n",
    "\n",
    "#                     print('-------------------------------------------------')\n",
    "#                     print('pole_mass', m_p, 'pole_length', l, 'Episode finished, time: ', time.time()-time_subtask_0, ' with acc_reward: ', acc_reward,\n",
    "#                           ' with final reward: ', reward)\n",
    "#                     print('-------------------------------------------------')\n",
    "#                     subtask_list.append(subtask_index)\n",
    "#                     subtask_reward.append(acc_reward)\n",
    "#                     task_r += acc_reward\n",
    "#                     if not model.name == 'DPGPMM':\n",
    "#                         if len(subtask_succ_count) < subtask_index + 1:\n",
    "#                             subtask_succ_count.append(0)\n",
    "#                     if acc_reward >= 170:\n",
    "#                         subtask_solved[subtask_index] = True\n",
    "#                         print('-------------------------------------------------')\n",
    "#                         print('Episode finished: Success!!!!, time: ', time.time()-time_subtask_0)\n",
    "#                         print('-------------------------------------------------')\n",
    "#                         subtask_list.append(subtask_index)\n",
    "#                         subtask_reward.append(acc_reward)\n",
    "#                         task_r += acc_reward\n",
    "#                         # record succ rate\n",
    "#                         if model.name == 'DPGPMM':\n",
    "#                             subtask_succ_count[model.DP_mix.assigns[len(model.DP_mix.data) - 1]] += 1\n",
    "#                         else:\n",
    "#                             if len(subtask_succ_count) < subtask_index + 1:\n",
    "#                                 subtask_succ_count.append(1)\n",
    "#                             else:\n",
    "#                                 subtask_succ_count[subtask_index] += 1\n",
    "\n",
    "#             if model.name == 'DPGPMM':\n",
    "#                 print('subtask_succ_count: ', subtask_succ_count)\n",
    "#                 # todo: check the training termination criterion right or not\n",
    "#                 for i in range(len(subtask_succ_count)):\n",
    "#                     if subtask_succ_count[i] >= 10:\n",
    "#                         comp_trainable[i] = 0\n",
    "#             else:\n",
    "#                 print('subtask_succ_count: ', subtask_succ_count)\n",
    "#                 # todo: check the training termination criterion right or not\n",
    "#                 all_solve = 0\n",
    "#                 for i in range(len(subtask_succ_count)):\n",
    "#                     if subtask_succ_count[i] >= 10:\n",
    "#                         all_solve += 1\n",
    "#                 if all_solve == 4:\n",
    "#                     trainable = False\n",
    "#             if render:\n",
    "#                 task[subtask_index].close()\n",
    "\n",
    "\n"
   ]
  },
  {
   "cell_type": "code",
   "execution_count": 32,
   "metadata": {},
   "outputs": [
    {
     "data": {
      "text/plain": [
       "0"
      ]
     },
     "execution_count": 32,
     "metadata": {},
     "output_type": "execute_result"
    }
   ],
   "source": [
    "np.random.randint(4)"
   ]
  },
  {
   "cell_type": "code",
   "execution_count": null,
   "metadata": {},
   "outputs": [],
   "source": []
  }
 ],
 "metadata": {
  "kernelspec": {
   "display_name": "Python 3",
   "language": "python",
   "name": "python3"
  },
  "language_info": {
   "codemirror_mode": {
    "name": "ipython",
    "version": 3
   },
   "file_extension": ".py",
   "mimetype": "text/x-python",
   "name": "python",
   "nbconvert_exporter": "python",
   "pygments_lexer": "ipython3",
   "version": "3.7.7"
  }
 },
 "nbformat": 4,
 "nbformat_minor": 4
}
