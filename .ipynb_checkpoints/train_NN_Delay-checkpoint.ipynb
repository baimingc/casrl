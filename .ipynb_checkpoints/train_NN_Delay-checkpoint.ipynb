{
 "cells": [
  {
   "cell_type": "code",
   "execution_count": 1,
   "metadata": {},
   "outputs": [],
   "source": [
    "import time, datetime\n",
    "import copy\n",
    "import os\n",
    "import sys\n",
    "import warnings\n",
    "#warnings.filterwarnings(\"ignore\", category=UserWarning)\n",
    "#warnings.filterwarnings(\"ignore\", category=RuntimeWarning)\n",
    "\n",
    "import numpy as np\n",
    "from loguru import logger\n",
    "import yaml\n",
    "from utils import dumb_reward_plot\n",
    "import gym\n",
    "\n",
    "sys.path.append('./envs/cartpole-envs')\n",
    "sys.path.append('./')\n",
    "import cartpole_envs\n",
    "#import highway_env\n",
    "\n",
    "from utils import plot_reward, plot_index\n",
    "from mpc.mpc_cp import MPC\n",
    "from baselines.NN import NN\n",
    "\n",
    "def prepare_dynamics(gym_config):\n",
    "    dynamics_name = gym_config['dynamics_name']\n",
    "    seed = gym_config['seed']\n",
    "    dynamics_set = []\n",
    "    for i in range(len(dynamics_name)):\n",
    "        env = gym.make(dynamics_name[i])\n",
    "        # env.seed(seed)\n",
    "        dynamics_set.append(gym.make(dynamics_name[i]))\n",
    "    \n",
    "    # use pre-defined env sequence\n",
    "    task = [dynamics_set[i] for i in gym_config['task_dynamics_list']]\n",
    "    return task\n",
    "\n",
    "def load_config(config_path=\"config.yml\"):\n",
    "    if os.path.isfile(config_path):\n",
    "        f = open(config_path)\n",
    "        return yaml.load(f, Loader=yaml.FullLoader)\n",
    "    else:\n",
    "        raise Exception(\"Configuration file is not found in the path: \"+config_path)\n"
   ]
  },
  {
   "cell_type": "code",
   "execution_count": 2,
   "metadata": {},
   "outputs": [
    {
     "name": "stderr",
     "output_type": "stream",
     "text": [
      "2020-05-21 16:18:41.133 | INFO     | __main__:<module>:12 - Using model: NN\n"
     ]
    },
    {
     "name": "stdout",
     "output_type": "stream",
     "text": [
      "{'render': False, 'task_dynamics_list': [0, 1, 2, 3], 'subtask_episode': 3, 'subtask_episode_length': 200, 'task_episode': 100, 'seed': 1000, 'dynamics_name': ['CartPoleSwingUpEnvCm05Pm04Pl05-v0', 'CartPoleSwingUpEnvCm05Pm04Pl07-v0', 'CartPoleSwingUpEnvCm05Pm08Pl05-v0', 'CartPoleSwingUpEnvCm05Pm08Pl07-v0'], 'max_delay_step': 2}\n"
     ]
    }
   ],
   "source": [
    "config = load_config('config/config_cp_nn_delay.yml')\n",
    "nn_config = config['NN_config']\n",
    "mpc_config = config['mpc_config']\n",
    "gym_config = config['gym_config']\n",
    "render = gym_config['render']\n",
    "\n",
    "# initialize the mixture model\n",
    "# model = DPGPMM(dpgp_config=dpgp_config)\n",
    "# model = SingleSparseGP(sparse_gp_config=sparse_gp_config)\n",
    "# model = SingleGP(gp_config=gp_config)\n",
    "model = NN(NN_config=nn_config)\n",
    "logger.info('Using model: {}', model.name)\n",
    "\n",
    "# initial MPC controller\n",
    "mpc_controller = MPC(mpc_config=mpc_config)\n",
    "\n",
    "# prepare task\n",
    "# the task is solved, if each dynamic is solved\n",
    "task = prepare_dynamics(gym_config)\n",
    "print(gym_config)\n",
    "\n",
    "\"\"\"start DPGP-MBRL\"\"\"\n",
    "data_buffer = []\n",
    "label_list = []\n",
    "subtask_list = []\n",
    "subtask_reward = []\n",
    "subtask_succ_count = [0]\n",
    "comp_trainable = [1]\n",
    "task_reward = []\n",
    "trainable = True\n",
    "task_solved = False\n",
    "subtask_solved = [False, False, False, False]\n",
    "total_count = 0\n",
    "task_epi = 0\n",
    "log_name = None\n",
    "\n",
    "total_tasks = 1\n",
    "max_delay_step = gym_config[\"max_delay_step\"]"
   ]
  },
  {
   "cell_type": "code",
   "execution_count": 3,
   "metadata": {},
   "outputs": [
    {
     "name": "stderr",
     "output_type": "stream",
     "text": [
      "2020-05-21 16:18:41.261 | INFO     | baselines.NN:fit:177 - Epoch [9/600], loss train: 0.9016, loss test  0.9040\n",
      "2020-05-21 16:18:41.280 | INFO     | baselines.NN:fit:177 - Epoch [19/600], loss train: 0.7292, loss test  0.7210\n",
      "2020-05-21 16:18:41.298 | INFO     | baselines.NN:fit:177 - Epoch [29/600], loss train: 0.4924, loss test  0.4871\n",
      "2020-05-21 16:18:41.316 | INFO     | baselines.NN:fit:177 - Epoch [39/600], loss train: 0.3399, loss test  0.3670\n",
      "2020-05-21 16:18:41.335 | INFO     | baselines.NN:fit:177 - Epoch [49/600], loss train: 0.2767, loss test  0.3444\n",
      "2020-05-21 16:18:41.353 | INFO     | baselines.NN:fit:177 - Epoch [59/600], loss train: 0.2482, loss test  0.3322\n"
     ]
    },
    {
     "name": "stdout",
     "output_type": "stream",
     "text": [
      "[ 0.0000000e+00  0.0000000e+00 -1.0000000e+00  1.2246468e-16\n",
      "  0.0000000e+00] [ 0.          0.         -0.24480611]\n",
      "[ 0.00000000e+00 -2.40520631e-17 -1.00000000e+00  1.22464680e-16\n",
      "  2.16468568e-16] [ 0.         -0.24480611  0.89021277]\n",
      "[-9.62082525e-19 -3.26408148e-01 -1.00000000e+00  1.22464680e-16\n",
      "  9.79224443e-01] [-0.24480611  0.89021277 -0.95559698]\n",
      "[-0.01305633  0.86271827 -0.99923299 -0.03915896 -2.58815482] [ 0.89021277 -0.95559698  0.0058586 ]\n",
      "[ 0.0214524  -0.40675553 -0.99792979  0.0643128   1.17120059] [-0.95559698  0.0058586  -0.63033533]\n",
      "[ 0.00518218 -0.40941986 -0.99984672  0.0175083   1.25496322] [ 0.0058586  -0.63033533 -0.20717843]\n",
      "[-0.01119461 -1.2506305  -0.99946575 -0.03268352  3.79884009] [-0.63033533 -0.20717843 -0.36971983]\n",
      "[-0.06121983 -1.50883293 -0.98300187 -0.18359556  4.53451931] [-0.20717843 -0.36971983 -0.3554869 ]\n",
      "[-0.12157315 -1.92412232 -0.93375786 -0.35790538  5.54286103] [-0.36971983 -0.3554869   0.35878307]\n",
      "[-0.19853804 -2.22693931 -0.83219696 -0.55448014  5.96937855] [-0.3554869   0.35878307 -0.27982932]\n",
      "[-0.28761561 -1.60671284 -0.6774446  -0.7355738   3.76752742] [ 0.35878307 -0.27982932 -0.25972319]\n",
      "[-0.35188413 -1.76012858 -0.55933382 -0.8289425   3.21251926] [-0.27982932 -0.25972319  0.40684912]\n",
      "[-0.42228927 -1.89891424 -0.44849535 -0.89378517  2.46857595] [-0.25972319  0.40684912  0.87286133]\n",
      "[-0.49824584 -1.42002914 -0.35819895 -0.93364528  0.77100629] [0.40684912 0.87286133 0.98326969]\n",
      "[-0.555047   -0.55457174 -0.32923933 -0.94424651 -1.2592191 ] [0.87286133 0.98326969 0.02304071]\n",
      "[-0.57722987  0.40390222 -0.37636219 -0.92647261 -3.31862115] [0.98326969 0.02304071 0.00324367]\n",
      "[-0.56107379  0.51902731 -0.49567468 -0.86850827 -4.54036267] [ 0.02304071  0.00324367 -0.27615383]\n",
      "[-0.54031269  0.66772231 -0.64439052 -0.76469658 -5.78492584] [ 0.00324367 -0.27615383  0.91002631]\n",
      "[-0.5136038   0.58626625 -0.80258918 -0.59653215 -6.52857576] [-0.27615383  0.91002631 -0.61974943]\n",
      "[ -0.49015315   1.83676513  -0.92939345  -0.36909054 -10.24243986] [ 0.91002631 -0.61974943  0.1094119 ]\n",
      "[-0.41668255  1.35641321 -0.99949863  0.03166203 -9.33806839] [-0.61974943  0.1094119  -0.08255381]\n",
      "[-0.36242602  1.46857538 -0.91902749  0.39419344 -9.63707564] [ 0.1094119  -0.08255381 -0.57107991]\n",
      "[-0.303683    1.06486183 -0.70336703  0.71082686 -8.05948656] [-0.08255381 -0.57107991 -0.43886819]\n",
      "[-0.26108853  0.12720283 -0.44192529  0.89705186 -5.2432929 ] [-0.57107991 -0.43886819  0.01753672]\n",
      "[-0.25600042 -0.46343163 -0.24547734  0.96940233 -3.40315808] [-0.43886819  0.01753672 -0.83883595]\n",
      "[-0.27453768 -0.52813951 -0.11165245  0.99374732 -2.21316142] [ 0.01753672 -0.83883595 -0.02482467]\n",
      "[-0.29566326 -1.31083739 -0.02335716  0.99972718 -0.77995917] [-0.83883595 -0.02482467  0.14794317]\n",
      "[-0.34809676 -1.33284219  0.007839    0.99996927  0.39966125] [-0.02482467  0.14794317 -0.80955297]\n",
      "[-0.40141044 -1.19509412 -0.00814728  0.99996681  1.58126447] [ 0.14794317 -0.80955297  0.34978947]\n",
      "[-0.44921421 -1.92158052 -0.0713373   0.99745225  2.77738202] [-0.80955297  0.34978947  0.14553553]\n",
      "[-0.52607743 -1.64516036 -0.18148196  0.98339427  3.89362254] [ 0.34978947  0.14553553 -0.54352242]\n",
      "[-0.59188384 -1.59758902 -0.33182556  0.94334076  5.02655434] [ 0.14553553 -0.54352242  0.44718167]\n",
      "[-0.65578741 -2.24427197 -0.51353573  0.85806821  6.78194489] [-0.54352242  0.44718167 -0.26503077]\n",
      "[-0.74555828 -2.05310038 -0.72468565  0.68907961  7.49857214] [ 0.44718167 -0.26503077  0.4940207 ]\n",
      "[-0.8276823  -2.61561886 -0.89593023  0.44419481  9.53353076] [-0.26503077  0.4940207  -0.75898671]\n",
      "[-0.93230705 -2.31632208 -0.99688632  0.07885217  9.25252283] [ 0.4940207  -0.75898671 -0.44629532]\n",
      "[-1.02495994 -3.37002789 -0.95790957 -0.28707011 12.49671696] [-0.75898671 -0.44629532  0.0599713 ]\n",
      "[-1.15976105 -3.5810448  -0.70310938 -0.71108171 12.76483889] [-0.44629532  0.0599713  -0.32675803]\n",
      "[-1.30300284 -2.80323167 -0.2659288  -0.96399267 10.28623708] [ 0.0599713  -0.32675803 -0.43514308]\n",
      "[-1.41513211 -2.58929685  0.14180261 -0.98989495  8.97959382] [-0.32675803 -0.43514308  0.72133768]\n",
      "[-1.51870399 -2.62847637  0.48071151 -0.87687881  7.79643433] [-0.43514308  0.72133768 -0.54656184]\n",
      "[-1.62384304 -1.72425549  0.72657459 -0.68708759  8.0671285 ] [ 0.72133768 -0.54656184 -0.61464614]\n",
      "[-1.69281326 -2.14268951  0.90695942 -0.42121802  6.3453939 ] [-0.54656184 -0.61464614  0.09585575]\n",
      "[-1.77852084 -2.8473822   0.98366919 -0.1799859   3.93164759] [-0.61464614  0.09585575 -0.86790824]\n",
      "[-1.89241613 -2.71889709  0.99971902 -0.02370399  4.09871272] [ 0.09585575 -0.86790824  0.00473447]\n",
      "[-2.00117201 -3.85966101  0.99018216  0.13978304  0.64944979] [-0.86790824  0.00473447 -0.12367569]\n",
      "[-2.15555845 -3.80139575  0.98621719  0.16545593  0.98724979] [ 0.00473447 -0.12367569 -0.16722627]\n",
      "[-2.30761428 -3.90851522  0.97891615  0.20426252  0.86529386] [-0.12367569 -0.16722627 -0.08349164]\n",
      "[ 0.0000000e+00  0.0000000e+00 -1.0000000e+00  1.2246468e-16\n",
      "  0.0000000e+00] [0.         0.         0.76682758]\n",
      "[ 0.00000000e+00 -2.40520631e-17 -1.00000000e+00  1.22464680e-16\n",
      "  2.16468568e-16] [ 0.          0.76682758 -0.78069115]\n",
      "[-9.62082525e-19  1.02243678e+00 -1.00000000e+00  1.22464680e-16\n",
      " -3.06731033e+00] [ 0.76682758 -0.78069115 -0.37680367]\n",
      "[ 0.04089747 -0.025301   -0.99248272  0.12238482  0.07590299] [-0.78069115 -0.37680367 -0.73320925]\n",
      "[ 0.03988543 -0.54748694 -0.99284972  0.11937097  1.77490285] [-0.37680367 -0.73320925  0.18595149]\n",
      "[ 0.01798595 -1.54016068 -0.99881633  0.04864098  4.87229715] [-0.73320925  0.18595149  0.73197621]\n",
      "[-0.04362047 -1.29948214 -0.98932718 -0.1457111   4.2084347 ] [ 0.18595149  0.73197621 -0.49533778]\n",
      "[-0.09559976 -0.28015493 -0.95092979 -0.30940674  1.01138439] [ 0.73197621 -0.49533778 -0.95433259]\n",
      "[-0.10680596 -0.85149418 -0.93763798 -0.34761331  2.27669003] [-0.49533778 -0.95433259 -0.59597248]\n",
      "[-0.14086572 -1.97439263 -0.90214004 -0.43144334  5.02567921] [-0.95433259 -0.59597248 -0.96045315]\n",
      "[-0.21984143 -2.5529241  -0.79782389 -0.60289057  6.08301559] [-0.59597248 -0.96045315  0.61423194]\n",
      "[-0.32195839 -3.41638993 -0.62907016 -0.77734853  7.43925033] [-0.96045315  0.61423194 -0.18668929]\n",
      "[-0.45861399 -2.47593836 -0.3735067  -0.92762748  4.74839278] [ 0.61423194 -0.18668929  0.10209677]\n",
      "[-0.55765152 -2.49336813 -0.19165756 -0.98146186  3.67480696] [-0.18668929  0.10209677  0.40801954]\n",
      "[-0.65738625 -2.30570075 -0.04584239 -0.99894869  2.41034869] [ 0.10209677  0.40801954 -0.23317437]\n",
      "[-0.74961428 -1.90069536  0.05053395 -0.99872234  1.17748832] [ 0.40801954 -0.23317437 -0.19659087]\n",
      "[-0.82564209 -2.10013757  0.09749988 -0.99523554 -0.0296419 ] [-0.23317437 -0.19659087  0.24069077]\n",
      "[-0.9096476  -2.27881854  0.09631978 -0.99535044 -1.25469158] [-0.19659087  0.24069077  0.31037119]\n",
      "[-1.00080034 -2.05965403  0.04626516 -0.99892919 -2.3642829 ] [ 0.24069077  0.31037119 -0.55543369]\n",
      "[-1.0831865  -1.75563166 -0.04827087 -0.99883428 -3.49922413] [ 0.31037119 -0.55543369  0.31437957]\n",
      "[-1.15341177 -2.18120846 -0.18714855 -0.98233162 -4.61462156] [-0.55543369  0.31437957 -0.1708277 ]\n",
      "[-1.2406601  -1.77022542 -0.364265   -0.93129534 -6.00294579] [ 0.31437957 -0.1708277   0.72581381]\n",
      "[-1.31146912 -1.71833845 -0.57529216 -0.817948   -7.15708604] [-0.1708277   0.72581381 -0.63675356]\n",
      "[-1.38020266 -0.7060278  -0.78285721 -0.62220141 -9.86807912] [ 0.72581381 -0.63675356  0.61763114]\n",
      "[-1.40844377 -0.99482887 -0.96192709 -0.27330621 -9.92301125] [-0.63675356  0.61763114 -0.74672824]\n",
      "[ -1.44823693   0.0281483   -0.99279762   0.11980357 -13.19716362] [ 0.61763114 -0.74672824 -0.61860925]\n",
      "[-1.44711099 -1.12188782 -0.79730551  0.60357594 -9.63072776] [-0.74672824 -0.61860925 -0.0587376 ]\n",
      "[-1.49198651 -2.20894124 -0.51206626  0.85894595 -6.3193328 ] [-0.61860925 -0.0587376   0.8725875 ]\n",
      "[-1.58034416 -2.48555044 -0.28098023  0.95971356 -4.88222418] [-0.0587376   0.8725875   0.80504978]\n",
      "[-1.67976617 -1.81828807 -0.08940682  0.99599519 -4.31376033] [ 0.8725875   0.80504978 -0.42567605]\n",
      "[-1.7524977  -1.1869576   0.0829287   0.99655548 -3.30941535] [ 0.80504978 -0.42567605  0.49855983]\n",
      "[-1.799976   -1.59869298  0.21373885  0.97689084 -2.23750841] [-0.42567605  0.49855983 -0.29242682]\n",
      "[-1.86392372 -1.13577182  0.30019874  0.95387668 -0.78950754] [ 0.49855983 -0.29242682 -0.5225001 ]\n",
      "[-1.90935459 -1.3626229   0.33016776  0.94392227  0.13023951] [-0.29242682 -0.5225001  -0.55743724]\n",
      "[-1.96385951 -1.79602527  0.32524586  0.94562949  0.81327104] [-0.5225001  -0.55743724 -0.54879576]\n",
      "[-2.03570052 -2.26250104  0.29431708  0.95570783  1.47244289] [-0.55743724 -0.54879576  0.38082722]\n",
      "[-2.12620056 -2.72602796  0.23755028  0.97137524  2.18937731] [-0.54879576  0.38082722 -0.37986925]\n",
      "[-2.23524168 -2.35897607  0.15168034  0.9884296   3.59562574] [ 0.38082722 -0.37986925 -0.63493937]\n",
      "[-2.32960072 -2.72613407  0.00844294  0.99996436  4.59331922] [-0.37986925 -0.63493937  0.34261689]\n",
      "data size:  87\n"
     ]
    },
    {
     "name": "stderr",
     "output_type": "stream",
     "text": [
      "2020-05-21 16:18:41.372 | INFO     | baselines.NN:fit:177 - Epoch [69/600], loss train: 0.2305, loss test  0.3127\n",
      "2020-05-21 16:18:41.390 | INFO     | baselines.NN:fit:177 - Epoch [79/600], loss train: 0.2207, loss test  0.2931\n",
      "2020-05-21 16:18:41.408 | INFO     | baselines.NN:fit:177 - Epoch [89/600], loss train: 0.2143, loss test  0.2879\n",
      "2020-05-21 16:18:41.425 | INFO     | baselines.NN:fit:177 - Epoch [99/600], loss train: 0.2096, loss test  0.2836\n",
      "2020-05-21 16:18:41.443 | INFO     | baselines.NN:fit:177 - Epoch [109/600], loss train: 0.2047, loss test  0.2793\n",
      "2020-05-21 16:18:41.461 | INFO     | baselines.NN:fit:177 - Epoch [119/600], loss train: 0.1991, loss test  0.2741\n",
      "2020-05-21 16:18:41.479 | INFO     | baselines.NN:fit:177 - Epoch [129/600], loss train: 0.1920, loss test  0.2668\n",
      "2020-05-21 16:18:41.496 | INFO     | baselines.NN:fit:177 - Epoch [139/600], loss train: 0.1827, loss test  0.2569\n",
      "2020-05-21 16:18:41.514 | INFO     | baselines.NN:fit:177 - Epoch [149/600], loss train: 0.1707, loss test  0.2442\n",
      "2020-05-21 16:18:41.532 | INFO     | baselines.NN:fit:177 - Epoch [159/600], loss train: 0.1560, loss test  0.2290\n",
      "2020-05-21 16:18:41.550 | INFO     | baselines.NN:fit:177 - Epoch [169/600], loss train: 0.1399, loss test  0.2127\n",
      "2020-05-21 16:18:41.567 | INFO     | baselines.NN:fit:177 - Epoch [179/600], loss train: 0.1238, loss test  0.1961\n",
      "2020-05-21 16:18:41.585 | INFO     | baselines.NN:fit:177 - Epoch [189/600], loss train: 0.1082, loss test  0.1782\n",
      "2020-05-21 16:18:41.603 | INFO     | baselines.NN:fit:177 - Epoch [199/600], loss train: 0.0926, loss test  0.1571\n",
      "2020-05-21 16:18:41.620 | INFO     | baselines.NN:fit:177 - Epoch [209/600], loss train: 0.0769, loss test  0.1328\n",
      "2020-05-21 16:18:41.637 | INFO     | baselines.NN:fit:177 - Epoch [219/600], loss train: 0.0625, loss test  0.1086\n",
      "2020-05-21 16:18:41.655 | INFO     | baselines.NN:fit:177 - Epoch [229/600], loss train: 0.0505, loss test  0.0882\n",
      "2020-05-21 16:18:41.672 | INFO     | baselines.NN:fit:177 - Epoch [239/600], loss train: 0.0410, loss test  0.0722\n",
      "2020-05-21 16:18:41.689 | INFO     | baselines.NN:fit:177 - Epoch [249/600], loss train: 0.0338, loss test  0.0596\n",
      "2020-05-21 16:18:41.706 | INFO     | baselines.NN:fit:177 - Epoch [259/600], loss train: 0.0283, loss test  0.0500\n",
      "2020-05-21 16:18:41.723 | INFO     | baselines.NN:fit:177 - Epoch [269/600], loss train: 0.0241, loss test  0.0427\n",
      "2020-05-21 16:18:41.740 | INFO     | baselines.NN:fit:177 - Epoch [279/600], loss train: 0.0207, loss test  0.0372\n",
      "2020-05-21 16:18:41.757 | INFO     | baselines.NN:fit:177 - Epoch [289/600], loss train: 0.0177, loss test  0.0330\n",
      "2020-05-21 16:18:41.774 | INFO     | baselines.NN:fit:177 - Epoch [299/600], loss train: 0.0152, loss test  0.0297\n",
      "2020-05-21 16:18:41.791 | INFO     | baselines.NN:fit:177 - Epoch [309/600], loss train: 0.0129, loss test  0.0269\n",
      "2020-05-21 16:18:41.808 | INFO     | baselines.NN:fit:177 - Epoch [319/600], loss train: 0.0109, loss test  0.0246\n",
      "2020-05-21 16:18:41.825 | INFO     | baselines.NN:fit:177 - Epoch [329/600], loss train: 0.0092, loss test  0.0228\n",
      "2020-05-21 16:18:41.842 | INFO     | baselines.NN:fit:177 - Epoch [339/600], loss train: 0.0077, loss test  0.0213\n",
      "2020-05-21 16:18:41.859 | INFO     | baselines.NN:fit:177 - Epoch [349/600], loss train: 0.0066, loss test  0.0200\n",
      "2020-05-21 16:18:41.876 | INFO     | baselines.NN:fit:177 - Epoch [359/600], loss train: 0.0056, loss test  0.0191\n",
      "2020-05-21 16:18:41.893 | INFO     | baselines.NN:fit:177 - Epoch [369/600], loss train: 0.0048, loss test  0.0183\n",
      "2020-05-21 16:18:41.909 | INFO     | baselines.NN:fit:177 - Epoch [379/600], loss train: 0.0042, loss test  0.0176\n",
      "2020-05-21 16:18:41.926 | INFO     | baselines.NN:fit:177 - Epoch [389/600], loss train: 0.0037, loss test  0.0170\n",
      "2020-05-21 16:18:41.943 | INFO     | baselines.NN:fit:177 - Epoch [399/600], loss train: 0.0033, loss test  0.0164\n",
      "2020-05-21 16:18:41.960 | INFO     | baselines.NN:fit:177 - Epoch [409/600], loss train: 0.0030, loss test  0.0159\n",
      "2020-05-21 16:18:41.978 | INFO     | baselines.NN:fit:177 - Epoch [419/600], loss train: 0.0027, loss test  0.0154\n",
      "2020-05-21 16:18:41.994 | INFO     | baselines.NN:fit:177 - Epoch [429/600], loss train: 0.0025, loss test  0.0149\n",
      "2020-05-21 16:18:42.011 | INFO     | baselines.NN:fit:177 - Epoch [439/600], loss train: 0.0022, loss test  0.0144\n",
      "2020-05-21 16:18:42.028 | INFO     | baselines.NN:fit:177 - Epoch [449/600], loss train: 0.0021, loss test  0.0139\n",
      "2020-05-21 16:18:42.045 | INFO     | baselines.NN:fit:177 - Epoch [459/600], loss train: 0.0019, loss test  0.0135\n",
      "2020-05-21 16:18:42.062 | INFO     | baselines.NN:fit:177 - Epoch [469/600], loss train: 0.0017, loss test  0.0131\n",
      "2020-05-21 16:18:42.079 | INFO     | baselines.NN:fit:177 - Epoch [479/600], loss train: 0.0016, loss test  0.0127\n",
      "2020-05-21 16:18:42.096 | INFO     | baselines.NN:fit:177 - Epoch [489/600], loss train: 0.0015, loss test  0.0123\n",
      "2020-05-21 16:18:42.113 | INFO     | baselines.NN:fit:177 - Epoch [499/600], loss train: 0.0014, loss test  0.0120\n",
      "2020-05-21 16:18:42.131 | INFO     | baselines.NN:fit:177 - Epoch [509/600], loss train: 0.0013, loss test  0.0116\n",
      "2020-05-21 16:18:42.148 | INFO     | baselines.NN:fit:177 - Epoch [519/600], loss train: 0.0012, loss test  0.0113\n",
      "2020-05-21 16:18:42.165 | INFO     | baselines.NN:fit:177 - Epoch [529/600], loss train: 0.0011, loss test  0.0110\n",
      "2020-05-21 16:18:42.182 | INFO     | baselines.NN:fit:177 - Epoch [539/600], loss train: 0.0010, loss test  0.0107\n",
      "2020-05-21 16:18:42.199 | INFO     | baselines.NN:fit:177 - Epoch [549/600], loss train: 0.0010, loss test  0.0106\n",
      "2020-05-21 16:18:42.216 | INFO     | baselines.NN:fit:177 - Epoch [559/600], loss train: 0.0009, loss test  0.0102\n",
      "2020-05-21 16:18:42.233 | INFO     | baselines.NN:fit:177 - Epoch [569/600], loss train: 0.0008, loss test  0.0099\n",
      "2020-05-21 16:18:42.250 | INFO     | baselines.NN:fit:177 - Epoch [579/600], loss train: 0.0008, loss test  0.0097\n",
      "2020-05-21 16:18:42.267 | INFO     | baselines.NN:fit:177 - Epoch [589/600], loss train: 0.0007, loss test  0.0095\n",
      "2020-05-21 16:18:42.284 | INFO     | baselines.NN:fit:177 - Epoch [599/600], loss train: 0.0007, loss test  0.0094\n"
     ]
    },
    {
     "data": {
      "text/plain": [
       "0.0007005491061136127"
      ]
     },
     "execution_count": 3,
     "metadata": {},
     "output_type": "execute_result"
    }
   ],
   "source": [
    "\"\"\"NN pretrain\"\"\"\n",
    "pretrain_episodes = 2\n",
    "# for task_idx in range(total_tasks):\n",
    "#     env = task[task_idx]\n",
    "#     # data collection\n",
    "#     for epi in range(pretrain_episodes):\n",
    "#         obs = env.reset()\n",
    "#         done = False\n",
    "#         mpc_controller.reset()\n",
    "#         while not done:\n",
    "#             action = env.action_space.sample()\n",
    "#             obs_next, reward, done, state_next = env.step(action)\n",
    "#             model.data_process([0, obs, action, obs_next - obs])\n",
    "#             obs = obs_next\n",
    "            \n",
    "for task_idx in range(total_tasks):\n",
    "    env = task[task_idx]\n",
    "    # data collection\n",
    "    for epi in range(pretrain_episodes):\n",
    "        act_buf = np.zeros(max_delay_step+1)\n",
    "#         delay_step = np.random.randint(0,max_delay_step)\n",
    "        delay_step = 1\n",
    "        obs = env.reset()\n",
    "        done = False\n",
    "        mpc_controller.reset()\n",
    "        while not done:\n",
    "            action = env.action_space.sample()\n",
    "            act_buf = np.concatenate((act_buf, action))[1:]\n",
    "            obs_next, reward, done, state_next = env.step([act_buf[-1-delay_step]])\n",
    "#             print(obs, act_buf)\n",
    "#             print(np.concatenate((obs, act_buf[:-1])), action, np.concatenate((obs_next - obs, act_buf[1:])))\n",
    "            model.data_process([0, np.concatenate((obs, act_buf[:-1])), action, np.concatenate((obs_next - obs, act_buf[1:]))])\n",
    "            obs = copy.deepcopy(obs_next)\n",
    "#print('collected data: ', len(data))\n",
    "# training the model\n",
    "model.validation_flag = True\n",
    "#model.n_epochs = 20\n",
    "model.fit()"
   ]
  },
  {
   "cell_type": "code",
   "execution_count": 4,
   "metadata": {},
   "outputs": [
    {
     "name": "stdout",
     "output_type": "stream",
     "text": [
      "epoch:  0\n",
      "task:  0\n",
      "task:  0 step:  50 acc_reward:  13.175292036522713\n",
      "******************\n",
      "acc_reward 13.175292036522713\n",
      "******************\n"
     ]
    },
    {
     "name": "stderr",
     "output_type": "stream",
     "text": [
      "2020-05-19 20:40:39.151 | INFO     | baselines.NN:fit:175 - Epoch [9/100], loss train: 0.1529, loss test  0.1346\n",
      "2020-05-19 20:40:39.170 | INFO     | baselines.NN:fit:175 - Epoch [19/100], loss train: 0.0476, loss test  0.0654\n",
      "2020-05-19 20:40:39.189 | INFO     | baselines.NN:fit:175 - Epoch [29/100], loss train: 0.0170, loss test  0.0335\n",
      "2020-05-19 20:40:39.208 | INFO     | baselines.NN:fit:175 - Epoch [39/100], loss train: 0.0071, loss test  0.0209\n"
     ]
    },
    {
     "name": "stdout",
     "output_type": "stream",
     "text": [
      "task:  0 step:  49 acc_reward:  13.48922037363048\n",
      "******************\n",
      "acc_reward 13.48922037363048\n",
      "******************\n",
      "fitting the model...\n",
      "data size:  159\n"
     ]
    },
    {
     "name": "stderr",
     "output_type": "stream",
     "text": [
      "2020-05-19 20:40:39.227 | INFO     | baselines.NN:fit:175 - Epoch [49/100], loss train: 0.0035, loss test  0.0161\n",
      "2020-05-19 20:40:39.246 | INFO     | baselines.NN:fit:175 - Epoch [59/100], loss train: 0.0021, loss test  0.0127\n",
      "2020-05-19 20:40:39.265 | INFO     | baselines.NN:fit:175 - Epoch [69/100], loss train: 0.0091, loss test  0.0261\n",
      "2020-05-19 20:40:39.283 | INFO     | baselines.NN:fit:175 - Epoch [79/100], loss train: 0.0012, loss test  0.0165\n",
      "2020-05-19 20:40:39.302 | INFO     | baselines.NN:fit:175 - Epoch [89/100], loss train: 0.0036, loss test  0.0127\n",
      "2020-05-19 20:40:39.320 | INFO     | baselines.NN:fit:175 - Epoch [99/100], loss train: 0.0006, loss test  0.0112\n"
     ]
    },
    {
     "name": "stdout",
     "output_type": "stream",
     "text": [
      "epoch:  1\n",
      "task:  0\n",
      "task:  0 step:  99 acc_reward:  32.00315925748389\n",
      "******************\n",
      "acc_reward 32.00315925748389\n",
      "******************\n"
     ]
    },
    {
     "name": "stderr",
     "output_type": "stream",
     "text": [
      "2020-05-19 20:40:54.621 | INFO     | baselines.NN:fit:175 - Epoch [9/100], loss train: 0.0412, loss test  0.0546\n",
      "2020-05-19 20:40:54.643 | INFO     | baselines.NN:fit:175 - Epoch [19/100], loss train: 0.0161, loss test  0.0339\n",
      "2020-05-19 20:40:54.665 | INFO     | baselines.NN:fit:175 - Epoch [29/100], loss train: 0.0077, loss test  0.0273\n"
     ]
    },
    {
     "name": "stdout",
     "output_type": "stream",
     "text": [
      "task:  0 step:  111 acc_reward:  28.29869358522366\n",
      "******************\n",
      "acc_reward 28.29869358522366\n",
      "******************\n",
      "fitting the model...\n",
      "data size:  369\n"
     ]
    },
    {
     "name": "stderr",
     "output_type": "stream",
     "text": [
      "2020-05-19 20:40:54.688 | INFO     | baselines.NN:fit:175 - Epoch [39/100], loss train: 0.0043, loss test  0.0212\n",
      "2020-05-19 20:40:54.710 | INFO     | baselines.NN:fit:175 - Epoch [49/100], loss train: 0.0025, loss test  0.0179\n",
      "2020-05-19 20:40:54.733 | INFO     | baselines.NN:fit:175 - Epoch [59/100], loss train: 0.0018, loss test  0.0174\n",
      "2020-05-19 20:40:54.755 | INFO     | baselines.NN:fit:175 - Epoch [69/100], loss train: 0.0070, loss test  0.0251\n",
      "2020-05-19 20:40:54.777 | INFO     | baselines.NN:fit:175 - Epoch [79/100], loss train: 0.0057, loss test  0.0192\n",
      "2020-05-19 20:40:54.799 | INFO     | baselines.NN:fit:175 - Epoch [89/100], loss train: 0.0035, loss test  0.0164\n",
      "2020-05-19 20:40:54.822 | INFO     | baselines.NN:fit:175 - Epoch [99/100], loss train: 0.0013, loss test  0.0150\n"
     ]
    },
    {
     "name": "stdout",
     "output_type": "stream",
     "text": [
      "epoch:  2\n",
      "task:  0\n",
      "task:  0 step:  200 acc_reward:  115.66433860651836\n",
      "******************\n",
      "acc_reward 115.66433860651836\n",
      "******************\n"
     ]
    },
    {
     "name": "stderr",
     "output_type": "stream",
     "text": [
      "2020-05-19 20:41:24.012 | INFO     | baselines.NN:fit:175 - Epoch [9/100], loss train: 0.0408, loss test  0.0273\n"
     ]
    },
    {
     "name": "stdout",
     "output_type": "stream",
     "text": [
      "task:  0 step:  200 acc_reward:  110.56737490546855\n",
      "******************\n",
      "acc_reward 110.56737490546855\n",
      "******************\n",
      "fitting the model...\n",
      "data size:  769\n"
     ]
    },
    {
     "name": "stderr",
     "output_type": "stream",
     "text": [
      "2020-05-19 20:41:24.057 | INFO     | baselines.NN:fit:175 - Epoch [19/100], loss train: 0.0110, loss test  0.0135\n",
      "2020-05-19 20:41:24.100 | INFO     | baselines.NN:fit:175 - Epoch [29/100], loss train: 0.0050, loss test  0.0088\n",
      "2020-05-19 20:41:24.145 | INFO     | baselines.NN:fit:175 - Epoch [39/100], loss train: 0.0053, loss test  0.0075\n",
      "2020-05-19 20:41:24.189 | INFO     | baselines.NN:fit:175 - Epoch [49/100], loss train: 0.0033, loss test  0.0056\n",
      "2020-05-19 20:41:24.233 | INFO     | baselines.NN:fit:175 - Epoch [59/100], loss train: 0.0033, loss test  0.0079\n",
      "2020-05-19 20:41:24.277 | INFO     | baselines.NN:fit:175 - Epoch [69/100], loss train: 0.0075, loss test  0.0098\n",
      "2020-05-19 20:41:24.321 | INFO     | baselines.NN:fit:175 - Epoch [79/100], loss train: 0.0028, loss test  0.0060\n",
      "2020-05-19 20:41:24.365 | INFO     | baselines.NN:fit:175 - Epoch [89/100], loss train: 0.0012, loss test  0.0049\n",
      "2020-05-19 20:41:24.409 | INFO     | baselines.NN:fit:175 - Epoch [99/100], loss train: 0.0012, loss test  0.0056\n"
     ]
    },
    {
     "name": "stdout",
     "output_type": "stream",
     "text": [
      "epoch:  3\n",
      "task:  0\n",
      "task:  0 step:  200 acc_reward:  123.77987962153477\n",
      "******************\n",
      "acc_reward 123.77987962153477\n",
      "******************\n"
     ]
    },
    {
     "name": "stderr",
     "output_type": "stream",
     "text": [
      "2020-05-19 20:41:53.664 | INFO     | baselines.NN:fit:175 - Epoch [9/100], loss train: 0.0736, loss test  0.0431\n"
     ]
    },
    {
     "name": "stdout",
     "output_type": "stream",
     "text": [
      "task:  0 step:  200 acc_reward:  124.14795795814605\n",
      "******************\n",
      "acc_reward 124.14795795814605\n",
      "******************\n",
      "fitting the model...\n",
      "data size:  1169\n"
     ]
    },
    {
     "name": "stderr",
     "output_type": "stream",
     "text": [
      "2020-05-19 20:41:53.715 | INFO     | baselines.NN:fit:175 - Epoch [19/100], loss train: 0.0116, loss test  0.0142\n",
      "2020-05-19 20:41:53.766 | INFO     | baselines.NN:fit:175 - Epoch [29/100], loss train: 0.0034, loss test  0.0081\n",
      "2020-05-19 20:41:53.816 | INFO     | baselines.NN:fit:175 - Epoch [39/100], loss train: 0.0016, loss test  0.0057\n",
      "2020-05-19 20:41:53.867 | INFO     | baselines.NN:fit:175 - Epoch [49/100], loss train: 0.0010, loss test  0.0053\n",
      "2020-05-19 20:41:53.918 | INFO     | baselines.NN:fit:175 - Epoch [59/100], loss train: 0.0008, loss test  0.0049\n",
      "2020-05-19 20:41:53.969 | INFO     | baselines.NN:fit:175 - Epoch [69/100], loss train: 0.0007, loss test  0.0049\n",
      "2020-05-19 20:41:54.019 | INFO     | baselines.NN:fit:175 - Epoch [79/100], loss train: 0.0008, loss test  0.0047\n",
      "2020-05-19 20:41:54.070 | INFO     | baselines.NN:fit:175 - Epoch [89/100], loss train: 0.0005, loss test  0.0047\n",
      "2020-05-19 20:41:54.121 | INFO     | baselines.NN:fit:175 - Epoch [99/100], loss train: 0.0004, loss test  0.0046\n"
     ]
    },
    {
     "name": "stdout",
     "output_type": "stream",
     "text": [
      "epoch:  4\n",
      "task:  0\n",
      "task:  0 step:  200 acc_reward:  181.5861880485557\n",
      "******************\n",
      "acc_reward 181.5861880485557\n",
      "******************\n"
     ]
    },
    {
     "name": "stderr",
     "output_type": "stream",
     "text": [
      "2020-05-19 20:42:23.451 | INFO     | baselines.NN:fit:175 - Epoch [9/100], loss train: 0.0078, loss test  0.0070\n"
     ]
    },
    {
     "name": "stdout",
     "output_type": "stream",
     "text": [
      "task:  0 step:  200 acc_reward:  182.25434261564573\n",
      "******************\n",
      "acc_reward 182.25434261564573\n",
      "******************\n",
      "fitting the model...\n",
      "data size:  1569\n"
     ]
    },
    {
     "name": "stderr",
     "output_type": "stream",
     "text": [
      "2020-05-19 20:42:23.524 | INFO     | baselines.NN:fit:175 - Epoch [19/100], loss train: 0.0025, loss test  0.0024\n",
      "2020-05-19 20:42:23.596 | INFO     | baselines.NN:fit:175 - Epoch [29/100], loss train: 0.0009, loss test  0.0019\n",
      "2020-05-19 20:42:23.668 | INFO     | baselines.NN:fit:175 - Epoch [39/100], loss train: 0.0007, loss test  0.0023\n",
      "2020-05-19 20:42:23.741 | INFO     | baselines.NN:fit:175 - Epoch [49/100], loss train: 0.0117, loss test  0.0114\n",
      "2020-05-19 20:42:23.812 | INFO     | baselines.NN:fit:175 - Epoch [59/100], loss train: 0.0009, loss test  0.0025\n",
      "2020-05-19 20:42:23.885 | INFO     | baselines.NN:fit:175 - Epoch [69/100], loss train: 0.0080, loss test  0.0067\n",
      "2020-05-19 20:42:23.957 | INFO     | baselines.NN:fit:175 - Epoch [79/100], loss train: 0.0012, loss test  0.0029\n",
      "2020-05-19 20:42:24.030 | INFO     | baselines.NN:fit:175 - Epoch [89/100], loss train: 0.0013, loss test  0.0021\n",
      "2020-05-19 20:42:24.102 | INFO     | baselines.NN:fit:175 - Epoch [99/100], loss train: 0.0026, loss test  0.0058\n"
     ]
    },
    {
     "name": "stdout",
     "output_type": "stream",
     "text": [
      "epoch:  5\n",
      "task:  0\n",
      "task:  0 step:  200 acc_reward:  180.90134672104367\n",
      "******************\n",
      "acc_reward 180.90134672104367\n",
      "******************\n",
      "task:  0 step:  200 acc_reward:  178.3536317702831\n",
      "******************\n",
      "acc_reward 178.3536317702831\n",
      "******************\n",
      "fitting the model...\n",
      "data size:  1969\n"
     ]
    },
    {
     "name": "stderr",
     "output_type": "stream",
     "text": [
      "2020-05-19 20:42:56.720 | INFO     | baselines.NN:fit:175 - Epoch [9/100], loss train: 0.0325, loss test  0.0277\n",
      "2020-05-19 20:42:56.815 | INFO     | baselines.NN:fit:175 - Epoch [19/100], loss train: 0.0128, loss test  0.0085\n",
      "2020-05-19 20:42:56.911 | INFO     | baselines.NN:fit:175 - Epoch [29/100], loss train: 0.0088, loss test  0.0104\n",
      "2020-05-19 20:42:57.007 | INFO     | baselines.NN:fit:175 - Epoch [39/100], loss train: 0.0284, loss test  0.0387\n",
      "2020-05-19 20:42:57.101 | INFO     | baselines.NN:fit:175 - Epoch [49/100], loss train: 0.0164, loss test  0.0105\n",
      "2020-05-19 20:42:57.196 | INFO     | baselines.NN:fit:175 - Epoch [59/100], loss train: 0.0062, loss test  0.0088\n",
      "2020-05-19 20:42:57.292 | INFO     | baselines.NN:fit:175 - Epoch [69/100], loss train: 0.0026, loss test  0.0028\n",
      "2020-05-19 20:42:57.387 | INFO     | baselines.NN:fit:175 - Epoch [79/100], loss train: 0.0099, loss test  0.0066\n",
      "2020-05-19 20:42:57.482 | INFO     | baselines.NN:fit:175 - Epoch [89/100], loss train: 0.0143, loss test  0.0108\n",
      "2020-05-19 20:42:57.577 | INFO     | baselines.NN:fit:175 - Epoch [99/100], loss train: 0.0073, loss test  0.0095\n"
     ]
    },
    {
     "name": "stdout",
     "output_type": "stream",
     "text": [
      "epoch:  6\n",
      "task:  0\n",
      "task:  0 step:  200 acc_reward:  164.98115636853234\n",
      "******************\n",
      "acc_reward 164.98115636853234\n",
      "******************\n",
      "task:  0 step:  200 acc_reward:  153.82545841727145\n",
      "******************\n",
      "acc_reward 153.82545841727145\n",
      "******************\n",
      "fitting the model...\n",
      "data size:  2369\n"
     ]
    },
    {
     "name": "stderr",
     "output_type": "stream",
     "text": [
      "2020-05-19 20:43:27.033 | INFO     | baselines.NN:fit:175 - Epoch [9/100], loss train: 0.0017, loss test  0.0033\n",
      "2020-05-19 20:43:27.134 | INFO     | baselines.NN:fit:175 - Epoch [19/100], loss train: 0.0100, loss test  0.0088\n",
      "2020-05-19 20:43:27.236 | INFO     | baselines.NN:fit:175 - Epoch [29/100], loss train: 0.0014, loss test  0.0021\n",
      "2020-05-19 20:43:27.337 | INFO     | baselines.NN:fit:175 - Epoch [39/100], loss train: 0.0012, loss test  0.0021\n",
      "2020-05-19 20:43:27.438 | INFO     | baselines.NN:fit:175 - Epoch [49/100], loss train: 0.0032, loss test  0.0057\n",
      "2020-05-19 20:43:27.539 | INFO     | baselines.NN:fit:175 - Epoch [59/100], loss train: 0.0108, loss test  0.0050\n",
      "2020-05-19 20:43:27.641 | INFO     | baselines.NN:fit:175 - Epoch [69/100], loss train: 0.0009, loss test  0.0027\n",
      "2020-05-19 20:43:27.743 | INFO     | baselines.NN:fit:175 - Epoch [79/100], loss train: 0.0019, loss test  0.0024\n",
      "2020-05-19 20:43:27.844 | INFO     | baselines.NN:fit:175 - Epoch [89/100], loss train: 0.0005, loss test  0.0018\n",
      "2020-05-19 20:43:27.946 | INFO     | baselines.NN:fit:175 - Epoch [99/100], loss train: 0.0028, loss test  0.0047\n"
     ]
    },
    {
     "name": "stdout",
     "output_type": "stream",
     "text": [
      "epoch:  7\n",
      "task:  0\n",
      "task:  0 step:  200 acc_reward:  74.11950268109298\n",
      "******************\n",
      "acc_reward 74.11950268109298\n",
      "******************\n",
      "task:  0 step:  200 acc_reward:  72.35935993671474\n",
      "******************\n",
      "acc_reward 72.35935993671474\n",
      "******************\n",
      "fitting the model...\n",
      "data size:  2769\n"
     ]
    },
    {
     "name": "stderr",
     "output_type": "stream",
     "text": [
      "2020-05-19 20:43:57.457 | INFO     | baselines.NN:fit:175 - Epoch [9/100], loss train: 0.0112, loss test  0.0050\n",
      "2020-05-19 20:43:57.581 | INFO     | baselines.NN:fit:175 - Epoch [19/100], loss train: 0.0038, loss test  0.0062\n",
      "2020-05-19 20:43:57.705 | INFO     | baselines.NN:fit:175 - Epoch [29/100], loss train: 0.0021, loss test  0.0022\n",
      "2020-05-19 20:43:57.830 | INFO     | baselines.NN:fit:175 - Epoch [39/100], loss train: 0.0075, loss test  0.0057\n",
      "2020-05-19 20:43:57.954 | INFO     | baselines.NN:fit:175 - Epoch [49/100], loss train: 0.0089, loss test  0.0126\n",
      "2020-05-19 20:43:58.081 | INFO     | baselines.NN:fit:175 - Epoch [59/100], loss train: 0.0113, loss test  0.0166\n",
      "2020-05-19 20:43:58.206 | INFO     | baselines.NN:fit:175 - Epoch [69/100], loss train: 0.0109, loss test  0.0109\n",
      "2020-05-19 20:43:58.331 | INFO     | baselines.NN:fit:175 - Epoch [79/100], loss train: 0.0038, loss test  0.0029\n",
      "2020-05-19 20:43:58.457 | INFO     | baselines.NN:fit:175 - Epoch [89/100], loss train: 0.0167, loss test  0.0187\n",
      "2020-05-19 20:43:58.581 | INFO     | baselines.NN:fit:175 - Epoch [99/100], loss train: 0.0112, loss test  0.0164\n"
     ]
    },
    {
     "name": "stdout",
     "output_type": "stream",
     "text": [
      "epoch:  8\n",
      "task:  0\n",
      "task:  0 step:  200 acc_reward:  149.46296929737528\n",
      "******************\n",
      "acc_reward 149.46296929737528\n",
      "******************\n",
      "task:  0 step:  200 acc_reward:  161.17431767701854\n",
      "******************\n",
      "acc_reward 161.17431767701854\n",
      "******************\n",
      "fitting the model...\n",
      "data size:  3169\n"
     ]
    },
    {
     "name": "stderr",
     "output_type": "stream",
     "text": [
      "2020-05-19 20:44:28.052 | INFO     | baselines.NN:fit:175 - Epoch [9/100], loss train: 0.0075, loss test  0.0082\n",
      "2020-05-19 20:44:28.185 | INFO     | baselines.NN:fit:175 - Epoch [19/100], loss train: 0.0126, loss test  0.0146\n",
      "2020-05-19 20:44:28.316 | INFO     | baselines.NN:fit:175 - Epoch [29/100], loss train: 0.0025, loss test  0.0045\n",
      "2020-05-19 20:44:28.448 | INFO     | baselines.NN:fit:175 - Epoch [39/100], loss train: 0.0008, loss test  0.0024\n",
      "2020-05-19 20:44:28.579 | INFO     | baselines.NN:fit:175 - Epoch [49/100], loss train: 0.0241, loss test  0.0299\n",
      "2020-05-19 20:44:28.710 | INFO     | baselines.NN:fit:175 - Epoch [59/100], loss train: 0.0013, loss test  0.0023\n",
      "2020-05-19 20:44:28.841 | INFO     | baselines.NN:fit:175 - Epoch [69/100], loss train: 0.0100, loss test  0.0236\n",
      "2020-05-19 20:44:28.971 | INFO     | baselines.NN:fit:175 - Epoch [79/100], loss train: 0.0011, loss test  0.0026\n",
      "2020-05-19 20:44:29.102 | INFO     | baselines.NN:fit:175 - Epoch [89/100], loss train: 0.0110, loss test  0.0083\n",
      "2020-05-19 20:44:29.234 | INFO     | baselines.NN:fit:175 - Epoch [99/100], loss train: 0.0112, loss test  0.0110\n"
     ]
    },
    {
     "name": "stdout",
     "output_type": "stream",
     "text": [
      "epoch:  9\n",
      "task:  0\n",
      "task:  0 step:  200 acc_reward:  174.98415535265528\n",
      "******************\n",
      "acc_reward 174.98415535265528\n",
      "******************\n",
      "task:  0 step:  200 acc_reward:  173.3962451705526\n",
      "******************\n",
      "acc_reward 173.3962451705526\n",
      "******************\n",
      "fitting the model...\n",
      "data size:  3569\n"
     ]
    },
    {
     "name": "stderr",
     "output_type": "stream",
     "text": [
      "2020-05-19 20:44:58.694 | INFO     | baselines.NN:fit:175 - Epoch [9/100], loss train: 0.0063, loss test  0.0128\n",
      "2020-05-19 20:44:58.846 | INFO     | baselines.NN:fit:175 - Epoch [19/100], loss train: 0.0084, loss test  0.0050\n",
      "2020-05-19 20:44:58.999 | INFO     | baselines.NN:fit:175 - Epoch [29/100], loss train: 0.0066, loss test  0.0109\n",
      "2020-05-19 20:44:59.153 | INFO     | baselines.NN:fit:175 - Epoch [39/100], loss train: 0.0061, loss test  0.0178\n",
      "2020-05-19 20:44:59.305 | INFO     | baselines.NN:fit:175 - Epoch [49/100], loss train: 0.0027, loss test  0.0046\n",
      "2020-05-19 20:44:59.458 | INFO     | baselines.NN:fit:175 - Epoch [59/100], loss train: 0.0029, loss test  0.0090\n",
      "2020-05-19 20:44:59.611 | INFO     | baselines.NN:fit:175 - Epoch [69/100], loss train: 0.0045, loss test  0.0121\n",
      "2020-05-19 20:44:59.763 | INFO     | baselines.NN:fit:175 - Epoch [79/100], loss train: 0.0041, loss test  0.0101\n",
      "2020-05-19 20:44:59.916 | INFO     | baselines.NN:fit:175 - Epoch [89/100], loss train: 0.0013, loss test  0.0055\n",
      "2020-05-19 20:45:00.069 | INFO     | baselines.NN:fit:175 - Epoch [99/100], loss train: 0.0100, loss test  0.0147\n"
     ]
    },
    {
     "name": "stdout",
     "output_type": "stream",
     "text": [
      "epoch:  10\n",
      "task:  0\n",
      "task:  0 step:  200 acc_reward:  99.77024468487285\n",
      "******************\n",
      "acc_reward 99.77024468487285\n",
      "******************\n",
      "task:  0 step:  200 acc_reward:  100.93635360491025\n",
      "******************\n",
      "acc_reward 100.93635360491025\n",
      "******************\n",
      "fitting the model...\n",
      "data size:  3969\n"
     ]
    },
    {
     "name": "stderr",
     "output_type": "stream",
     "text": [
      "2020-05-19 20:45:29.652 | INFO     | baselines.NN:fit:175 - Epoch [9/100], loss train: 0.0323, loss test  0.0205\n",
      "2020-05-19 20:45:29.828 | INFO     | baselines.NN:fit:175 - Epoch [19/100], loss train: 0.0090, loss test  0.0103\n",
      "2020-05-19 20:45:30.004 | INFO     | baselines.NN:fit:175 - Epoch [29/100], loss train: 0.0034, loss test  0.0071\n",
      "2020-05-19 20:45:30.179 | INFO     | baselines.NN:fit:175 - Epoch [39/100], loss train: 0.0049, loss test  0.0072\n",
      "2020-05-19 20:45:30.355 | INFO     | baselines.NN:fit:175 - Epoch [49/100], loss train: 0.0033, loss test  0.0072\n",
      "2020-05-19 20:45:30.531 | INFO     | baselines.NN:fit:175 - Epoch [59/100], loss train: 0.0025, loss test  0.0062\n",
      "2020-05-19 20:45:30.707 | INFO     | baselines.NN:fit:175 - Epoch [69/100], loss train: 0.0053, loss test  0.0080\n",
      "2020-05-19 20:45:30.883 | INFO     | baselines.NN:fit:175 - Epoch [79/100], loss train: 0.0030, loss test  0.0109\n",
      "2020-05-19 20:45:31.059 | INFO     | baselines.NN:fit:175 - Epoch [89/100], loss train: 0.0042, loss test  0.0118\n",
      "2020-05-19 20:45:31.234 | INFO     | baselines.NN:fit:175 - Epoch [99/100], loss train: 0.0019, loss test  0.0060\n"
     ]
    },
    {
     "name": "stdout",
     "output_type": "stream",
     "text": [
      "epoch:  11\n",
      "task:  0\n",
      "task:  0 step:  200 acc_reward:  178.0481704716096\n",
      "******************\n",
      "acc_reward 178.0481704716096\n",
      "******************\n",
      "task:  0 step:  200 acc_reward:  176.1180075951444\n",
      "******************\n",
      "acc_reward 176.1180075951444\n",
      "******************\n",
      "fitting the model...\n",
      "data size:  4369\n"
     ]
    },
    {
     "name": "stderr",
     "output_type": "stream",
     "text": [
      "2020-05-19 20:46:00.737 | INFO     | baselines.NN:fit:175 - Epoch [9/100], loss train: 0.0029, loss test  0.0049\n",
      "2020-05-19 20:46:00.919 | INFO     | baselines.NN:fit:175 - Epoch [19/100], loss train: 0.0015, loss test  0.0025\n",
      "2020-05-19 20:46:01.102 | INFO     | baselines.NN:fit:175 - Epoch [29/100], loss train: 0.0025, loss test  0.0051\n",
      "2020-05-19 20:46:01.284 | INFO     | baselines.NN:fit:175 - Epoch [39/100], loss train: 0.0056, loss test  0.0059\n",
      "2020-05-19 20:46:01.467 | INFO     | baselines.NN:fit:175 - Epoch [49/100], loss train: 0.0057, loss test  0.0040\n",
      "2020-05-19 20:46:01.650 | INFO     | baselines.NN:fit:175 - Epoch [59/100], loss train: 0.0030, loss test  0.0056\n",
      "2020-05-19 20:46:01.833 | INFO     | baselines.NN:fit:175 - Epoch [69/100], loss train: 0.0020, loss test  0.0035\n",
      "2020-05-19 20:46:02.017 | INFO     | baselines.NN:fit:175 - Epoch [79/100], loss train: 0.0021, loss test  0.0043\n",
      "2020-05-19 20:46:02.200 | INFO     | baselines.NN:fit:175 - Epoch [89/100], loss train: 0.0024, loss test  0.0056\n",
      "2020-05-19 20:46:02.383 | INFO     | baselines.NN:fit:175 - Epoch [99/100], loss train: 0.0025, loss test  0.0050\n"
     ]
    },
    {
     "name": "stdout",
     "output_type": "stream",
     "text": [
      "epoch:  12\n",
      "task:  0\n",
      "task:  0 step:  200 acc_reward:  184.7059338068831\n",
      "******************\n",
      "acc_reward 184.7059338068831\n",
      "******************\n",
      "task:  0 step:  200 acc_reward:  184.5048787140778\n",
      "******************\n",
      "acc_reward 184.5048787140778\n",
      "******************\n",
      "fitting the model...\n",
      "data size:  4769\n"
     ]
    },
    {
     "name": "stderr",
     "output_type": "stream",
     "text": [
      "2020-05-19 20:46:36.429 | INFO     | baselines.NN:fit:175 - Epoch [9/100], loss train: 0.0553, loss test  0.0522\n",
      "2020-05-19 20:46:36.634 | INFO     | baselines.NN:fit:175 - Epoch [19/100], loss train: 0.0053, loss test  0.0074\n",
      "2020-05-19 20:46:36.839 | INFO     | baselines.NN:fit:175 - Epoch [29/100], loss train: 0.0026, loss test  0.0059\n",
      "2020-05-19 20:46:37.044 | INFO     | baselines.NN:fit:175 - Epoch [39/100], loss train: 0.0047, loss test  0.0056\n",
      "2020-05-19 20:46:37.251 | INFO     | baselines.NN:fit:175 - Epoch [49/100], loss train: 0.0063, loss test  0.0071\n",
      "2020-05-19 20:46:37.457 | INFO     | baselines.NN:fit:175 - Epoch [59/100], loss train: 0.0019, loss test  0.0063\n",
      "2020-05-19 20:46:37.662 | INFO     | baselines.NN:fit:175 - Epoch [69/100], loss train: 0.0012, loss test  0.0036\n",
      "2020-05-19 20:46:37.868 | INFO     | baselines.NN:fit:175 - Epoch [79/100], loss train: 0.0010, loss test  0.0034\n",
      "2020-05-19 20:46:38.074 | INFO     | baselines.NN:fit:175 - Epoch [89/100], loss train: 0.0018, loss test  0.0033\n",
      "2020-05-19 20:46:38.278 | INFO     | baselines.NN:fit:175 - Epoch [99/100], loss train: 0.0039, loss test  0.0060\n"
     ]
    },
    {
     "name": "stdout",
     "output_type": "stream",
     "text": [
      "epoch:  13\n",
      "task:  0\n",
      "task:  0 step:  200 acc_reward:  173.03659760123315\n",
      "******************\n",
      "acc_reward 173.03659760123315\n",
      "******************\n",
      "task:  0 step:  200 acc_reward:  171.87354126299567\n",
      "******************\n",
      "acc_reward 171.87354126299567\n",
      "******************\n",
      "fitting the model...\n",
      "data size:  5169\n"
     ]
    },
    {
     "name": "stderr",
     "output_type": "stream",
     "text": [
      "2020-05-19 20:47:07.919 | INFO     | baselines.NN:fit:175 - Epoch [9/100], loss train: 0.0256, loss test  0.0307\n",
      "2020-05-19 20:47:08.147 | INFO     | baselines.NN:fit:175 - Epoch [19/100], loss train: 0.0566, loss test  0.0567\n",
      "2020-05-19 20:47:08.376 | INFO     | baselines.NN:fit:175 - Epoch [29/100], loss train: 0.0130, loss test  0.0199\n",
      "2020-05-19 20:47:08.605 | INFO     | baselines.NN:fit:175 - Epoch [39/100], loss train: 0.0092, loss test  0.0120\n",
      "2020-05-19 20:47:08.835 | INFO     | baselines.NN:fit:175 - Epoch [49/100], loss train: 0.0040, loss test  0.0080\n",
      "2020-05-19 20:47:09.065 | INFO     | baselines.NN:fit:175 - Epoch [59/100], loss train: 0.0041, loss test  0.0069\n",
      "2020-05-19 20:47:09.293 | INFO     | baselines.NN:fit:175 - Epoch [69/100], loss train: 0.0114, loss test  0.0170\n",
      "2020-05-19 20:47:09.523 | INFO     | baselines.NN:fit:175 - Epoch [79/100], loss train: 0.0050, loss test  0.0099\n",
      "2020-05-19 20:47:09.752 | INFO     | baselines.NN:fit:175 - Epoch [89/100], loss train: 0.0038, loss test  0.0075\n",
      "2020-05-19 20:47:09.981 | INFO     | baselines.NN:fit:175 - Epoch [99/100], loss train: 0.0037, loss test  0.0098\n"
     ]
    },
    {
     "name": "stdout",
     "output_type": "stream",
     "text": [
      "epoch:  14\n",
      "task:  0\n",
      "task:  0 step:  200 acc_reward:  180.67740401277217\n",
      "******************\n",
      "acc_reward 180.67740401277217\n",
      "******************\n",
      "task:  0 step:  200 acc_reward:  181.05739137611326\n",
      "******************\n",
      "acc_reward 181.05739137611326\n",
      "******************\n",
      "fitting the model...\n",
      "data size:  5569\n"
     ]
    },
    {
     "name": "stderr",
     "output_type": "stream",
     "text": [
      "2020-05-19 20:47:39.562 | INFO     | baselines.NN:fit:175 - Epoch [9/100], loss train: 0.0060, loss test  0.0134\n",
      "2020-05-19 20:47:39.798 | INFO     | baselines.NN:fit:175 - Epoch [19/100], loss train: 0.0093, loss test  0.0099\n",
      "2020-05-19 20:47:40.033 | INFO     | baselines.NN:fit:175 - Epoch [29/100], loss train: 0.0021, loss test  0.0059\n",
      "2020-05-19 20:47:40.267 | INFO     | baselines.NN:fit:175 - Epoch [39/100], loss train: 0.0038, loss test  0.0117\n",
      "2020-05-19 20:47:40.503 | INFO     | baselines.NN:fit:175 - Epoch [49/100], loss train: 0.0021, loss test  0.0096\n",
      "2020-05-19 20:47:40.737 | INFO     | baselines.NN:fit:175 - Epoch [59/100], loss train: 0.0048, loss test  0.0081\n",
      "2020-05-19 20:47:40.973 | INFO     | baselines.NN:fit:175 - Epoch [69/100], loss train: 0.0110, loss test  0.0155\n",
      "2020-05-19 20:47:41.209 | INFO     | baselines.NN:fit:175 - Epoch [79/100], loss train: 0.0018, loss test  0.0070\n",
      "2020-05-19 20:47:41.445 | INFO     | baselines.NN:fit:175 - Epoch [89/100], loss train: 0.0012, loss test  0.0051\n",
      "2020-05-19 20:47:41.681 | INFO     | baselines.NN:fit:175 - Epoch [99/100], loss train: 0.0015, loss test  0.0050\n"
     ]
    },
    {
     "name": "stdout",
     "output_type": "stream",
     "text": [
      "epoch:  15\n",
      "task:  0\n",
      "task:  0 step:  200 acc_reward:  181.23338348547045\n",
      "******************\n",
      "acc_reward 181.23338348547045\n",
      "******************\n",
      "task:  0 step:  200 acc_reward:  180.8376148353737\n",
      "******************\n",
      "acc_reward 180.8376148353737\n",
      "******************\n",
      "fitting the model...\n",
      "data size:  5969\n"
     ]
    },
    {
     "name": "stderr",
     "output_type": "stream",
     "text": [
      "2020-05-19 20:48:11.344 | INFO     | baselines.NN:fit:175 - Epoch [9/100], loss train: 0.0157, loss test  0.0349\n",
      "2020-05-19 20:48:11.603 | INFO     | baselines.NN:fit:175 - Epoch [19/100], loss train: 0.0182, loss test  0.0197\n",
      "2020-05-19 20:48:11.861 | INFO     | baselines.NN:fit:175 - Epoch [29/100], loss train: 0.0026, loss test  0.0074\n",
      "2020-05-19 20:48:12.121 | INFO     | baselines.NN:fit:175 - Epoch [39/100], loss train: 0.0029, loss test  0.0087\n",
      "2020-05-19 20:48:12.380 | INFO     | baselines.NN:fit:175 - Epoch [49/100], loss train: 0.0020, loss test  0.0096\n",
      "2020-05-19 20:48:12.639 | INFO     | baselines.NN:fit:175 - Epoch [59/100], loss train: 0.0085, loss test  0.0163\n",
      "2020-05-19 20:48:12.898 | INFO     | baselines.NN:fit:175 - Epoch [69/100], loss train: 0.0018, loss test  0.0075\n",
      "2020-05-19 20:48:13.158 | INFO     | baselines.NN:fit:175 - Epoch [79/100], loss train: 0.0045, loss test  0.0090\n",
      "2020-05-19 20:48:13.416 | INFO     | baselines.NN:fit:175 - Epoch [89/100], loss train: 0.0021, loss test  0.0066\n",
      "2020-05-19 20:48:13.675 | INFO     | baselines.NN:fit:175 - Epoch [99/100], loss train: 0.0098, loss test  0.0188\n"
     ]
    },
    {
     "name": "stdout",
     "output_type": "stream",
     "text": [
      "epoch:  16\n",
      "task:  0\n",
      "task:  0 step:  200 acc_reward:  182.92823047823887\n",
      "******************\n",
      "acc_reward 182.92823047823887\n",
      "******************\n",
      "task:  0 step:  200 acc_reward:  179.24102056430266\n",
      "******************\n",
      "acc_reward 179.24102056430266\n",
      "******************\n",
      "fitting the model...\n",
      "data size:  6369\n"
     ]
    },
    {
     "name": "stderr",
     "output_type": "stream",
     "text": [
      "2020-05-19 20:48:43.396 | INFO     | baselines.NN:fit:175 - Epoch [9/100], loss train: 0.0076, loss test  0.0074\n",
      "2020-05-19 20:48:43.663 | INFO     | baselines.NN:fit:175 - Epoch [19/100], loss train: 0.0056, loss test  0.0131\n",
      "2020-05-19 20:48:43.931 | INFO     | baselines.NN:fit:175 - Epoch [29/100], loss train: 0.0089, loss test  0.0056\n",
      "2020-05-19 20:48:44.199 | INFO     | baselines.NN:fit:175 - Epoch [39/100], loss train: 0.0067, loss test  0.0130\n",
      "2020-05-19 20:48:44.464 | INFO     | baselines.NN:fit:175 - Epoch [49/100], loss train: 0.0038, loss test  0.0067\n",
      "2020-05-19 20:48:44.729 | INFO     | baselines.NN:fit:175 - Epoch [59/100], loss train: 0.0046, loss test  0.0057\n",
      "2020-05-19 20:48:44.992 | INFO     | baselines.NN:fit:175 - Epoch [69/100], loss train: 0.0043, loss test  0.0054\n",
      "2020-05-19 20:48:45.258 | INFO     | baselines.NN:fit:175 - Epoch [79/100], loss train: 0.0036, loss test  0.0057\n",
      "2020-05-19 20:48:45.523 | INFO     | baselines.NN:fit:175 - Epoch [89/100], loss train: 0.0053, loss test  0.0135\n",
      "2020-05-19 20:48:45.788 | INFO     | baselines.NN:fit:175 - Epoch [99/100], loss train: 0.0074, loss test  0.0063\n"
     ]
    },
    {
     "name": "stdout",
     "output_type": "stream",
     "text": [
      "epoch:  17\n",
      "task:  0\n",
      "task:  0 step:  200 acc_reward:  150.5952336272659\n",
      "******************\n",
      "acc_reward 150.5952336272659\n",
      "******************\n",
      "task:  0 step:  200 acc_reward:  151.6061837026727\n",
      "******************\n",
      "acc_reward 151.6061837026727\n",
      "******************\n",
      "fitting the model...\n",
      "data size:  6769\n"
     ]
    },
    {
     "name": "stderr",
     "output_type": "stream",
     "text": [
      "2020-05-19 20:49:15.331 | INFO     | baselines.NN:fit:175 - Epoch [9/100], loss train: 0.0170, loss test  0.0197\n",
      "2020-05-19 20:49:15.619 | INFO     | baselines.NN:fit:175 - Epoch [19/100], loss train: 0.0162, loss test  0.0136\n",
      "2020-05-19 20:49:15.906 | INFO     | baselines.NN:fit:175 - Epoch [29/100], loss train: 0.0035, loss test  0.0086\n",
      "2020-05-19 20:49:16.195 | INFO     | baselines.NN:fit:175 - Epoch [39/100], loss train: 0.0052, loss test  0.0067\n",
      "2020-05-19 20:49:16.482 | INFO     | baselines.NN:fit:175 - Epoch [49/100], loss train: 0.0089, loss test  0.0161\n",
      "2020-05-19 20:49:16.770 | INFO     | baselines.NN:fit:175 - Epoch [59/100], loss train: 0.0066, loss test  0.0064\n",
      "2020-05-19 20:49:17.059 | INFO     | baselines.NN:fit:175 - Epoch [69/100], loss train: 0.0018, loss test  0.0061\n",
      "2020-05-19 20:49:17.350 | INFO     | baselines.NN:fit:175 - Epoch [79/100], loss train: 0.0050, loss test  0.0084\n",
      "2020-05-19 20:49:17.638 | INFO     | baselines.NN:fit:175 - Epoch [89/100], loss train: 0.0030, loss test  0.0069\n",
      "2020-05-19 20:49:17.926 | INFO     | baselines.NN:fit:175 - Epoch [99/100], loss train: 0.0010, loss test  0.0061\n"
     ]
    },
    {
     "name": "stdout",
     "output_type": "stream",
     "text": [
      "epoch:  18\n",
      "task:  0\n",
      "task:  0 step:  200 acc_reward:  177.20192455829658\n",
      "******************\n",
      "acc_reward 177.20192455829658\n",
      "******************\n",
      "task:  0 step:  200 acc_reward:  179.8938686508575\n",
      "******************\n",
      "acc_reward 179.8938686508575\n",
      "******************\n",
      "fitting the model...\n",
      "data size:  7169\n"
     ]
    },
    {
     "name": "stderr",
     "output_type": "stream",
     "text": [
      "2020-05-19 20:49:47.527 | INFO     | baselines.NN:fit:175 - Epoch [9/100], loss train: 0.0201, loss test  0.0115\n",
      "2020-05-19 20:49:47.837 | INFO     | baselines.NN:fit:175 - Epoch [19/100], loss train: 0.0218, loss test  0.0304\n",
      "2020-05-19 20:49:48.155 | INFO     | baselines.NN:fit:175 - Epoch [29/100], loss train: 0.0196, loss test  0.0197\n",
      "2020-05-19 20:49:48.467 | INFO     | baselines.NN:fit:175 - Epoch [39/100], loss train: 0.0114, loss test  0.0123\n",
      "2020-05-19 20:49:48.779 | INFO     | baselines.NN:fit:175 - Epoch [49/100], loss train: 0.0086, loss test  0.0145\n",
      "2020-05-19 20:49:49.092 | INFO     | baselines.NN:fit:175 - Epoch [59/100], loss train: 0.0057, loss test  0.0122\n",
      "2020-05-19 20:49:49.404 | INFO     | baselines.NN:fit:175 - Epoch [69/100], loss train: 0.0066, loss test  0.0110\n",
      "2020-05-19 20:49:49.717 | INFO     | baselines.NN:fit:175 - Epoch [79/100], loss train: 0.0058, loss test  0.0131\n",
      "2020-05-19 20:49:50.030 | INFO     | baselines.NN:fit:175 - Epoch [89/100], loss train: 0.0030, loss test  0.0084\n",
      "2020-05-19 20:49:50.342 | INFO     | baselines.NN:fit:175 - Epoch [99/100], loss train: 0.0097, loss test  0.0141\n"
     ]
    },
    {
     "name": "stdout",
     "output_type": "stream",
     "text": [
      "epoch:  19\n",
      "task:  0\n",
      "task:  0 step:  200 acc_reward:  156.33026905815817\n",
      "******************\n",
      "acc_reward 156.33026905815817\n",
      "******************\n",
      "task:  0 step:  200 acc_reward:  163.83733742435737\n",
      "******************\n",
      "acc_reward 163.83733742435737\n",
      "******************\n",
      "fitting the model...\n",
      "data size:  7569\n"
     ]
    },
    {
     "name": "stderr",
     "output_type": "stream",
     "text": [
      "2020-05-19 20:50:25.724 | INFO     | baselines.NN:fit:175 - Epoch [9/100], loss train: 0.0048, loss test  0.0088\n",
      "2020-05-19 20:50:26.039 | INFO     | baselines.NN:fit:175 - Epoch [19/100], loss train: 0.0061, loss test  0.0121\n",
      "2020-05-19 20:50:26.355 | INFO     | baselines.NN:fit:175 - Epoch [29/100], loss train: 0.0030, loss test  0.0091\n",
      "2020-05-19 20:50:26.670 | INFO     | baselines.NN:fit:175 - Epoch [39/100], loss train: 0.0075, loss test  0.0076\n",
      "2020-05-19 20:50:26.985 | INFO     | baselines.NN:fit:175 - Epoch [49/100], loss train: 0.0039, loss test  0.0082\n",
      "2020-05-19 20:50:27.302 | INFO     | baselines.NN:fit:175 - Epoch [59/100], loss train: 0.0036, loss test  0.0076\n",
      "2020-05-19 20:50:27.617 | INFO     | baselines.NN:fit:175 - Epoch [69/100], loss train: 0.0028, loss test  0.0120\n",
      "2020-05-19 20:50:27.933 | INFO     | baselines.NN:fit:175 - Epoch [79/100], loss train: 0.0041, loss test  0.0082\n",
      "2020-05-19 20:50:28.251 | INFO     | baselines.NN:fit:175 - Epoch [89/100], loss train: 0.0170, loss test  0.0094\n",
      "2020-05-19 20:50:28.567 | INFO     | baselines.NN:fit:175 - Epoch [99/100], loss train: 0.0017, loss test  0.0060\n"
     ]
    }
   ],
   "source": [
    "\"\"\"testing the model with MPC while training \"\"\"\n",
    "test_episode = 2\n",
    "test_epoch = 20\n",
    "log = []\n",
    "for ep in range(test_epoch):\n",
    "    print('epoch: ', ep)\n",
    "    for task_idx in range(total_tasks):\n",
    "        env = task[task_idx]\n",
    "        print('task: ', task_idx)\n",
    "        for epi in range(test_episode):\n",
    "            #print('episode: ', epi)\n",
    "            acc_reward = 0\n",
    "            obs = env.reset()\n",
    "            act_buf = np.zeros(max_delay_step+1)\n",
    "#             delay_step = np.random.randint(0,max_delay_step)\n",
    "            delay_step = 1\n",
    "\n",
    "            O, A, R, acc_reward, done = [], [], [], 0, False\n",
    "            mpc_controller.reset()\n",
    "            i = 0\n",
    "            while not done:\n",
    "                i+= 1\n",
    "\n",
    "                # env.render()\n",
    "                env_copy = prepare_dynamics(gym_config)[task_idx]\n",
    "                env_copy.reset()\n",
    "                \n",
    "                act_buf = act_buf[1:]\n",
    "                action = np.array([mpc_controller.act(task=env_copy, model=model, state=np.concatenate((obs, act_buf)))])\n",
    "                act_buf = np.concatenate((act_buf, action))\n",
    "                obs_next, reward, done, state_next = env.step([act_buf[-1-delay_step]])\n",
    "                model.data_process([0, np.concatenate((obs, act_buf[:-1])), action, np.concatenate((obs_next - obs, act_buf[1:]))])\n",
    "                \n",
    "#                 action = np.array([mpc_controller.act(task=env_copy, model=model, state=obs)])\n",
    "#                 obs_next, reward, done, state_next = env.step(action)\n",
    "                A.append(action)\n",
    "                O.append(state_next)\n",
    "                R.append(reward)\n",
    "\n",
    "                # append data but not training\n",
    "#                 model.data_process([0, obs, action, obs_next - obs])\n",
    "                obs = copy.deepcopy(obs_next)\n",
    "                acc_reward += reward\n",
    "                # logger.info('reward: {}', reward)\n",
    "                #time.sleep(0.1)\n",
    "            print('task: ', task_idx,'step: ', i, 'acc_reward: ', acc_reward)\n",
    "            env.close()\n",
    "\n",
    "            if done:\n",
    "                samples = {\n",
    "                    \"obs\": np.array(O),\n",
    "                    \"actions\": np.array(A),\n",
    "                    \"rewards\": np.array(R), \n",
    "                    \"reward_sum\": acc_reward,\n",
    "                }\n",
    "                print('******************')\n",
    "                print('acc_reward', acc_reward)\n",
    "                print('******************')\n",
    "                log.append(samples)\n",
    "                if log_name is None:\n",
    "                    log_name = datetime.datetime.now()\n",
    "                path = './misc/log/' + log_name.strftime(\"%d-%H-%M\") + '.npy'\n",
    "                np.save(path, log, allow_pickle=True)\n",
    "                dumb_reward_plot(path)\n",
    "\n",
    "        # use the collected date to train model\n",
    "        print('fitting the model...')\n",
    "        #model.n_epochs = 20\n",
    "        model.fit()"
   ]
  },
  {
   "cell_type": "code",
   "execution_count": 6,
   "metadata": {},
   "outputs": [],
   "source": [
    "    indices = list(range(1000))\n",
    "    np.random.shuffle(indices)\n",
    "    num_context = np.random.randint(10,100)\n",
    "    num_target = num_context + np.random.randint(0,100-num_context)\n",
    "    rand_ind_ctt, rand_ind_tgt = indices[:num_context], indices[:num_target]"
   ]
  },
  {
   "cell_type": "code",
   "execution_count": 9,
   "metadata": {},
   "outputs": [
    {
     "data": {
      "text/plain": [
       "tensor([4, 3, 7, 8, 2, 9, 6, 5, 0, 1])"
      ]
     },
     "execution_count": 9,
     "metadata": {},
     "output_type": "execute_result"
    }
   ],
   "source": [
    "import torch\n",
    "torch.randperm(10)"
   ]
  },
  {
   "cell_type": "code",
   "execution_count": 10,
   "metadata": {},
   "outputs": [
    {
     "data": {
      "text/plain": [
       "tensor([199, 138, 643, 754, 702, 874, 782, 494, 355,  24, 967, 670, 170, 471,\n",
       "        725, 315, 942, 720, 223, 966, 304, 129, 137, 646, 206, 865, 210, 738,\n",
       "        525,  66, 979, 787, 801, 831, 323, 929, 662, 827, 744, 361, 795, 622,\n",
       "        568,  14, 976, 469, 299, 669,  78, 908, 441, 179, 251, 811, 500, 724,\n",
       "        896, 444, 561, 642, 651,  17, 716, 969, 855, 205, 872, 794, 989, 166,\n",
       "         20, 885, 728, 727, 346, 685, 680, 417, 912, 110, 488, 577, 834, 848,\n",
       "        862, 352, 495, 609, 892, 455, 558,  83, 406])"
      ]
     },
     "execution_count": 10,
     "metadata": {},
     "output_type": "execute_result"
    }
   ],
   "source": [
    "torch.tensor(indices[:num_context])"
   ]
  },
  {
   "cell_type": "code",
   "execution_count": null,
   "metadata": {},
   "outputs": [],
   "source": []
  }
 ],
 "metadata": {
  "kernelspec": {
   "display_name": "Python 3",
   "language": "python",
   "name": "python3"
  },
  "language_info": {
   "codemirror_mode": {
    "name": "ipython",
    "version": 3
   },
   "file_extension": ".py",
   "mimetype": "text/x-python",
   "name": "python",
   "nbconvert_exporter": "python",
   "pygments_lexer": "ipython3",
   "version": "3.7.4"
  }
 },
 "nbformat": 4,
 "nbformat_minor": 2
}
