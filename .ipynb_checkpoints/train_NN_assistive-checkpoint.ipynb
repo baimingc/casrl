{
 "cells": [
  {
   "cell_type": "code",
   "execution_count": 1,
   "metadata": {},
   "outputs": [],
   "source": [
    "import time, datetime\n",
    "import copy\n",
    "import os\n",
    "import sys\n",
    "import warnings\n",
    "\n",
    "import numpy as np\n",
    "from loguru import logger\n",
    "import yaml\n",
    "from utils import dumb_reward_plot\n",
    "import gym\n",
    "import assistive_gym\n",
    "\n",
    "# sys.path.append('./envs/cartpole-envs')\n",
    "# sys.path.append('./')\n",
    "# import cartpole_envs\n",
    "#import highway_env\n",
    "os.environ[\"CUDA_VISIBLE_DEVICES\"]=\"1\"\n",
    "\n",
    "from utils import plot_reward, plot_index\n",
    "from mpc.mpc_ar import MPC\n",
    "from baselines.NN import NN\n",
    "\n",
    "\n",
    "def load_config(config_path=\"config.yml\"):\n",
    "    if os.path.isfile(config_path):\n",
    "        f = open(config_path)\n",
    "        return yaml.load(f, Loader=yaml.FullLoader)\n",
    "    else:\n",
    "        raise Exception(\"Configuration file is not found in the path: \"+config_path)"
   ]
  },
  {
   "cell_type": "code",
   "execution_count": 2,
   "metadata": {},
   "outputs": [
    {
     "name": "stderr",
     "output_type": "stream",
     "text": [
      "2020-08-06 13:41:40.114 | INFO     | __main__:<module>:12 - Using model: NN\n",
      "Using TensorFlow backend.\n",
      "/home/baiming/anaconda3/envs/robustnp/lib/python3.7/site-packages/gym/logger.py:30: UserWarning: \u001b[33mWARN: Box bound precision lowered by casting to float32\u001b[0m\n",
      "  warnings.warn(colorize('%s: %s'%('WARN', msg % args), 'yellow'))\n"
     ]
    },
    {
     "name": "stdout",
     "output_type": "stream",
     "text": [
      "WARNING:tensorflow:From /home/baiming/anaconda3/envs/robustnp/lib/python3.7/site-packages/tensorflow_core/python/ops/resource_variable_ops.py:1630: calling BaseResourceVariable.__init__ (from tensorflow.python.ops.resource_variable_ops) with constraint is deprecated and will be removed in a future version.\n",
      "Instructions for updating:\n",
      "If using Keras pass *_constraint arguments to layers.\n",
      "WARNING:tensorflow:From /home/baiming/anaconda3/envs/robustnp/lib/python3.7/site-packages/tensorflow_core/python/ops/nn_impl.py:183: where (from tensorflow.python.ops.array_ops) is deprecated and will be removed in a future version.\n",
      "Instructions for updating:\n",
      "Use tf.where in 2.0, which has the same broadcast rule as np.where\n",
      "WARNING:tensorflow:From /home/baiming/anaconda3/envs/robustnp/lib/python3.7/site-packages/keras/backend/tensorflow_backend.py:422: The name tf.global_variables is deprecated. Please use tf.compat.v1.global_variables instead.\n",
      "\n"
     ]
    }
   ],
   "source": [
    "config = load_config('config/config_assistant_robot_NN.yml')\n",
    "nn_config = config['NN_config']\n",
    "mpc_config = config['mpc_config']\n",
    "gym_config = config['gym_config']\n",
    "render = gym_config['render']\n",
    "\n",
    "# initialize the mixture model\n",
    "# model = DPGPMM(dpgp_config=dpgp_config)\n",
    "# model = SingleSparseGP(sparse_gp_config=sparse_gp_config)\n",
    "# model = SingleGP(gp_config=gp_config)\n",
    "model = NN(NN_config=nn_config)\n",
    "logger.info('Using model: {}', model.name)\n",
    "\n",
    "# initial MPC controller\n",
    "mpc_controller = MPC(mpc_config=mpc_config)\n",
    "\n",
    "# prepare task\n",
    "# the task is solved, if each dynamic is solved\n",
    "env = gym.make(\"FeedingJaco-v0\")"
   ]
  },
  {
   "cell_type": "code",
   "execution_count": 3,
   "metadata": {},
   "outputs": [
    {
     "data": {
      "text/plain": [
       "4.184782743063156e-06"
      ]
     },
     "execution_count": 3,
     "metadata": {},
     "output_type": "execute_result"
    }
   ],
   "source": [
    "\"\"\"NN pretrain\"\"\"\n",
    "pretrain_episodes = 5\n",
    "env = task[0]\n",
    "    # data collection\n",
    "for epi in range(pretrain_episodes):\n",
    "    obs = env.reset()\n",
    "    done = False\n",
    "    mpc_controller.reset()\n",
    "    while not done:\n",
    "        action = env.action_space.sample()\n",
    "        obs_next, reward, done, info = env.step(action)\n",
    "#             print(obs_next-obs)\n",
    "        model.data_process([0, obs, action, obs_next - obs])\n",
    "        obs = obs_next\n",
    "\n",
    "model.validation_flag = True\n",
    "model.fit()"
   ]
  },
  {
   "cell_type": "code",
   "execution_count": 4,
   "metadata": {
    "scrolled": true
   },
   "outputs": [
    {
     "name": "stdout",
     "output_type": "stream",
     "text": [
      "acc_reward:  -68.19825655038063 success_food 0 spilled_food 0 distance 0.2561280250870035\n",
      "acc_reward:  -70.30627476864638 success_food 0 spilled_food 1 distance 0.1733661710416217\n",
      "acc_reward:  -59.21552958954261 success_food 0 spilled_food 0 distance 0.2757339527978827\n",
      "acc_reward:  -36.745823508757766 success_food 0 spilled_food 0 distance 0.07449967062015891\n",
      "acc_reward:  123.0212225579175 success_food 8 spilled_food 0 distance 0.04317646487652565\n",
      "acc_reward:  -81.53894630293182 success_food 0 spilled_food 0 distance 0.28900916628133183\n",
      "acc_reward:  -55.71029148172108 success_food 0 spilled_food 0 distance 0.14226455954915773\n",
      "acc_reward:  -60.39396264415937 success_food 0 spilled_food 0 distance 0.315733812273367\n",
      "acc_reward:  -62.58080084553339 success_food 0 spilled_food 0 distance 0.08907128554552494\n",
      "acc_reward:  -113.52356029694312 success_food 0 spilled_food 0 distance 0.4231004368288077\n",
      "acc_reward:  -138.48288317605125 success_food 0 spilled_food 1 distance 0.5896166348930884\n",
      "acc_reward:  -73.3889703014388 success_food 0 spilled_food 0 distance 0.244143153278625\n",
      "acc_reward:  -128.88635910457074 success_food 0 spilled_food 8 distance 0.4566459546025132\n",
      "acc_reward:  -123.01692441766644 success_food 0 spilled_food 0 distance 0.5895990335465553\n",
      "acc_reward:  -109.74986973789979 success_food 0 spilled_food 0 distance 0.526556707541737\n",
      "acc_reward:  -124.58190492628712 success_food 0 spilled_food 0 distance 0.6750584193583261\n",
      "acc_reward:  -147.51647738011883 success_food 0 spilled_food 2 distance 0.6025900408904656\n",
      "acc_reward:  -116.00168587066824 success_food 0 spilled_food 8 distance 0.2855255130176769\n",
      "acc_reward:  -138.48834060103965 success_food 0 spilled_food 0 distance 0.7739572083995114\n",
      "acc_reward:  -109.44070125469149 success_food 0 spilled_food 0 distance 0.5405497579907356\n",
      "acc_reward:  -107.85932959237086 success_food 0 spilled_food 0 distance 0.5089768881895999\n",
      "acc_reward:  -108.3569003018021 success_food 0 spilled_food 0 distance 0.5082184802214198\n",
      "acc_reward:  -161.82078150931542 success_food 0 spilled_food 0 distance 0.8923257596269015\n",
      "acc_reward:  -100.00797894429658 success_food 0 spilled_food 0 distance 0.48529062271121265\n",
      "acc_reward:  -121.54852965496495 success_food 0 spilled_food 0 distance 0.5864331236753043\n",
      "acc_reward:  -156.5960200080977 success_food 0 spilled_food 0 distance 0.7810393365172313\n",
      "acc_reward:  -84.2685893399 success_food 0 spilled_food 0 distance 0.36024923313257406\n",
      "acc_reward:  -235.29400524710923 success_food 0 spilled_food 8 distance 1.2669364418531155\n",
      "acc_reward:  -121.42865152411088 success_food 0 spilled_food 0 distance 0.5605454635692594\n",
      "acc_reward:  -137.56642815668326 success_food 0 spilled_food 0 distance 0.6813625977803539\n",
      "acc_reward:  -85.94801976967926 success_food 0 spilled_food 0 distance 0.3242905368639667\n",
      "acc_reward:  -82.75408235113136 success_food 0 spilled_food 0 distance 0.3772844978479883\n",
      "acc_reward:  -122.71783500731077 success_food 0 spilled_food 4 distance 0.3883934271439473\n",
      "acc_reward:  -101.98355715242059 success_food 0 spilled_food 1 distance 0.3351803055402179\n",
      "acc_reward:  -117.50281441150463 success_food 0 spilled_food 0 distance 0.593984128382957\n",
      "acc_reward:  -75.1629076956491 success_food 0 spilled_food 0 distance 0.260491094204588\n",
      "acc_reward:  -130.9121626332747 success_food 0 spilled_food 0 distance 0.7587058609129811\n",
      "acc_reward:  -62.25595739123811 success_food 0 spilled_food 0 distance 0.22849702367683594\n",
      "acc_reward:  -110.85369417210816 success_food 0 spilled_food 0 distance 0.4838298727431003\n",
      "acc_reward:  -79.27195750843455 success_food 0 spilled_food 0 distance 0.2863338663192618\n",
      "acc_reward:  -90.09097264896755 success_food 0 spilled_food 0 distance 0.32290174914369346\n",
      "acc_reward:  -99.1262245764266 success_food 0 spilled_food 0 distance 0.45233489233443686\n",
      "acc_reward:  -105.61532782963742 success_food 0 spilled_food 7 distance 0.19528461495104016\n",
      "acc_reward:  -72.06950725528769 success_food 0 spilled_food 0 distance 0.16684051796451219\n",
      "acc_reward:  -96.55755710419528 success_food 0 spilled_food 0 distance 0.3870382058507049\n",
      "acc_reward:  -151.12122353585036 success_food 0 spilled_food 7 distance 0.51875514206512\n",
      "acc_reward:  106.71590160686618 success_food 8 spilled_food 0 distance 0.045141533516230035\n",
      "acc_reward:  -82.00499630295072 success_food 0 spilled_food 0 distance 0.380770454056391\n",
      "acc_reward:  -52.67250883006592 success_food 0 spilled_food 0 distance 0.11056334534310082\n",
      "acc_reward:  -51.02154088071704 success_food 0 spilled_food 0 distance 0.09399580220860052\n",
      "acc_reward:  -53.887985134395535 success_food 0 spilled_food 0 distance 0.16012690988365422\n",
      "acc_reward:  -57.41262355196351 success_food 0 spilled_food 0 distance 0.11818157391153172\n",
      "acc_reward:  -74.07186070516504 success_food 0 spilled_food 0 distance 0.2423942801328768\n",
      "acc_reward:  112.10485786407158 success_food 8 spilled_food 0 distance 0.04713482683405913\n",
      "acc_reward:  111.35075335385588 success_food 8 spilled_food 0 distance 0.04572942360016747\n",
      "acc_reward:  95.28662248415529 success_food 7 spilled_food 1 distance 0.04111697953349849\n",
      "acc_reward:  -44.594672134993985 success_food 0 spilled_food 0 distance 0.09361418062346384\n",
      "acc_reward:  -65.18159449196983 success_food 0 spilled_food 0 distance 0.13731402317689465\n",
      "acc_reward:  -61.283029268495966 success_food 0 spilled_food 0 distance 0.16273533176787522\n",
      "acc_reward:  -50.320206566289684 success_food 0 spilled_food 0 distance 0.11092888093104765\n",
      "acc_reward:  -99.46408208461402 success_food 0 spilled_food 0 distance 0.2335533689555817\n",
      "acc_reward:  -75.91199406762533 success_food 0 spilled_food 0 distance 0.2467048002268064\n",
      "acc_reward:  -62.21656890238363 success_food 0 spilled_food 0 distance 0.09624433524636457\n",
      "acc_reward:  -48.43188997686658 success_food 0 spilled_food 0 distance 0.1208219162542898\n",
      "acc_reward:  -139.02817520867742 success_food 0 spilled_food 0 distance 0.7142335764628244\n",
      "acc_reward:  112.48882708550468 success_food 8 spilled_food 0 distance 0.04696649365393824\n",
      "acc_reward:  118.38314662616646 success_food 8 spilled_food 0 distance 0.03772707265086329\n",
      "acc_reward:  -55.462454117991506 success_food 0 spilled_food 0 distance 0.10509424032077051\n",
      "acc_reward:  -124.3207087615209 success_food 0 spilled_food 0 distance 0.6854598085745899\n",
      "acc_reward:  -59.78977308724943 success_food 0 spilled_food 0 distance 0.1744449396868428\n",
      "acc_reward:  -94.76135211202012 success_food 0 spilled_food 0 distance 0.3938627740619362\n",
      "acc_reward:  -49.39002437196571 success_food 0 spilled_food 0 distance 0.07782066621976581\n",
      "acc_reward:  -61.70821490870751 success_food 0 spilled_food 2 distance 0.09745782134286456\n",
      "acc_reward:  -113.74888131005223 success_food 0 spilled_food 0 distance 0.5424904146988958\n",
      "acc_reward:  -91.1155123905075 success_food 0 spilled_food 0 distance 0.3133132068450187\n",
      "acc_reward:  -99.22759272944111 success_food 0 spilled_food 0 distance 0.3748925713145627\n"
     ]
    },
    {
     "ename": "KeyboardInterrupt",
     "evalue": "",
     "output_type": "error",
     "traceback": [
      "\u001b[0;31m-----------------------------------------------------------------------\u001b[0m",
      "\u001b[0;31mKeyboardInterrupt\u001b[0m                     Traceback (most recent call last)",
      "\u001b[0;32m<ipython-input-4-57fe24f6a139>\u001b[0m in \u001b[0;36m<module>\u001b[0;34m\u001b[0m\n\u001b[1;32m     22\u001b[0m \u001b[0;31m#         print(obs[-1])\u001b[0m\u001b[0;34m\u001b[0m\u001b[0;34m\u001b[0m\u001b[0;34m\u001b[0m\u001b[0m\n\u001b[1;32m     23\u001b[0m     \u001b[0mprint\u001b[0m\u001b[0;34m(\u001b[0m\u001b[0;34m'acc_reward: '\u001b[0m\u001b[0;34m,\u001b[0m \u001b[0macc_reward\u001b[0m\u001b[0;34m,\u001b[0m \u001b[0;34m'success_food'\u001b[0m\u001b[0;34m,\u001b[0m\u001b[0minfo\u001b[0m\u001b[0;34m[\u001b[0m\u001b[0;34m'task_success'\u001b[0m\u001b[0;34m]\u001b[0m\u001b[0;34m,\u001b[0m \u001b[0;34m'spilled_food'\u001b[0m\u001b[0;34m,\u001b[0m\u001b[0minfo\u001b[0m\u001b[0;34m[\u001b[0m\u001b[0;34m'spilled_food'\u001b[0m\u001b[0;34m]\u001b[0m\u001b[0;34m,\u001b[0m \u001b[0;34m'distance'\u001b[0m\u001b[0;34m,\u001b[0m \u001b[0mnp\u001b[0m\u001b[0;34m.\u001b[0m\u001b[0mlinalg\u001b[0m\u001b[0;34m.\u001b[0m\u001b[0mnorm\u001b[0m\u001b[0;34m(\u001b[0m\u001b[0mobs\u001b[0m\u001b[0;34m[\u001b[0m\u001b[0;36m6\u001b[0m\u001b[0;34m:\u001b[0m\u001b[0;36m9\u001b[0m\u001b[0;34m]\u001b[0m\u001b[0;34m)\u001b[0m\u001b[0;34m)\u001b[0m\u001b[0;34m\u001b[0m\u001b[0;34m\u001b[0m\u001b[0m\n\u001b[0;32m---> 24\u001b[0;31m     \u001b[0mmodel\u001b[0m\u001b[0;34m.\u001b[0m\u001b[0mfit\u001b[0m\u001b[0;34m(\u001b[0m\u001b[0;34m)\u001b[0m\u001b[0;34m\u001b[0m\u001b[0;34m\u001b[0m\u001b[0m\n\u001b[0m\u001b[1;32m     25\u001b[0m     \u001b[0;32mif\u001b[0m \u001b[0mepi\u001b[0m \u001b[0;34m%\u001b[0m \u001b[0msave_every\u001b[0m \u001b[0;34m==\u001b[0m \u001b[0;36m0\u001b[0m\u001b[0;34m:\u001b[0m\u001b[0;34m\u001b[0m\u001b[0;34m\u001b[0m\u001b[0m\n\u001b[1;32m     26\u001b[0m         \u001b[0mtorch\u001b[0m\u001b[0;34m.\u001b[0m\u001b[0msave\u001b[0m\u001b[0;34m(\u001b[0m\u001b[0mmodel\u001b[0m\u001b[0;34m.\u001b[0m\u001b[0mmodel\u001b[0m\u001b[0;34m.\u001b[0m\u001b[0mstate_dict\u001b[0m\u001b[0;34m(\u001b[0m\u001b[0;34m)\u001b[0m\u001b[0;34m,\u001b[0m \u001b[0;34m'./log/ar_nn_ju_{}.pth'\u001b[0m\u001b[0;34m.\u001b[0m\u001b[0mformat\u001b[0m\u001b[0;34m(\u001b[0m\u001b[0mepi\u001b[0m\u001b[0;34m)\u001b[0m\u001b[0;34m)\u001b[0m\u001b[0;34m\u001b[0m\u001b[0;34m\u001b[0m\u001b[0m\n",
      "\u001b[0;32m~/safe_meta_rl/baselines/NN.py\u001b[0m in \u001b[0;36mfit\u001b[0;34m(self, data)\u001b[0m\n\u001b[1;32m    176\u001b[0m \u001b[0;34m\u001b[0m\u001b[0m\n\u001b[1;32m    177\u001b[0m             \u001b[0;32mif\u001b[0m \u001b[0mself\u001b[0m\u001b[0;34m.\u001b[0m\u001b[0mvalidation_flag\u001b[0m \u001b[0;32mand\u001b[0m \u001b[0;34m(\u001b[0m\u001b[0mepoch\u001b[0m\u001b[0;34m+\u001b[0m\u001b[0;36m1\u001b[0m\u001b[0;34m)\u001b[0m \u001b[0;34m%\u001b[0m \u001b[0mself\u001b[0m\u001b[0;34m.\u001b[0m\u001b[0mvalidate_freq\u001b[0m \u001b[0;34m==\u001b[0m \u001b[0;36m0\u001b[0m\u001b[0;34m:\u001b[0m\u001b[0;34m\u001b[0m\u001b[0;34m\u001b[0m\u001b[0m\n\u001b[0;32m--> 178\u001b[0;31m                 \u001b[0mloss_test\u001b[0m \u001b[0;34m=\u001b[0m \u001b[0mself\u001b[0m\u001b[0;34m.\u001b[0m\u001b[0mvalidate_model\u001b[0m\u001b[0;34m(\u001b[0m\u001b[0mtest_loader\u001b[0m\u001b[0;34m)\u001b[0m\u001b[0;34m\u001b[0m\u001b[0;34m\u001b[0m\u001b[0m\n\u001b[0m\u001b[1;32m    179\u001b[0m                 \u001b[0;32mif\u001b[0m \u001b[0mbest_test_loss\u001b[0m \u001b[0;34m>\u001b[0m \u001b[0mloss_test\u001b[0m\u001b[0;34m:\u001b[0m\u001b[0;34m\u001b[0m\u001b[0;34m\u001b[0m\u001b[0m\n\u001b[1;32m    180\u001b[0m                     \u001b[0mbest_test_loss\u001b[0m \u001b[0;34m=\u001b[0m \u001b[0mloss_test\u001b[0m\u001b[0;34m\u001b[0m\u001b[0;34m\u001b[0m\u001b[0m\n",
      "\u001b[0;32m~/safe_meta_rl/baselines/NN.py\u001b[0m in \u001b[0;36mvalidate_model\u001b[0;34m(self, testloader)\u001b[0m\n\u001b[1;32m    187\u001b[0m     \u001b[0;32mdef\u001b[0m \u001b[0mvalidate_model\u001b[0m\u001b[0;34m(\u001b[0m\u001b[0mself\u001b[0m\u001b[0;34m,\u001b[0m \u001b[0mtestloader\u001b[0m\u001b[0;34m)\u001b[0m\u001b[0;34m:\u001b[0m\u001b[0;34m\u001b[0m\u001b[0;34m\u001b[0m\u001b[0m\n\u001b[1;32m    188\u001b[0m         \u001b[0mloss_list\u001b[0m \u001b[0;34m=\u001b[0m \u001b[0;34m[\u001b[0m\u001b[0;34m]\u001b[0m\u001b[0;34m\u001b[0m\u001b[0;34m\u001b[0m\u001b[0m\n\u001b[0;32m--> 189\u001b[0;31m         \u001b[0;32mfor\u001b[0m \u001b[0mdatas\u001b[0m\u001b[0;34m,\u001b[0m \u001b[0mlabels\u001b[0m \u001b[0;32min\u001b[0m \u001b[0mtestloader\u001b[0m\u001b[0;34m:\u001b[0m\u001b[0;34m\u001b[0m\u001b[0;34m\u001b[0m\u001b[0m\n\u001b[0m\u001b[1;32m    190\u001b[0m             \u001b[0moutputs\u001b[0m \u001b[0;34m=\u001b[0m \u001b[0mself\u001b[0m\u001b[0;34m.\u001b[0m\u001b[0mmodel\u001b[0m\u001b[0;34m(\u001b[0m\u001b[0mdatas\u001b[0m\u001b[0;34m)\u001b[0m\u001b[0;34m\u001b[0m\u001b[0;34m\u001b[0m\u001b[0m\n\u001b[1;32m    191\u001b[0m             \u001b[0mloss\u001b[0m \u001b[0;34m=\u001b[0m \u001b[0mself\u001b[0m\u001b[0;34m.\u001b[0m\u001b[0mcriterion\u001b[0m\u001b[0;34m(\u001b[0m\u001b[0moutputs\u001b[0m\u001b[0;34m,\u001b[0m \u001b[0mlabels\u001b[0m\u001b[0;34m)\u001b[0m\u001b[0;34m\u001b[0m\u001b[0;34m\u001b[0m\u001b[0m\n",
      "\u001b[0;32m~/anaconda3/envs/robustnp/lib/python3.7/site-packages/torch/utils/data/dataloader.py\u001b[0m in \u001b[0;36m__next__\u001b[0;34m(self)\u001b[0m\n\u001b[1;32m    343\u001b[0m \u001b[0;34m\u001b[0m\u001b[0m\n\u001b[1;32m    344\u001b[0m     \u001b[0;32mdef\u001b[0m \u001b[0m__next__\u001b[0m\u001b[0;34m(\u001b[0m\u001b[0mself\u001b[0m\u001b[0;34m)\u001b[0m\u001b[0;34m:\u001b[0m\u001b[0;34m\u001b[0m\u001b[0;34m\u001b[0m\u001b[0m\n\u001b[0;32m--> 345\u001b[0;31m         \u001b[0mdata\u001b[0m \u001b[0;34m=\u001b[0m \u001b[0mself\u001b[0m\u001b[0;34m.\u001b[0m\u001b[0m_next_data\u001b[0m\u001b[0;34m(\u001b[0m\u001b[0;34m)\u001b[0m\u001b[0;34m\u001b[0m\u001b[0;34m\u001b[0m\u001b[0m\n\u001b[0m\u001b[1;32m    346\u001b[0m         \u001b[0mself\u001b[0m\u001b[0;34m.\u001b[0m\u001b[0m_num_yielded\u001b[0m \u001b[0;34m+=\u001b[0m \u001b[0;36m1\u001b[0m\u001b[0;34m\u001b[0m\u001b[0;34m\u001b[0m\u001b[0m\n\u001b[1;32m    347\u001b[0m         \u001b[0;32mif\u001b[0m \u001b[0mself\u001b[0m\u001b[0;34m.\u001b[0m\u001b[0m_dataset_kind\u001b[0m \u001b[0;34m==\u001b[0m \u001b[0m_DatasetKind\u001b[0m\u001b[0;34m.\u001b[0m\u001b[0mIterable\u001b[0m \u001b[0;32mand\u001b[0m\u001b[0;31m \u001b[0m\u001b[0;31m\\\u001b[0m\u001b[0;34m\u001b[0m\u001b[0;34m\u001b[0m\u001b[0m\n",
      "\u001b[0;32m~/anaconda3/envs/robustnp/lib/python3.7/site-packages/torch/utils/data/dataloader.py\u001b[0m in \u001b[0;36m_next_data\u001b[0;34m(self)\u001b[0m\n\u001b[1;32m    383\u001b[0m     \u001b[0;32mdef\u001b[0m \u001b[0m_next_data\u001b[0m\u001b[0;34m(\u001b[0m\u001b[0mself\u001b[0m\u001b[0;34m)\u001b[0m\u001b[0;34m:\u001b[0m\u001b[0;34m\u001b[0m\u001b[0;34m\u001b[0m\u001b[0m\n\u001b[1;32m    384\u001b[0m         \u001b[0mindex\u001b[0m \u001b[0;34m=\u001b[0m \u001b[0mself\u001b[0m\u001b[0;34m.\u001b[0m\u001b[0m_next_index\u001b[0m\u001b[0;34m(\u001b[0m\u001b[0;34m)\u001b[0m  \u001b[0;31m# may raise StopIteration\u001b[0m\u001b[0;34m\u001b[0m\u001b[0;34m\u001b[0m\u001b[0m\n\u001b[0;32m--> 385\u001b[0;31m         \u001b[0mdata\u001b[0m \u001b[0;34m=\u001b[0m \u001b[0mself\u001b[0m\u001b[0;34m.\u001b[0m\u001b[0m_dataset_fetcher\u001b[0m\u001b[0;34m.\u001b[0m\u001b[0mfetch\u001b[0m\u001b[0;34m(\u001b[0m\u001b[0mindex\u001b[0m\u001b[0;34m)\u001b[0m  \u001b[0;31m# may raise StopIteration\u001b[0m\u001b[0;34m\u001b[0m\u001b[0;34m\u001b[0m\u001b[0m\n\u001b[0m\u001b[1;32m    386\u001b[0m         \u001b[0;32mif\u001b[0m \u001b[0mself\u001b[0m\u001b[0;34m.\u001b[0m\u001b[0m_pin_memory\u001b[0m\u001b[0;34m:\u001b[0m\u001b[0;34m\u001b[0m\u001b[0;34m\u001b[0m\u001b[0m\n\u001b[1;32m    387\u001b[0m             \u001b[0mdata\u001b[0m \u001b[0;34m=\u001b[0m \u001b[0m_utils\u001b[0m\u001b[0;34m.\u001b[0m\u001b[0mpin_memory\u001b[0m\u001b[0;34m.\u001b[0m\u001b[0mpin_memory\u001b[0m\u001b[0;34m(\u001b[0m\u001b[0mdata\u001b[0m\u001b[0;34m)\u001b[0m\u001b[0;34m\u001b[0m\u001b[0;34m\u001b[0m\u001b[0m\n",
      "\u001b[0;32m~/anaconda3/envs/robustnp/lib/python3.7/site-packages/torch/utils/data/_utils/fetch.py\u001b[0m in \u001b[0;36mfetch\u001b[0;34m(self, possibly_batched_index)\u001b[0m\n\u001b[1;32m     45\u001b[0m         \u001b[0;32melse\u001b[0m\u001b[0;34m:\u001b[0m\u001b[0;34m\u001b[0m\u001b[0;34m\u001b[0m\u001b[0m\n\u001b[1;32m     46\u001b[0m             \u001b[0mdata\u001b[0m \u001b[0;34m=\u001b[0m \u001b[0mself\u001b[0m\u001b[0;34m.\u001b[0m\u001b[0mdataset\u001b[0m\u001b[0;34m[\u001b[0m\u001b[0mpossibly_batched_index\u001b[0m\u001b[0;34m]\u001b[0m\u001b[0;34m\u001b[0m\u001b[0;34m\u001b[0m\u001b[0m\n\u001b[0;32m---> 47\u001b[0;31m         \u001b[0;32mreturn\u001b[0m \u001b[0mself\u001b[0m\u001b[0;34m.\u001b[0m\u001b[0mcollate_fn\u001b[0m\u001b[0;34m(\u001b[0m\u001b[0mdata\u001b[0m\u001b[0;34m)\u001b[0m\u001b[0;34m\u001b[0m\u001b[0;34m\u001b[0m\u001b[0m\n\u001b[0m",
      "\u001b[0;32m~/anaconda3/envs/robustnp/lib/python3.7/site-packages/torch/utils/data/_utils/collate.py\u001b[0m in \u001b[0;36mdefault_collate\u001b[0;34m(batch)\u001b[0m\n\u001b[1;32m     77\u001b[0m     \u001b[0;32melif\u001b[0m \u001b[0misinstance\u001b[0m\u001b[0;34m(\u001b[0m\u001b[0melem\u001b[0m\u001b[0;34m,\u001b[0m \u001b[0mcontainer_abcs\u001b[0m\u001b[0;34m.\u001b[0m\u001b[0mSequence\u001b[0m\u001b[0;34m)\u001b[0m\u001b[0;34m:\u001b[0m\u001b[0;34m\u001b[0m\u001b[0;34m\u001b[0m\u001b[0m\n\u001b[1;32m     78\u001b[0m         \u001b[0mtransposed\u001b[0m \u001b[0;34m=\u001b[0m \u001b[0mzip\u001b[0m\u001b[0;34m(\u001b[0m\u001b[0;34m*\u001b[0m\u001b[0mbatch\u001b[0m\u001b[0;34m)\u001b[0m\u001b[0;34m\u001b[0m\u001b[0;34m\u001b[0m\u001b[0m\n\u001b[0;32m---> 79\u001b[0;31m         \u001b[0;32mreturn\u001b[0m \u001b[0;34m[\u001b[0m\u001b[0mdefault_collate\u001b[0m\u001b[0;34m(\u001b[0m\u001b[0msamples\u001b[0m\u001b[0;34m)\u001b[0m \u001b[0;32mfor\u001b[0m \u001b[0msamples\u001b[0m \u001b[0;32min\u001b[0m \u001b[0mtransposed\u001b[0m\u001b[0;34m]\u001b[0m\u001b[0;34m\u001b[0m\u001b[0;34m\u001b[0m\u001b[0m\n\u001b[0m\u001b[1;32m     80\u001b[0m \u001b[0;34m\u001b[0m\u001b[0m\n\u001b[1;32m     81\u001b[0m     \u001b[0;32mraise\u001b[0m \u001b[0mTypeError\u001b[0m\u001b[0;34m(\u001b[0m\u001b[0mdefault_collate_err_msg_format\u001b[0m\u001b[0;34m.\u001b[0m\u001b[0mformat\u001b[0m\u001b[0;34m(\u001b[0m\u001b[0melem_type\u001b[0m\u001b[0;34m)\u001b[0m\u001b[0;34m)\u001b[0m\u001b[0;34m\u001b[0m\u001b[0;34m\u001b[0m\u001b[0m\n",
      "\u001b[0;32m~/anaconda3/envs/robustnp/lib/python3.7/site-packages/torch/utils/data/_utils/collate.py\u001b[0m in \u001b[0;36m<listcomp>\u001b[0;34m(.0)\u001b[0m\n\u001b[1;32m     77\u001b[0m     \u001b[0;32melif\u001b[0m \u001b[0misinstance\u001b[0m\u001b[0;34m(\u001b[0m\u001b[0melem\u001b[0m\u001b[0;34m,\u001b[0m \u001b[0mcontainer_abcs\u001b[0m\u001b[0;34m.\u001b[0m\u001b[0mSequence\u001b[0m\u001b[0;34m)\u001b[0m\u001b[0;34m:\u001b[0m\u001b[0;34m\u001b[0m\u001b[0;34m\u001b[0m\u001b[0m\n\u001b[1;32m     78\u001b[0m         \u001b[0mtransposed\u001b[0m \u001b[0;34m=\u001b[0m \u001b[0mzip\u001b[0m\u001b[0;34m(\u001b[0m\u001b[0;34m*\u001b[0m\u001b[0mbatch\u001b[0m\u001b[0;34m)\u001b[0m\u001b[0;34m\u001b[0m\u001b[0;34m\u001b[0m\u001b[0m\n\u001b[0;32m---> 79\u001b[0;31m         \u001b[0;32mreturn\u001b[0m \u001b[0;34m[\u001b[0m\u001b[0mdefault_collate\u001b[0m\u001b[0;34m(\u001b[0m\u001b[0msamples\u001b[0m\u001b[0;34m)\u001b[0m \u001b[0;32mfor\u001b[0m \u001b[0msamples\u001b[0m \u001b[0;32min\u001b[0m \u001b[0mtransposed\u001b[0m\u001b[0;34m]\u001b[0m\u001b[0;34m\u001b[0m\u001b[0;34m\u001b[0m\u001b[0m\n\u001b[0m\u001b[1;32m     80\u001b[0m \u001b[0;34m\u001b[0m\u001b[0m\n\u001b[1;32m     81\u001b[0m     \u001b[0;32mraise\u001b[0m \u001b[0mTypeError\u001b[0m\u001b[0;34m(\u001b[0m\u001b[0mdefault_collate_err_msg_format\u001b[0m\u001b[0;34m.\u001b[0m\u001b[0mformat\u001b[0m\u001b[0;34m(\u001b[0m\u001b[0melem_type\u001b[0m\u001b[0;34m)\u001b[0m\u001b[0;34m)\u001b[0m\u001b[0;34m\u001b[0m\u001b[0;34m\u001b[0m\u001b[0m\n",
      "\u001b[0;32m~/anaconda3/envs/robustnp/lib/python3.7/site-packages/torch/utils/data/_utils/collate.py\u001b[0m in \u001b[0;36mdefault_collate\u001b[0;34m(batch)\u001b[0m\n\u001b[1;32m     53\u001b[0m             \u001b[0mstorage\u001b[0m \u001b[0;34m=\u001b[0m \u001b[0melem\u001b[0m\u001b[0;34m.\u001b[0m\u001b[0mstorage\u001b[0m\u001b[0;34m(\u001b[0m\u001b[0;34m)\u001b[0m\u001b[0;34m.\u001b[0m\u001b[0m_new_shared\u001b[0m\u001b[0;34m(\u001b[0m\u001b[0mnumel\u001b[0m\u001b[0;34m)\u001b[0m\u001b[0;34m\u001b[0m\u001b[0;34m\u001b[0m\u001b[0m\n\u001b[1;32m     54\u001b[0m             \u001b[0mout\u001b[0m \u001b[0;34m=\u001b[0m \u001b[0melem\u001b[0m\u001b[0;34m.\u001b[0m\u001b[0mnew\u001b[0m\u001b[0;34m(\u001b[0m\u001b[0mstorage\u001b[0m\u001b[0;34m)\u001b[0m\u001b[0;34m\u001b[0m\u001b[0;34m\u001b[0m\u001b[0m\n\u001b[0;32m---> 55\u001b[0;31m         \u001b[0;32mreturn\u001b[0m \u001b[0mtorch\u001b[0m\u001b[0;34m.\u001b[0m\u001b[0mstack\u001b[0m\u001b[0;34m(\u001b[0m\u001b[0mbatch\u001b[0m\u001b[0;34m,\u001b[0m \u001b[0;36m0\u001b[0m\u001b[0;34m,\u001b[0m \u001b[0mout\u001b[0m\u001b[0;34m=\u001b[0m\u001b[0mout\u001b[0m\u001b[0;34m)\u001b[0m\u001b[0;34m\u001b[0m\u001b[0;34m\u001b[0m\u001b[0m\n\u001b[0m\u001b[1;32m     56\u001b[0m     \u001b[0;32melif\u001b[0m \u001b[0melem_type\u001b[0m\u001b[0;34m.\u001b[0m\u001b[0m__module__\u001b[0m \u001b[0;34m==\u001b[0m \u001b[0;34m'numpy'\u001b[0m \u001b[0;32mand\u001b[0m \u001b[0melem_type\u001b[0m\u001b[0;34m.\u001b[0m\u001b[0m__name__\u001b[0m \u001b[0;34m!=\u001b[0m \u001b[0;34m'str_'\u001b[0m\u001b[0;31m \u001b[0m\u001b[0;31m\\\u001b[0m\u001b[0;34m\u001b[0m\u001b[0;34m\u001b[0m\u001b[0m\n\u001b[1;32m     57\u001b[0m             \u001b[0;32mand\u001b[0m \u001b[0melem_type\u001b[0m\u001b[0;34m.\u001b[0m\u001b[0m__name__\u001b[0m \u001b[0;34m!=\u001b[0m \u001b[0;34m'string_'\u001b[0m\u001b[0;34m:\u001b[0m\u001b[0;34m\u001b[0m\u001b[0;34m\u001b[0m\u001b[0m\n",
      "\u001b[0;31mKeyboardInterrupt\u001b[0m: "
     ]
    }
   ],
   "source": [
    "import torch\n",
    "\"\"\"testing the model with MPC while training \"\"\"\n",
    "test_episode = 200\n",
    "save_every = 10\n",
    "log = []\n",
    "for epi in range(test_episode):\n",
    "    acc_reward = 0\n",
    "    obs = env.reset()\n",
    "    O, A, R, acc_reward, done = [], [], [], 0, False\n",
    "    mpc_controller.reset()\n",
    "    while not done:\n",
    "        action = mpc_controller.act(model=model, state=obs)\n",
    "        obs_next, reward, done, info = env.step(action)\n",
    "#         print(obs_next)\n",
    "        A.append(action)\n",
    "        O.append(obs_next)\n",
    "        R.append(reward)\n",
    "        # append data but not training\n",
    "        model.data_process([0, obs, action, obs_next - obs])\n",
    "        obs = obs_next\n",
    "        acc_reward += reward\n",
    "#         print(obs[-1])\n",
    "    print('acc_reward: ', acc_reward, 'success_food',info['task_success'], 'spilled_food',info['spilled_food'], 'distance', np.linalg.norm(obs[6:9]))\n",
    "    model.fit()\n",
    "    if epi % save_every == 0:\n",
    "        torch.save(model.model.state_dict(), './log/ar_nn_ju_{}.pth'.format(epi))\n",
    "\n",
    "#     if done:\n",
    "#         samples = {\n",
    "#             \"obs\": np.array(O),\n",
    "#             \"actions\": np.array(A),\n",
    "#             \"rewards\": np.array(R), \n",
    "#             \"reward_sum\": acc_reward,\n",
    "#         }\n",
    "#         log.append(samples)\n",
    "#         if log_name is None:\n",
    "#             log_name = datetime.datetime.now()\n",
    "#         path = './misc/log/' + log_name.strftime(\"%d-%H-%M\") + '.npy'\n",
    "#         np.save(path, log, allow_pickle=True)\n",
    "#         dumb_reward_plot(path)\n",
    "\n",
    "\n"
   ]
  },
  {
   "cell_type": "code",
   "execution_count": null,
   "metadata": {},
   "outputs": [],
   "source": [
    "import torch\n",
    "torch.save(model.model.state_dict(), 'ar_nn.pth')"
   ]
  },
  {
   "cell_type": "code",
   "execution_count": null,
   "metadata": {},
   "outputs": [],
   "source": [
    "np.linalg.norm(tt, axis=1)"
   ]
  },
  {
   "cell_type": "code",
   "execution_count": null,
   "metadata": {},
   "outputs": [],
   "source": [
    "6 * 500 * 500 *  5"
   ]
  },
  {
   "cell_type": "code",
   "execution_count": null,
   "metadata": {},
   "outputs": [],
   "source": [
    "30 * 500 * 500 *  23"
   ]
  },
  {
   "cell_type": "code",
   "execution_count": null,
   "metadata": {},
   "outputs": [],
   "source": [
    "500 * 23"
   ]
  },
  {
   "cell_type": "code",
   "execution_count": null,
   "metadata": {},
   "outputs": [],
   "source": [
    "model\n"
   ]
  },
  {
   "cell_type": "code",
   "execution_count": null,
   "metadata": {},
   "outputs": [],
   "source": []
  }
 ],
 "metadata": {
  "kernelspec": {
   "display_name": "Python 3",
   "language": "python",
   "name": "python3"
  },
  "language_info": {
   "codemirror_mode": {
    "name": "ipython",
    "version": 3
   },
   "file_extension": ".py",
   "mimetype": "text/x-python",
   "name": "python",
   "nbconvert_exporter": "python",
   "pygments_lexer": "ipython3",
   "version": "3.7.7"
  }
 },
 "nbformat": 4,
 "nbformat_minor": 2
}
